{
 "cells": [
  {
   "cell_type": "code",
   "execution_count": 1,
   "metadata": {},
   "outputs": [
    {
     "name": "stderr",
     "output_type": "stream",
     "text": [
      "/Users/Felix/anaconda/envs/py36/lib/python3.6/site-packages/sklearn/cross_validation.py:41: DeprecationWarning: This module was deprecated in version 0.18 in favor of the model_selection module into which all the refactored classes and functions are moved. Also note that the interface of the new CV iterators are different from that of this module. This module will be removed in 0.20.\n",
      "  \"This module will be removed in 0.20.\", DeprecationWarning)\n",
      "/Users/Felix/anaconda/envs/py36/lib/python3.6/site-packages/sklearn/grid_search.py:42: DeprecationWarning: This module was deprecated in version 0.18 in favor of the model_selection module into which all the refactored classes and functions are moved. This module will be removed in 0.20.\n",
      "  DeprecationWarning)\n"
     ]
    }
   ],
   "source": [
    "import pandas as pd\n",
    "import matplotlib.pyplot as plt\n",
    "import numpy as np\n",
    "%matplotlib inline\n",
    "import gensim\n",
    "from IPython.display import display\n",
    "import re\n",
    "import seaborn as sns\n",
    "import random\n",
    "import nltk\n",
    "from collections import Counter\n",
    "from nltk.corpus import stopwords\n",
    "from sklearn.decomposition import PCA\n",
    "from sklearn.feature_extraction.text import CountVectorizer\n",
    "from nltk.stem.porter import PorterStemmer\n",
    "import spacy\n",
    "from sklearn.ensemble import RandomForestClassifier\n",
    "from sklearn.grid_search import GridSearchCV\n",
    "from sklearn.model_selection import train_test_split\n",
    "\n",
    "\n",
    "grid = {'n_estimators':      [50, 60, 80],\n",
    "          'min_samples_leaf': [2, 4, 7, 10],\n",
    "          'min_samples_split': [3, 5, 7, 9]}"
   ]
  },
  {
   "cell_type": "markdown",
   "metadata": {},
   "source": [
    "Please note: Normally, we would use all word vectors (and ignore the `limit` parameter). However, I limited the number of used vectors because my current Laptop has very little RAM."
   ]
  },
  {
   "cell_type": "code",
   "execution_count": 26,
   "metadata": {},
   "outputs": [
    {
     "data": {
      "text/html": [
       "<div>\n",
       "<style scoped>\n",
       "    .dataframe tbody tr th:only-of-type {\n",
       "        vertical-align: middle;\n",
       "    }\n",
       "\n",
       "    .dataframe tbody tr th {\n",
       "        vertical-align: top;\n",
       "    }\n",
       "\n",
       "    .dataframe thead th {\n",
       "        text-align: right;\n",
       "    }\n",
       "</style>\n",
       "<table border=\"1\" class=\"dataframe\">\n",
       "  <thead>\n",
       "    <tr style=\"text-align: right;\">\n",
       "      <th></th>\n",
       "      <th>type</th>\n",
       "      <th>posts</th>\n",
       "    </tr>\n",
       "  </thead>\n",
       "  <tbody>\n",
       "    <tr>\n",
       "      <th>0</th>\n",
       "      <td>INFJ</td>\n",
       "      <td>'http://www.youtube.com/watch?v=qsXHcwe3krw|||...</td>\n",
       "    </tr>\n",
       "    <tr>\n",
       "      <th>1</th>\n",
       "      <td>ENTP</td>\n",
       "      <td>'I'm finding the lack of me in these posts ver...</td>\n",
       "    </tr>\n",
       "    <tr>\n",
       "      <th>2</th>\n",
       "      <td>INTP</td>\n",
       "      <td>'Good one  _____   https://www.youtube.com/wat...</td>\n",
       "    </tr>\n",
       "    <tr>\n",
       "      <th>3</th>\n",
       "      <td>INTJ</td>\n",
       "      <td>'Dear INTP,   I enjoyed our conversation the o...</td>\n",
       "    </tr>\n",
       "    <tr>\n",
       "      <th>4</th>\n",
       "      <td>ENTJ</td>\n",
       "      <td>'You're fired.|||That's another silly misconce...</td>\n",
       "    </tr>\n",
       "    <tr>\n",
       "      <th>5</th>\n",
       "      <td>INTJ</td>\n",
       "      <td>'18/37 @.@|||Science  is not perfect. No scien...</td>\n",
       "    </tr>\n",
       "    <tr>\n",
       "      <th>6</th>\n",
       "      <td>INFJ</td>\n",
       "      <td>'No, I can't draw on my own nails (haha). Thos...</td>\n",
       "    </tr>\n",
       "    <tr>\n",
       "      <th>7</th>\n",
       "      <td>INTJ</td>\n",
       "      <td>'I tend to build up a collection of things on ...</td>\n",
       "    </tr>\n",
       "    <tr>\n",
       "      <th>8</th>\n",
       "      <td>INFJ</td>\n",
       "      <td>I'm not sure, that's a good question. The dist...</td>\n",
       "    </tr>\n",
       "    <tr>\n",
       "      <th>9</th>\n",
       "      <td>INTP</td>\n",
       "      <td>'https://www.youtube.com/watch?v=w8-egj0y8Qs||...</td>\n",
       "    </tr>\n",
       "    <tr>\n",
       "      <th>10</th>\n",
       "      <td>INFJ</td>\n",
       "      <td>'One time my parents were fighting over my dad...</td>\n",
       "    </tr>\n",
       "    <tr>\n",
       "      <th>11</th>\n",
       "      <td>ENFJ</td>\n",
       "      <td>'https://www.youtube.com/watch?v=PLAaiKvHvZs||...</td>\n",
       "    </tr>\n",
       "    <tr>\n",
       "      <th>12</th>\n",
       "      <td>INFJ</td>\n",
       "      <td>'Joe santagato - ENTP|||ENFJ or  ENTP?   I'm n...</td>\n",
       "    </tr>\n",
       "    <tr>\n",
       "      <th>13</th>\n",
       "      <td>INTJ</td>\n",
       "      <td>'Fair enough, if that's how you want to look a...</td>\n",
       "    </tr>\n",
       "    <tr>\n",
       "      <th>14</th>\n",
       "      <td>INTP</td>\n",
       "      <td>'Basically this...  https://youtu.be/1pH5c1Jkh...</td>\n",
       "    </tr>\n",
       "    <tr>\n",
       "      <th>15</th>\n",
       "      <td>INTP</td>\n",
       "      <td>'Your comment screams INTJ, bro. Especially th...</td>\n",
       "    </tr>\n",
       "    <tr>\n",
       "      <th>16</th>\n",
       "      <td>INFJ</td>\n",
       "      <td>'some of these both excite and calm me:  BUTTS...</td>\n",
       "    </tr>\n",
       "    <tr>\n",
       "      <th>17</th>\n",
       "      <td>INFP</td>\n",
       "      <td>'I think we do agree. I personally don't consi...</td>\n",
       "    </tr>\n",
       "    <tr>\n",
       "      <th>18</th>\n",
       "      <td>INFJ</td>\n",
       "      <td>'I fully believe in the power of being a prote...</td>\n",
       "    </tr>\n",
       "    <tr>\n",
       "      <th>19</th>\n",
       "      <td>INFP</td>\n",
       "      <td>'That's normal, it happens also to me. If I am...</td>\n",
       "    </tr>\n",
       "    <tr>\n",
       "      <th>20</th>\n",
       "      <td>INTP</td>\n",
       "      <td>'Steve Job's was recognized for his striving f...</td>\n",
       "    </tr>\n",
       "    <tr>\n",
       "      <th>21</th>\n",
       "      <td>INFJ</td>\n",
       "      <td>'It is very annoying to be misinterpreted. Esp...</td>\n",
       "    </tr>\n",
       "    <tr>\n",
       "      <th>22</th>\n",
       "      <td>ENTJ</td>\n",
       "      <td>'Now I'm interested. But too lazy to go resear...</td>\n",
       "    </tr>\n",
       "    <tr>\n",
       "      <th>23</th>\n",
       "      <td>INFP</td>\n",
       "      <td>'45016 urh sorry uh. couldn't resist.|||all of...</td>\n",
       "    </tr>\n",
       "    <tr>\n",
       "      <th>24</th>\n",
       "      <td>ENTJ</td>\n",
       "      <td>'Still going strong at just over the two year ...</td>\n",
       "    </tr>\n",
       "    <tr>\n",
       "      <th>25</th>\n",
       "      <td>INFP</td>\n",
       "      <td>'Personally, I was thinking this would be more...</td>\n",
       "    </tr>\n",
       "    <tr>\n",
       "      <th>26</th>\n",
       "      <td>ENFP</td>\n",
       "      <td>'He doesn't want to go on the trip without me,...</td>\n",
       "    </tr>\n",
       "    <tr>\n",
       "      <th>27</th>\n",
       "      <td>ISFP</td>\n",
       "      <td>'They paint without numbers|||I'd guess at ist...</td>\n",
       "    </tr>\n",
       "    <tr>\n",
       "      <th>28</th>\n",
       "      <td>INFP</td>\n",
       "      <td>'Basically, my main questions are : What do yo...</td>\n",
       "    </tr>\n",
       "    <tr>\n",
       "      <th>29</th>\n",
       "      <td>INFJ</td>\n",
       "      <td>'I think that that can absolutely be true of i...</td>\n",
       "    </tr>\n",
       "    <tr>\n",
       "      <th>...</th>\n",
       "      <td>...</td>\n",
       "      <td>...</td>\n",
       "    </tr>\n",
       "    <tr>\n",
       "      <th>8645</th>\n",
       "      <td>INFJ</td>\n",
       "      <td>'I play cello, and I'm also a classically trai...</td>\n",
       "    </tr>\n",
       "    <tr>\n",
       "      <th>8646</th>\n",
       "      <td>INFP</td>\n",
       "      <td>Its more or less based on how YOU experienced ...</td>\n",
       "    </tr>\n",
       "    <tr>\n",
       "      <th>8647</th>\n",
       "      <td>INTP</td>\n",
       "      <td>Socionics picked up on this.  They call it vis...</td>\n",
       "    </tr>\n",
       "    <tr>\n",
       "      <th>8648</th>\n",
       "      <td>INFP</td>\n",
       "      <td>'Good advice, thank you.|||I am in a tough sit...</td>\n",
       "    </tr>\n",
       "    <tr>\n",
       "      <th>8649</th>\n",
       "      <td>INFP</td>\n",
       "      <td>https://www.youtube.com/watch?v=nPDusM-75FE  e...</td>\n",
       "    </tr>\n",
       "    <tr>\n",
       "      <th>8650</th>\n",
       "      <td>INFJ</td>\n",
       "      <td>'I think the real question is whether INFJs ca...</td>\n",
       "    </tr>\n",
       "    <tr>\n",
       "      <th>8651</th>\n",
       "      <td>ISTP</td>\n",
       "      <td>'-Being alone -Being insensitive  -Over thinki...</td>\n",
       "    </tr>\n",
       "    <tr>\n",
       "      <th>8652</th>\n",
       "      <td>ISFJ</td>\n",
       "      <td>'Being assertive and standing up for myself is...</td>\n",
       "    </tr>\n",
       "    <tr>\n",
       "      <th>8653</th>\n",
       "      <td>INFP</td>\n",
       "      <td>'You should do whatever it is you want. If you...</td>\n",
       "    </tr>\n",
       "    <tr>\n",
       "      <th>8654</th>\n",
       "      <td>ISTJ</td>\n",
       "      <td>'Assuming I had a hand in it, I always at leas...</td>\n",
       "    </tr>\n",
       "    <tr>\n",
       "      <th>8655</th>\n",
       "      <td>INFJ</td>\n",
       "      <td>'I find that poster and your facial expression...</td>\n",
       "    </tr>\n",
       "    <tr>\n",
       "      <th>8656</th>\n",
       "      <td>INFJ</td>\n",
       "      <td>Rim  In some approximate order, it seems like ...</td>\n",
       "    </tr>\n",
       "    <tr>\n",
       "      <th>8657</th>\n",
       "      <td>INTJ</td>\n",
       "      <td>Social  1) Generally, I positively associate w...</td>\n",
       "    </tr>\n",
       "    <tr>\n",
       "      <th>8658</th>\n",
       "      <td>ESFJ</td>\n",
       "      <td>'Don't worry, I do that too when a car comes c...</td>\n",
       "    </tr>\n",
       "    <tr>\n",
       "      <th>8659</th>\n",
       "      <td>ENFP</td>\n",
       "      <td>'leoni I had really bad social anxiety until I...</td>\n",
       "    </tr>\n",
       "    <tr>\n",
       "      <th>8660</th>\n",
       "      <td>INFP</td>\n",
       "      <td>'I love the vastness of the sky, because my pr...</td>\n",
       "    </tr>\n",
       "    <tr>\n",
       "      <th>8661</th>\n",
       "      <td>ENTP</td>\n",
       "      <td>'**haven't logged in and read posts for over 6...</td>\n",
       "    </tr>\n",
       "    <tr>\n",
       "      <th>8662</th>\n",
       "      <td>INTJ</td>\n",
       "      <td>'I can't say I have any one specific belief. I...</td>\n",
       "    </tr>\n",
       "    <tr>\n",
       "      <th>8663</th>\n",
       "      <td>INTP</td>\n",
       "      <td>'doesn't matter, you don't have a choice, Elec...</td>\n",
       "    </tr>\n",
       "    <tr>\n",
       "      <th>8664</th>\n",
       "      <td>INTP</td>\n",
       "      <td>'https://www.youtube.com/watch?v=7zsMdi714mI||...</td>\n",
       "    </tr>\n",
       "    <tr>\n",
       "      <th>8665</th>\n",
       "      <td>ENTP</td>\n",
       "      <td>'This test wasn't even close on my gender, age...</td>\n",
       "    </tr>\n",
       "    <tr>\n",
       "      <th>8666</th>\n",
       "      <td>INTJ</td>\n",
       "      <td>'Highly recommend this to those who wants to t...</td>\n",
       "    </tr>\n",
       "    <tr>\n",
       "      <th>8667</th>\n",
       "      <td>ENTP</td>\n",
       "      <td>'I think generally people experience post trau...</td>\n",
       "    </tr>\n",
       "    <tr>\n",
       "      <th>8668</th>\n",
       "      <td>INTJ</td>\n",
       "      <td>'Here's a planned stress relieving activity th...</td>\n",
       "    </tr>\n",
       "    <tr>\n",
       "      <th>8669</th>\n",
       "      <td>INFJ</td>\n",
       "      <td>'I'm not sure about a method for picking out I...</td>\n",
       "    </tr>\n",
       "    <tr>\n",
       "      <th>8670</th>\n",
       "      <td>ISFP</td>\n",
       "      <td>'https://www.youtube.com/watch?v=t8edHB_h908||...</td>\n",
       "    </tr>\n",
       "    <tr>\n",
       "      <th>8671</th>\n",
       "      <td>ENFP</td>\n",
       "      <td>'So...if this thread already exists someplace ...</td>\n",
       "    </tr>\n",
       "    <tr>\n",
       "      <th>8672</th>\n",
       "      <td>INTP</td>\n",
       "      <td>'So many questions when i do these things.  I ...</td>\n",
       "    </tr>\n",
       "    <tr>\n",
       "      <th>8673</th>\n",
       "      <td>INFP</td>\n",
       "      <td>'I am very conflicted right now when it comes ...</td>\n",
       "    </tr>\n",
       "    <tr>\n",
       "      <th>8674</th>\n",
       "      <td>INFP</td>\n",
       "      <td>'It has been too long since I have been on per...</td>\n",
       "    </tr>\n",
       "  </tbody>\n",
       "</table>\n",
       "<p>8675 rows × 2 columns</p>\n",
       "</div>"
      ],
      "text/plain": [
       "      type                                              posts\n",
       "0     INFJ  'http://www.youtube.com/watch?v=qsXHcwe3krw|||...\n",
       "1     ENTP  'I'm finding the lack of me in these posts ver...\n",
       "2     INTP  'Good one  _____   https://www.youtube.com/wat...\n",
       "3     INTJ  'Dear INTP,   I enjoyed our conversation the o...\n",
       "4     ENTJ  'You're fired.|||That's another silly misconce...\n",
       "5     INTJ  '18/37 @.@|||Science  is not perfect. No scien...\n",
       "6     INFJ  'No, I can't draw on my own nails (haha). Thos...\n",
       "7     INTJ  'I tend to build up a collection of things on ...\n",
       "8     INFJ  I'm not sure, that's a good question. The dist...\n",
       "9     INTP  'https://www.youtube.com/watch?v=w8-egj0y8Qs||...\n",
       "10    INFJ  'One time my parents were fighting over my dad...\n",
       "11    ENFJ  'https://www.youtube.com/watch?v=PLAaiKvHvZs||...\n",
       "12    INFJ  'Joe santagato - ENTP|||ENFJ or  ENTP?   I'm n...\n",
       "13    INTJ  'Fair enough, if that's how you want to look a...\n",
       "14    INTP  'Basically this...  https://youtu.be/1pH5c1Jkh...\n",
       "15    INTP  'Your comment screams INTJ, bro. Especially th...\n",
       "16    INFJ  'some of these both excite and calm me:  BUTTS...\n",
       "17    INFP  'I think we do agree. I personally don't consi...\n",
       "18    INFJ  'I fully believe in the power of being a prote...\n",
       "19    INFP  'That's normal, it happens also to me. If I am...\n",
       "20    INTP  'Steve Job's was recognized for his striving f...\n",
       "21    INFJ  'It is very annoying to be misinterpreted. Esp...\n",
       "22    ENTJ  'Now I'm interested. But too lazy to go resear...\n",
       "23    INFP  '45016 urh sorry uh. couldn't resist.|||all of...\n",
       "24    ENTJ  'Still going strong at just over the two year ...\n",
       "25    INFP  'Personally, I was thinking this would be more...\n",
       "26    ENFP  'He doesn't want to go on the trip without me,...\n",
       "27    ISFP  'They paint without numbers|||I'd guess at ist...\n",
       "28    INFP  'Basically, my main questions are : What do yo...\n",
       "29    INFJ  'I think that that can absolutely be true of i...\n",
       "...    ...                                                ...\n",
       "8645  INFJ  'I play cello, and I'm also a classically trai...\n",
       "8646  INFP  Its more or less based on how YOU experienced ...\n",
       "8647  INTP  Socionics picked up on this.  They call it vis...\n",
       "8648  INFP  'Good advice, thank you.|||I am in a tough sit...\n",
       "8649  INFP  https://www.youtube.com/watch?v=nPDusM-75FE  e...\n",
       "8650  INFJ  'I think the real question is whether INFJs ca...\n",
       "8651  ISTP  '-Being alone -Being insensitive  -Over thinki...\n",
       "8652  ISFJ  'Being assertive and standing up for myself is...\n",
       "8653  INFP  'You should do whatever it is you want. If you...\n",
       "8654  ISTJ  'Assuming I had a hand in it, I always at leas...\n",
       "8655  INFJ  'I find that poster and your facial expression...\n",
       "8656  INFJ  Rim  In some approximate order, it seems like ...\n",
       "8657  INTJ  Social  1) Generally, I positively associate w...\n",
       "8658  ESFJ  'Don't worry, I do that too when a car comes c...\n",
       "8659  ENFP  'leoni I had really bad social anxiety until I...\n",
       "8660  INFP  'I love the vastness of the sky, because my pr...\n",
       "8661  ENTP  '**haven't logged in and read posts for over 6...\n",
       "8662  INTJ  'I can't say I have any one specific belief. I...\n",
       "8663  INTP  'doesn't matter, you don't have a choice, Elec...\n",
       "8664  INTP  'https://www.youtube.com/watch?v=7zsMdi714mI||...\n",
       "8665  ENTP  'This test wasn't even close on my gender, age...\n",
       "8666  INTJ  'Highly recommend this to those who wants to t...\n",
       "8667  ENTP  'I think generally people experience post trau...\n",
       "8668  INTJ  'Here's a planned stress relieving activity th...\n",
       "8669  INFJ  'I'm not sure about a method for picking out I...\n",
       "8670  ISFP  'https://www.youtube.com/watch?v=t8edHB_h908||...\n",
       "8671  ENFP  'So...if this thread already exists someplace ...\n",
       "8672  INTP  'So many questions when i do these things.  I ...\n",
       "8673  INFP  'I am very conflicted right now when it comes ...\n",
       "8674  INFP  'It has been too long since I have been on per...\n",
       "\n",
       "[8675 rows x 2 columns]"
      ]
     },
     "metadata": {},
     "output_type": "display_data"
    }
   ],
   "source": [
    "model = gensim.models.KeyedVectors.load_word2vec_format('./data/GoogleNews-vectors-negative300.bin', limit=1200000, binary=True)  \n",
    "\n",
    "data = pd.read_csv(\"data/mbti.csv\")\n",
    "display(data)"
   ]
  },
  {
   "cell_type": "code",
   "execution_count": 3,
   "metadata": {
    "collapsed": true
   },
   "outputs": [],
   "source": [
    "def get_types():\n",
    "    types = dict()\n",
    "    types[\"extro\"] = data[data[\"type\"].astype(str).str[0] == \"E\"]\n",
    "    types[\"intro\"] = data[data[\"type\"].astype(str).str[0] == \"I\"]\n",
    "    types[\"intu\"] = data[data[\"type\"].astype(str).str[1]  == \"N\"]\n",
    "    types[\"sens\"] = data[data[\"type\"].astype(str).str[1]  == \"S\"]\n",
    "    types[\"thnk\"] = data[data[\"type\"].astype(str).str[2]  == \"T\"]\n",
    "    types[\"feel\"] = data[data[\"type\"].astype(str).str[2]  == \"F\"]\n",
    "    types[\"prcp\"] = data[data[\"type\"].astype(str).str[3]  == \"P\"]\n",
    "    types[\"judg\"] = data[data[\"type\"].astype(str).str[3]  == \"J\"]\n",
    "    return types"
   ]
  },
  {
   "cell_type": "code",
   "execution_count": 4,
   "metadata": {},
   "outputs": [
    {
     "name": "stdout",
     "output_type": "stream",
     "text": [
      "extro:\t1999\n",
      "intro:\t6676\n",
      "intu:\t7478\n",
      "sens:\t1197\n",
      "thnk:\t3981\n",
      "feel:\t4694\n",
      "prcp:\t5241\n",
      "judg:\t3434\n"
     ]
    }
   ],
   "source": [
    "types = get_types()\n",
    "for t in types:\n",
    "    print(\"{}:\\t{}\".format(t, len(types[t])))"
   ]
  },
  {
   "cell_type": "code",
   "execution_count": 14,
   "metadata": {
    "collapsed": true
   },
   "outputs": [],
   "source": [
    "def draw_pie_chart(type1, type2, label1, label2):\n",
    "    labels = [label1, label2]\n",
    "    sizes = [len(types[type1]), len(types[type2])]\n",
    "    fig1, ax1 = plt.subplots()\n",
    "    ax1.pie(sizes, labels=labels, autopct='%1.1f%%', shadow=True, startangle=90)\n",
    "    ax1.axis('equal')  # Equal aspect ratio ensures that pie is drawn as a circle.\n",
    "    plt.show()"
   ]
  },
  {
   "cell_type": "code",
   "execution_count": 15,
   "metadata": {},
   "outputs": [
    {
     "data": {
      "image/png": "[encoded data removed]",
      "text/plain": [
       "<matplotlib.figure.Figure at 0x17ea02ef0>"
      ]
     },
     "metadata": {},
     "output_type": "display_data"
    }
   ],
   "source": [
    "draw_pie_chart(\"extro\", \"intro\", \"Extroverted\", \"Introverted\")"
   ]
  },
  {
   "cell_type": "code",
   "execution_count": 16,
   "metadata": {},
   "outputs": [
    {
     "data": {
      "image/png": "[encoded data removed]",
      "text/plain": [
       "<matplotlib.figure.Figure at 0x17e97cd68>"
      ]
     },
     "metadata": {},
     "output_type": "display_data"
    }
   ],
   "source": [
    "draw_pie_chart(\"intu\", \"sens\", \"Intuition\", \"Sense\")"
   ]
  },
  {
   "cell_type": "code",
   "execution_count": 17,
   "metadata": {},
   "outputs": [
    {
     "data": {
      "image/png": "[encoded data removed]",
      "text/plain": [
       "<matplotlib.figure.Figure at 0x17ead4160>"
      ]
     },
     "metadata": {},
     "output_type": "display_data"
    }
   ],
   "source": [
    "draw_pie_chart(\"thnk\", \"feel\", \"Thinking\", \"Feeling\")"
   ]
  },
  {
   "cell_type": "code",
   "execution_count": 19,
   "metadata": {},
   "outputs": [
    {
     "data": {
      "image/png": "[encoded data removed]",
      "text/plain": [
       "<matplotlib.figure.Figure at 0x17eb02cf8>"
      ]
     },
     "metadata": {},
     "output_type": "display_data"
    }
   ],
   "source": [
    "draw_pie_chart(\"judg\", \"prcp\", \"Judging\", \"Perceiving\")"
   ]
  },
  {
   "cell_type": "code",
   "execution_count": 20,
   "metadata": {},
   "outputs": [
    {
     "data": {
      "image/png": "[encoded data removed]",
      "text/plain": [
       "<matplotlib.figure.Figure at 0x17efe6a90>"
      ]
     },
     "metadata": {},
     "output_type": "display_data"
    }
   ],
   "source": [
    "lengths = list(data.posts.apply(len))\n",
    "plt.boxplot(lengths)\n",
    "plt.ylabel(\"total text length\")\n",
    "plt.tick_params(axis='x', which='both', bottom='off', top='off', labelbottom='off')\n",
    "plt.show()"
   ]
  },
  {
   "cell_type": "code",
   "execution_count": 30,
   "metadata": {},
   "outputs": [
    {
     "name": "stdout",
     "output_type": "stream",
     "text": [
      "7234.98962536\n",
      "7515.0\n",
      "3169.0\n",
      "179\n",
      "8675\n"
     ]
    }
   ],
   "source": [
    "median_length = np.median(lengths)\n",
    "mean_length   = np.mean(lengths)\n",
    "percentiles = np.percentile(lengths, [75, 25])\n",
    "l_short = percentiles[1] - 1.5 * (percentiles[0] - percentiles[1])\n",
    "n_short = len(list(filter(lambda l: l < l_short, lengths)))\n",
    "print(mean_length)\n",
    "print(median_length)\n",
    "print(l_short)\n",
    "print(n_short)\n",
    "print(len(lengths))"
   ]
  },
  {
   "cell_type": "markdown",
   "metadata": {},
   "source": [
    "We will treat the users that wrote the least as outliers and remove them from our dataset. Having very little text for a user could decrease the quality of several features that we are going to use in furter steps."
   ]
  },
  {
   "cell_type": "code",
   "execution_count": 32,
   "metadata": {},
   "outputs": [
    {
     "name": "stdout",
     "output_type": "stream",
     "text": [
      "8496\n"
     ]
    },
    {
     "data": {
      "image/png": "[encoded data removed]",
      "text/plain": [
       "<matplotlib.figure.Figure at 0x17f20cf28>"
      ]
     },
     "metadata": {},
     "output_type": "display_data"
    }
   ],
   "source": [
    "data = data[data.posts.apply(len) >= l_short]\n",
    "print(len(data))\n",
    "\n",
    "lengths = list(data.posts.apply(len))\n",
    "plt.boxplot(lengths)\n",
    "plt.ylabel(\"total text length\")\n",
    "plt.tick_params(axis='x', which='both', bottom='off', top='off', labelbottom='off')\n",
    "plt.show()"
   ]
  },
  {
   "cell_type": "code",
   "execution_count": 33,
   "metadata": {},
   "outputs": [
    {
     "name": "stdout",
     "output_type": "stream",
     "text": [
      "extro:\t1957\n",
      "intro:\t6539\n",
      "intu:\t7342\n",
      "sens:\t1154\n",
      "thnk:\t3891\n",
      "feel:\t4605\n",
      "prcp:\t5132\n",
      "judg:\t3364\n"
     ]
    }
   ],
   "source": [
    "types = get_types()\n",
    "for t in types:\n",
    "    print(\"{}:\\t{}\".format(t, len(types[t])))"
   ]
  },
  {
   "cell_type": "markdown",
   "metadata": {},
   "source": [
    "Now, we define several functions that will be of use in later steps. `is_w2v_word` tests whether a word is available in the word2vec vectors that we have access to. These words can be assumed to be the most frequent English words. `normalize_text` removes special characters from text. If `remove_unknown` is set to `True`, also words that are not represented by an available word2vec vector will be deleted from the text. Moreover, from every post we will delete all mentions of Myers-Briggs personality types, to account for the possible pitfall of our models learning to predict mentioned personality types which will not be available under real world circumstances."
   ]
  },
  {
   "cell_type": "code",
   "execution_count": 34,
   "metadata": {},
   "outputs": [
    {
     "name": "stdout",
     "output_type": "stream",
     "text": [
      "\n",
      "\u001b[93m    Warning: no model found for 'en'\u001b[0m\n",
      "\n",
      "    Only loading the 'en' tokenizer.\n",
      "\n"
     ]
    }
   ],
   "source": [
    "sw_english = stopwords.words(\"english\")\n",
    "\n",
    "non_alpha = re.compile('[^a-zA-Z\\s\\']')\n",
    "ws = re.compile('[\\s+]')\n",
    "mb = re.compile('[IE][NS][TF][PJ]')\n",
    "\n",
    "nlp = spacy.load(\"en\")\n",
    "\n",
    "def normalize_text(text, remove_unknown=False):\n",
    "    text = text.replace('|||', ' ')\n",
    "    text = non_alpha.sub('', text)\n",
    "    if not remove_unknown:\n",
    "        return text\n",
    "    else:\n",
    "        text = text.split(\" \")\n",
    "        ret = []\n",
    "        for w in text:\n",
    "            if is_w2v_word(w):\n",
    "                ret.append(w)\n",
    "        text = \" \".join(ret)\n",
    "        return text\n",
    "\n",
    "def is_w2v_word(w):\n",
    "    if mb.match(w):\n",
    "        return False\n",
    "    return w in model.wv"
   ]
  },
  {
   "cell_type": "markdown",
   "metadata": {},
   "source": [
    "## Preparing the training and testing data"
   ]
  },
  {
   "cell_type": "markdown",
   "metadata": {},
   "source": [
    "We will now perform class balancing and split users, represented by their posts, in a training and a testing set for each of the four MBTI dimensions. The relative size of the testing data is $0.25$ in each case."
   ]
  },
  {
   "cell_type": "code",
   "execution_count": 35,
   "metadata": {
    "collapsed": true
   },
   "outputs": [],
   "source": [
    "def balance(v1, v2):\n",
    "    majority = v1\n",
    "    minority = v2\n",
    "    swap = False\n",
    "    if len(v2) > len(v1):\n",
    "        minority = v1\n",
    "        majority = v2\n",
    "        swap = True\n",
    "    ret = random.sample(majority, len(minority)), minority\n",
    "    if not swap:\n",
    "        return ret\n",
    "    else:\n",
    "        return ret[1], ret[0]\n",
    "    \n",
    "def get_train_test_samples(samples, test_size=0.25):\n",
    "    l = list(samples)\n",
    "    n_test = int(len(samples) * test_size)\n",
    "    random.seed(42)\n",
    "    random.shuffle(l)\n",
    "    return samples[n_test:], samples[:n_test]"
   ]
  },
  {
   "cell_type": "code",
   "execution_count": 36,
   "metadata": {
    "collapsed": true
   },
   "outputs": [],
   "source": [
    "e_posts, i_posts = balance(list(types[\"extro\"][\"posts\"].values), list(types[\"intro\"][\"posts\"].values))\n",
    "n_posts, s_posts = balance(list(types[\"intu\"][\"posts\"].values),  list(types[\"sens\"][\"posts\"].values) )\n",
    "t_posts, f_posts = balance(list(types[\"thnk\"][\"posts\"].values),  list(types[\"feel\"][\"posts\"].values) )\n",
    "j_posts, p_posts = balance(list(types[\"judg\"][\"posts\"].values),  list(types[\"prcp\"][\"posts\"].values) )\n",
    "\n",
    "e_train, e_test = get_train_test_samples(e_posts)\n",
    "i_train, i_test = get_train_test_samples(i_posts)\n",
    "n_train, n_test = get_train_test_samples(n_posts)\n",
    "s_train, s_test = get_train_test_samples(s_posts)\n",
    "t_train, t_test = get_train_test_samples(t_posts)\n",
    "f_train, f_test = get_train_test_samples(f_posts)\n",
    "j_train, j_test = get_train_test_samples(j_posts)\n",
    "p_train, p_test = get_train_test_samples(p_posts)\n",
    "\n",
    "\n",
    "ei_vectors = [e_train, e_test, i_train, i_test]\n",
    "ns_vectors = [n_train, n_test, s_train, s_test]\n",
    "tf_vectors = [t_train, t_test, f_train, f_test]\n",
    "jp_vectors = [j_train, j_test, p_train, p_test]"
   ]
  },
  {
   "cell_type": "markdown",
   "metadata": {},
   "source": [
    "Comparing two random users, it's obvious that even for a human observer it's not too easy to distinguish introverted from extroverted people. Similarly, we should not assume that it is trivial to make distinctions for any of the four personality dimensions."
   ]
  },
  {
   "cell_type": "code",
   "execution_count": 37,
   "metadata": {},
   "outputs": [
    {
     "name": "stdout",
     "output_type": "stream",
     "text": [
      "Random integer is 837\n",
      "'Dhani Jones?      I don't know if anyone here has ever seen his show on Travel Channel? It was cancelled after two seasons, but it was a good show. If you've seen it, what do you think? ENFP? He's...|||Don't know this Amy lady, but I have watched Ghost Adventures. I think that Zak definitely seems like an Extrovert, but he seems much too silly and expressive in general to be an INTJ. he seems more...|||I don't know if anyone here has ever seen his show on Travel Channel? It was cancelled after two seasons, but it was a good show. If you've seen it, what do you think? ENFP? He's definitely...|||The E is a given, the T as well if you've seen him in interviews. He doesn't come across as emotional in any way. He always has been very into himself being seen and considered by others as a very...|||Funny show reminiscent of the Fresh Prince, who was a well known ENFP. Both King Boomer and Brady could be either ESFPs or ENFPs, thoughts?|||This thought came to me as I was at work and some guy \n",
      "Does it live on land?|||What do you mean by that? This has now been asked twice! :laughing:   It would be tremendously silly of me to answer this question, I'd return every two minutes to change my answer!    Athena_ ,...|||ESTP  TMLT not be able to focus on reading despite a desire to|||INTJ, INFP  TMLT never be able to relax|||INFJ  TMLT buy things that they don't need|||INTx, ISTJ  TMLT eat each type of food in a meal one by one, for instance, Yorkshire pudding first, then peas, then sprouts, then stuffing, then potatoes, then beef etc. without any mixing...|||INTP  TMLT be stuck in a rut, a continuous loop of every day repeating the last for years|||ENFP?  TMLT be paranoid that everybody is against him/her, out to get him/her|||J.K. Rowling is certainly aware of MBTI. Perhaps she used it as a basis or guide for enriching her character depth and then likewise based Harry's appearance off of her perception of whatever that...|||INTJ 100%  TMLT look like Harry Potter|||ENFJ  TMLT disa\n"
     ]
    }
   ],
   "source": [
    "i = random.randint(0, 1999)\n",
    "print(\"Random integer is {}\".format(i))\n",
    "print(types[\"extro\"][\"posts\"].values[i][:1000])\n",
    "print(types[\"intro\"][\"posts\"].values[i][:1000])"
   ]
  },
  {
   "cell_type": "markdown",
   "metadata": {},
   "source": [
    "## Training classifiers based on Bag of Words features"
   ]
  },
  {
   "cell_type": "markdown",
   "metadata": {},
   "source": [
    "We will now create our baseline models and some optimized classifiers that are able to derive personality traits from bag of words vectors."
   ]
  },
  {
   "cell_type": "code",
   "execution_count": 38,
   "metadata": {
    "collapsed": true
   },
   "outputs": [],
   "source": [
    "stemmer = PorterStemmer()\n",
    "\n",
    "def normalize_posts(posts):\n",
    "    return [stemmer.stem(p) for p in [normalize_text(p.lower(), remove_unknown=True) for p in posts]]"
   ]
  },
  {
   "cell_type": "markdown",
   "metadata": {},
   "source": [
    "We will not use all words even if they appear only once. To avoid having to work with data of extremely high dimensionality, we are going to remove the least frequent words from the beginning."
   ]
  },
  {
   "cell_type": "code",
   "execution_count": 39,
   "metadata": {},
   "outputs": [
    {
     "name": "stdout",
     "output_type": "stream",
     "text": [
      "1619\n"
     ]
    }
   ],
   "source": [
    "vocab = [w for w in (\" \".join(normalize_posts(data.posts.values))).split(\" \")]\n",
    "c = Counter(vocab)\n",
    "vocab = [w for w in c if c[w] > 500]\n",
    "print(len(vocab))"
   ]
  },
  {
   "cell_type": "code",
   "execution_count": 40,
   "metadata": {},
   "outputs": [
    {
     "name": "stdout",
     "output_type": "stream",
     "text": [
      "moments not top what has been the most experience in your life on for today may perc you last thing my friend posted his facebook before next day rest peace hello sorry hear it's only natural relationship be all time every moment existence try figure hard times as welcome stuff game set match at least minutes moving i don't mean them while sitting same maybe basically come up with three you've that each type or types want do would more than likely use given cognitive functions when left by things is indeed video good one note somewhat subjective am completely death any dear were favorite games growing are now current cool it too late sad there's someone out there everyone wait thought confidence was just within inner world other enjoy me can worry people will always around if you're into hey main social live conversations even then quickly really part from because this thread get high eat over something intellectual many sentence how could think b watching movies health class clearly nothing about whole reasons two baby right middle using their own blood wall see an society becomes they draw idea like person who artist proud taking room under bed\n"
     ]
    }
   ],
   "source": [
    "print(\" \".join([w for w in list(vocab)[:200]]))"
   ]
  },
  {
   "cell_type": "code",
   "execution_count": 41,
   "metadata": {
    "collapsed": true
   },
   "outputs": [],
   "source": [
    "cv = CountVectorizer(vocabulary=vocab)\n",
    "\n",
    "def to_bow(posts, normalized=True):\n",
    "    if not normalized:\n",
    "        posts = normalize_posts(posts)\n",
    "    return [v.toarray()[0] for v in cv.transform(posts)]"
   ]
  },
  {
   "cell_type": "code",
   "execution_count": 42,
   "metadata": {
    "collapsed": true
   },
   "outputs": [],
   "source": [
    "def transform_vectors(f, *vectors):\n",
    "    if len(vectors) == 1:\n",
    "        vectors = [v for v in vectors[0]]\n",
    "    return [f(v) for v in vectors]\n",
    "\n",
    "def create_vectors_labels(positive, negative):\n",
    "    return positive + negative, [0 for _ in range(len(positive))] + [1 for _ in range(len(negative))]"
   ]
  },
  {
   "cell_type": "code",
   "execution_count": 43,
   "metadata": {
    "collapsed": true
   },
   "outputs": [],
   "source": [
    "bow_ei = transform_vectors(lambda v: to_bow(v, False), ei_vectors)\n",
    "bow_ns = transform_vectors(lambda v: to_bow(v, False), ns_vectors)\n",
    "bow_tf = transform_vectors(lambda v: to_bow(v, False), tf_vectors)\n",
    "bow_jp = transform_vectors(lambda v: to_bow(v, False), jp_vectors)"
   ]
  },
  {
   "cell_type": "markdown",
   "metadata": {},
   "source": [
    "### Creating baseline RF classifiers "
   ]
  },
  {
   "cell_type": "code",
   "execution_count": 44,
   "metadata": {},
   "outputs": [
    {
     "name": "stdout",
     "output_type": "stream",
     "text": [
      "0.580777096115\n",
      "0.560763888889\n",
      "0.623456790123\n",
      "0.542211652794\n"
     ]
    }
   ],
   "source": [
    "baseline_ei = RandomForestClassifier()\n",
    "baseline_ei.fit(*create_vectors_labels(bow_ei[0], bow_ei[2]))\n",
    "baseline_ns = RandomForestClassifier()\n",
    "baseline_ns.fit(*create_vectors_labels(bow_ns[0], bow_ns[2]))\n",
    "baseline_tf = RandomForestClassifier()\n",
    "baseline_tf.fit(*create_vectors_labels(bow_tf[0], bow_tf[2]))\n",
    "baseline_jp = RandomForestClassifier()\n",
    "baseline_jp.fit(*create_vectors_labels(bow_jp[0], bow_jp[2]))\n",
    "\n",
    "print(baseline_ei.score(*create_vectors_labels(bow_ei[1], bow_ei[3])))\n",
    "print(baseline_ns.score(*create_vectors_labels(bow_ns[1], bow_ns[3])))\n",
    "print(baseline_tf.score(*create_vectors_labels(bow_tf[1], bow_tf[3])))\n",
    "print(baseline_jp.score(*create_vectors_labels(bow_jp[1], bow_jp[3])))"
   ]
  },
  {
   "cell_type": "markdown",
   "metadata": {},
   "source": [
    "Most of the basline models are slightly better than a simple model choosing predicted classes arbitrarily (having performed balancing, we would then expect an accuracy of $0.5$). Interestingly, the baseline classifier for distinguishing _thinking_ from _feeling_ personality types performs better than the other classifiers and achieves an accuracy of $> 0.6$."
   ]
  },
  {
   "cell_type": "markdown",
   "metadata": {},
   "source": [
    "### Creating optimized Bag of Words classifiers"
   ]
  },
  {
   "cell_type": "code",
   "execution_count": 45,
   "metadata": {},
   "outputs": [
    {
     "name": "stdout",
     "output_type": "stream",
     "text": [
      "Fitting 3 folds for each of 48 candidates, totalling 144 fits\n",
      "[CV] min_samples_leaf=2, min_samples_split=3, n_estimators=50 ........\n",
      "[CV]  min_samples_leaf=2, min_samples_split=3, n_estimators=50, score=0.586735 -   1.5s\n",
      "[CV] min_samples_leaf=2, min_samples_split=3, n_estimators=50 ........\n"
     ]
    },
    {
     "name": "stderr",
     "output_type": "stream",
     "text": [
      "[Parallel(n_jobs=1)]: Done   1 out of   1 | elapsed:    1.5s remaining:    0.0s\n"
     ]
    },
    {
     "name": "stdout",
     "output_type": "stream",
     "text": [
      "[CV]  min_samples_leaf=2, min_samples_split=3, n_estimators=50, score=0.599182 -   1.7s\n",
      "[CV] min_samples_leaf=2, min_samples_split=3, n_estimators=50 ........\n"
     ]
    },
    {
     "name": "stderr",
     "output_type": "stream",
     "text": [
      "[Parallel(n_jobs=1)]: Done   2 out of   2 | elapsed:    3.2s remaining:    0.0s\n"
     ]
    },
    {
     "name": "stdout",
     "output_type": "stream",
     "text": [
      "[CV]  min_samples_leaf=2, min_samples_split=3, n_estimators=50, score=0.587935 -   1.5s\n",
      "[CV] min_samples_leaf=2, min_samples_split=3, n_estimators=60 ........\n"
     ]
    },
    {
     "name": "stderr",
     "output_type": "stream",
     "text": [
      "[Parallel(n_jobs=1)]: Done   3 out of   3 | elapsed:    4.7s remaining:    0.0s\n"
     ]
    },
    {
     "name": "stdout",
     "output_type": "stream",
     "text": [
      "[CV]  min_samples_leaf=2, min_samples_split=3, n_estimators=60, score=0.607143 -   2.0s\n",
      "[CV] min_samples_leaf=2, min_samples_split=3, n_estimators=60 ........\n"
     ]
    },
    {
     "name": "stderr",
     "output_type": "stream",
     "text": [
      "[Parallel(n_jobs=1)]: Done   4 out of   4 | elapsed:    6.7s remaining:    0.0s\n"
     ]
    },
    {
     "name": "stdout",
     "output_type": "stream",
     "text": [
      "[CV]  min_samples_leaf=2, min_samples_split=3, n_estimators=60, score=0.578732 -   1.9s\n",
      "[CV] min_samples_leaf=2, min_samples_split=3, n_estimators=60 ........\n",
      "[CV]  min_samples_leaf=2, min_samples_split=3, n_estimators=60, score=0.609407 -   1.4s\n",
      "[CV] min_samples_leaf=2, min_samples_split=3, n_estimators=80 ........\n",
      "[CV]  min_samples_leaf=2, min_samples_split=3, n_estimators=80, score=0.622449 -   1.9s\n",
      "[CV] min_samples_leaf=2, min_samples_split=3, n_estimators=80 ........\n",
      "[CV]  min_samples_leaf=2, min_samples_split=3, n_estimators=80, score=0.619632 -   1.8s\n",
      "[CV] min_samples_leaf=2, min_samples_split=3, n_estimators=80 ........\n",
      "[CV]  min_samples_leaf=2, min_samples_split=3, n_estimators=80, score=0.630879 -   2.0s\n",
      "[CV] min_samples_leaf=2, min_samples_split=5, n_estimators=50 ........\n",
      "[CV]  min_samples_leaf=2, min_samples_split=5, n_estimators=50, score=0.608163 -   1.3s\n",
      "[CV] min_samples_leaf=2, min_samples_split=5, n_estimators=50 ........\n",
      "[CV]  min_samples_leaf=2, min_samples_split=5, n_estimators=50, score=0.618609 -   1.2s\n",
      "[CV] min_samples_leaf=2, min_samples_split=5, n_estimators=50 ........\n",
      "[CV]  min_samples_leaf=2, min_samples_split=5, n_estimators=50, score=0.572597 -   1.2s\n",
      "[CV] min_samples_leaf=2, min_samples_split=5, n_estimators=60 ........\n",
      "[CV]  min_samples_leaf=2, min_samples_split=5, n_estimators=60, score=0.597959 -   1.3s\n",
      "[CV] min_samples_leaf=2, min_samples_split=5, n_estimators=60 ........\n",
      "[CV]  min_samples_leaf=2, min_samples_split=5, n_estimators=60, score=0.604294 -   1.4s\n",
      "[CV] min_samples_leaf=2, min_samples_split=5, n_estimators=60 ........\n",
      "[CV]  min_samples_leaf=2, min_samples_split=5, n_estimators=60, score=0.593047 -   1.3s\n",
      "[CV] min_samples_leaf=2, min_samples_split=5, n_estimators=80 ........\n",
      "[CV]  min_samples_leaf=2, min_samples_split=5, n_estimators=80, score=0.625510 -   1.6s\n",
      "[CV] min_samples_leaf=2, min_samples_split=5, n_estimators=80 ........\n",
      "[CV]  min_samples_leaf=2, min_samples_split=5, n_estimators=80, score=0.615542 -   1.7s\n",
      "[CV] min_samples_leaf=2, min_samples_split=5, n_estimators=80 ........\n",
      "[CV]  min_samples_leaf=2, min_samples_split=5, n_estimators=80, score=0.600204 -   1.7s\n",
      "[CV] min_samples_leaf=2, min_samples_split=7, n_estimators=50 ........\n",
      "[CV]  min_samples_leaf=2, min_samples_split=7, n_estimators=50, score=0.638776 -   1.2s\n",
      "[CV] min_samples_leaf=2, min_samples_split=7, n_estimators=50 ........\n",
      "[CV]  min_samples_leaf=2, min_samples_split=7, n_estimators=50, score=0.597137 -   1.1s\n",
      "[CV] min_samples_leaf=2, min_samples_split=7, n_estimators=50 ........\n",
      "[CV]  min_samples_leaf=2, min_samples_split=7, n_estimators=50, score=0.612474 -   1.1s\n",
      "[CV] min_samples_leaf=2, min_samples_split=7, n_estimators=60 ........\n",
      "[CV]  min_samples_leaf=2, min_samples_split=7, n_estimators=60, score=0.619388 -   1.3s\n",
      "[CV] min_samples_leaf=2, min_samples_split=7, n_estimators=60 ........\n",
      "[CV]  min_samples_leaf=2, min_samples_split=7, n_estimators=60, score=0.594070 -   1.3s\n",
      "[CV] min_samples_leaf=2, min_samples_split=7, n_estimators=60 ........\n",
      "[CV]  min_samples_leaf=2, min_samples_split=7, n_estimators=60, score=0.604294 -   1.9s\n",
      "[CV] min_samples_leaf=2, min_samples_split=7, n_estimators=80 ........\n",
      "[CV]  min_samples_leaf=2, min_samples_split=7, n_estimators=80, score=0.586735 -   2.1s\n",
      "[CV] min_samples_leaf=2, min_samples_split=7, n_estimators=80 ........\n",
      "[CV]  min_samples_leaf=2, min_samples_split=7, n_estimators=80, score=0.615542 -   2.6s\n",
      "[CV] min_samples_leaf=2, min_samples_split=7, n_estimators=80 ........\n",
      "[CV]  min_samples_leaf=2, min_samples_split=7, n_estimators=80, score=0.644172 -   2.1s\n",
      "[CV] min_samples_leaf=2, min_samples_split=9, n_estimators=50 ........\n",
      "[CV]  min_samples_leaf=2, min_samples_split=9, n_estimators=50, score=0.593878 -   1.1s\n",
      "[CV] min_samples_leaf=2, min_samples_split=9, n_estimators=50 ........\n",
      "[CV]  min_samples_leaf=2, min_samples_split=9, n_estimators=50, score=0.609407 -   1.1s\n",
      "[CV] min_samples_leaf=2, min_samples_split=9, n_estimators=50 ........\n",
      "[CV]  min_samples_leaf=2, min_samples_split=9, n_estimators=50, score=0.608384 -   1.2s\n",
      "[CV] min_samples_leaf=2, min_samples_split=9, n_estimators=60 ........\n",
      "[CV]  min_samples_leaf=2, min_samples_split=9, n_estimators=60, score=0.604082 -   1.3s\n",
      "[CV] min_samples_leaf=2, min_samples_split=9, n_estimators=60 ........\n",
      "[CV]  min_samples_leaf=2, min_samples_split=9, n_estimators=60, score=0.586912 -   1.6s\n",
      "[CV] min_samples_leaf=2, min_samples_split=9, n_estimators=60 ........\n",
      "[CV]  min_samples_leaf=2, min_samples_split=9, n_estimators=60, score=0.599182 -   1.4s\n",
      "[CV] min_samples_leaf=2, min_samples_split=9, n_estimators=80 ........\n",
      "[CV]  min_samples_leaf=2, min_samples_split=9, n_estimators=80, score=0.612245 -   2.2s\n",
      "[CV] min_samples_leaf=2, min_samples_split=9, n_estimators=80 ........\n",
      "[CV]  min_samples_leaf=2, min_samples_split=9, n_estimators=80, score=0.620654 -   2.2s\n",
      "[CV] min_samples_leaf=2, min_samples_split=9, n_estimators=80 ........\n",
      "[CV]  min_samples_leaf=2, min_samples_split=9, n_estimators=80, score=0.610429 -   1.8s\n",
      "[CV] min_samples_leaf=4, min_samples_split=3, n_estimators=50 ........\n",
      "[CV]  min_samples_leaf=4, min_samples_split=3, n_estimators=50, score=0.618367 -   1.1s\n",
      "[CV] min_samples_leaf=4, min_samples_split=3, n_estimators=50 ........\n",
      "[CV]  min_samples_leaf=4, min_samples_split=3, n_estimators=50, score=0.608384 -   1.1s\n",
      "[CV] min_samples_leaf=4, min_samples_split=3, n_estimators=50 ........\n",
      "[CV]  min_samples_leaf=4, min_samples_split=3, n_estimators=50, score=0.582822 -   1.0s\n",
      "[CV] min_samples_leaf=4, min_samples_split=3, n_estimators=60 ........\n",
      "[CV]  min_samples_leaf=4, min_samples_split=3, n_estimators=60, score=0.591837 -   1.2s\n",
      "[CV] min_samples_leaf=4, min_samples_split=3, n_estimators=60 ........\n",
      "[CV]  min_samples_leaf=4, min_samples_split=3, n_estimators=60, score=0.634969 -   1.2s\n",
      "[CV] min_samples_leaf=4, min_samples_split=3, n_estimators=60 ........\n",
      "[CV]  min_samples_leaf=4, min_samples_split=3, n_estimators=60, score=0.609407 -   1.1s\n",
      "[CV] min_samples_leaf=4, min_samples_split=3, n_estimators=80 ........\n",
      "[CV]  min_samples_leaf=4, min_samples_split=3, n_estimators=80, score=0.641837 -   1.6s\n",
      "[CV] min_samples_leaf=4, min_samples_split=3, n_estimators=80 ........\n",
      "[CV]  min_samples_leaf=4, min_samples_split=3, n_estimators=80, score=0.601227 -   1.5s\n",
      "[CV] min_samples_leaf=4, min_samples_split=3, n_estimators=80 ........\n",
      "[CV]  min_samples_leaf=4, min_samples_split=3, n_estimators=80, score=0.626789 -   1.6s\n",
      "[CV] min_samples_leaf=4, min_samples_split=5, n_estimators=50 ........\n",
      "[CV]  min_samples_leaf=4, min_samples_split=5, n_estimators=50, score=0.609184 -   1.0s\n",
      "[CV] min_samples_leaf=4, min_samples_split=5, n_estimators=50 ........\n",
      "[CV]  min_samples_leaf=4, min_samples_split=5, n_estimators=50, score=0.603272 -   0.9s\n",
      "[CV] min_samples_leaf=4, min_samples_split=5, n_estimators=50 ........\n",
      "[CV]  min_samples_leaf=4, min_samples_split=5, n_estimators=50, score=0.589980 -   0.9s\n",
      "[CV] min_samples_leaf=4, min_samples_split=5, n_estimators=60 ........\n",
      "[CV]  min_samples_leaf=4, min_samples_split=5, n_estimators=60, score=0.613265 -   1.2s\n",
      "[CV] min_samples_leaf=4, min_samples_split=5, n_estimators=60 ........\n",
      "[CV]  min_samples_leaf=4, min_samples_split=5, n_estimators=60, score=0.605317 -   1.2s\n",
      "[CV] min_samples_leaf=4, min_samples_split=5, n_estimators=60 ........\n",
      "[CV]  min_samples_leaf=4, min_samples_split=5, n_estimators=60, score=0.606339 -   1.1s\n",
      "[CV] min_samples_leaf=4, min_samples_split=5, n_estimators=80 ........\n",
      "[CV]  min_samples_leaf=4, min_samples_split=5, n_estimators=80, score=0.630612 -   1.6s\n",
      "[CV] min_samples_leaf=4, min_samples_split=5, n_estimators=80 ........\n",
      "[CV]  min_samples_leaf=4, min_samples_split=5, n_estimators=80, score=0.610429 -   1.6s\n",
      "[CV] min_samples_leaf=4, min_samples_split=5, n_estimators=80 ........\n",
      "[CV]  min_samples_leaf=4, min_samples_split=5, n_estimators=80, score=0.609407 -   1.6s\n",
      "[CV] min_samples_leaf=4, min_samples_split=7, n_estimators=50 ........\n",
      "[CV]  min_samples_leaf=4, min_samples_split=7, n_estimators=50, score=0.600000 -   1.0s\n",
      "[CV] min_samples_leaf=4, min_samples_split=7, n_estimators=50 ........\n",
      "[CV]  min_samples_leaf=4, min_samples_split=7, n_estimators=50, score=0.600204 -   1.0s\n",
      "[CV] min_samples_leaf=4, min_samples_split=7, n_estimators=50 ........\n"
     ]
    },
    {
     "name": "stdout",
     "output_type": "stream",
     "text": [
      "[CV]  min_samples_leaf=4, min_samples_split=7, n_estimators=50, score=0.611452 -   1.0s\n",
      "[CV] min_samples_leaf=4, min_samples_split=7, n_estimators=60 ........\n",
      "[CV]  min_samples_leaf=4, min_samples_split=7, n_estimators=60, score=0.624490 -   1.2s\n",
      "[CV] min_samples_leaf=4, min_samples_split=7, n_estimators=60 ........\n",
      "[CV]  min_samples_leaf=4, min_samples_split=7, n_estimators=60, score=0.605317 -   1.3s\n",
      "[CV] min_samples_leaf=4, min_samples_split=7, n_estimators=60 ........\n",
      "[CV]  min_samples_leaf=4, min_samples_split=7, n_estimators=60, score=0.619632 -   1.1s\n",
      "[CV] min_samples_leaf=4, min_samples_split=7, n_estimators=80 ........\n",
      "[CV]  min_samples_leaf=4, min_samples_split=7, n_estimators=80, score=0.612245 -   1.5s\n",
      "[CV] min_samples_leaf=4, min_samples_split=7, n_estimators=80 ........\n",
      "[CV]  min_samples_leaf=4, min_samples_split=7, n_estimators=80, score=0.598160 -   1.5s\n",
      "[CV] min_samples_leaf=4, min_samples_split=7, n_estimators=80 ........\n",
      "[CV]  min_samples_leaf=4, min_samples_split=7, n_estimators=80, score=0.622699 -   1.7s\n",
      "[CV] min_samples_leaf=4, min_samples_split=9, n_estimators=50 ........\n",
      "[CV]  min_samples_leaf=4, min_samples_split=9, n_estimators=50, score=0.610204 -   1.9s\n",
      "[CV] min_samples_leaf=4, min_samples_split=9, n_estimators=50 ........\n",
      "[CV]  min_samples_leaf=4, min_samples_split=9, n_estimators=50, score=0.616564 -   1.1s\n",
      "[CV] min_samples_leaf=4, min_samples_split=9, n_estimators=50 ........\n",
      "[CV]  min_samples_leaf=4, min_samples_split=9, n_estimators=50, score=0.617587 -   1.0s\n",
      "[CV] min_samples_leaf=4, min_samples_split=9, n_estimators=60 ........\n",
      "[CV]  min_samples_leaf=4, min_samples_split=9, n_estimators=60, score=0.608163 -   1.3s\n",
      "[CV] min_samples_leaf=4, min_samples_split=9, n_estimators=60 ........\n",
      "[CV]  min_samples_leaf=4, min_samples_split=9, n_estimators=60, score=0.601227 -   1.9s\n",
      "[CV] min_samples_leaf=4, min_samples_split=9, n_estimators=60 ........\n",
      "[CV]  min_samples_leaf=4, min_samples_split=9, n_estimators=60, score=0.614519 -   1.5s\n",
      "[CV] min_samples_leaf=4, min_samples_split=9, n_estimators=80 ........\n",
      "[CV]  min_samples_leaf=4, min_samples_split=9, n_estimators=80, score=0.629592 -   1.6s\n",
      "[CV] min_samples_leaf=4, min_samples_split=9, n_estimators=80 ........\n",
      "[CV]  min_samples_leaf=4, min_samples_split=9, n_estimators=80, score=0.607362 -   1.5s\n",
      "[CV] min_samples_leaf=4, min_samples_split=9, n_estimators=80 ........\n",
      "[CV]  min_samples_leaf=4, min_samples_split=9, n_estimators=80, score=0.632924 -   1.7s\n",
      "[CV] min_samples_leaf=7, min_samples_split=3, n_estimators=50 ........\n",
      "[CV]  min_samples_leaf=7, min_samples_split=3, n_estimators=50, score=0.626531 -   1.0s\n",
      "[CV] min_samples_leaf=7, min_samples_split=3, n_estimators=50 ........\n",
      "[CV]  min_samples_leaf=7, min_samples_split=3, n_estimators=50, score=0.606339 -   1.1s\n",
      "[CV] min_samples_leaf=7, min_samples_split=3, n_estimators=50 ........\n",
      "[CV]  min_samples_leaf=7, min_samples_split=3, n_estimators=50, score=0.634969 -   1.2s\n",
      "[CV] min_samples_leaf=7, min_samples_split=3, n_estimators=60 ........\n",
      "[CV]  min_samples_leaf=7, min_samples_split=3, n_estimators=60, score=0.625510 -   1.1s\n",
      "[CV] min_samples_leaf=7, min_samples_split=3, n_estimators=60 ........\n",
      "[CV]  min_samples_leaf=7, min_samples_split=3, n_estimators=60, score=0.628834 -   1.2s\n",
      "[CV] min_samples_leaf=7, min_samples_split=3, n_estimators=60 ........\n",
      "[CV]  min_samples_leaf=7, min_samples_split=3, n_estimators=60, score=0.612474 -   1.2s\n",
      "[CV] min_samples_leaf=7, min_samples_split=3, n_estimators=80 ........\n",
      "[CV]  min_samples_leaf=7, min_samples_split=3, n_estimators=80, score=0.611224 -   1.4s\n",
      "[CV] min_samples_leaf=7, min_samples_split=3, n_estimators=80 ........\n",
      "[CV]  min_samples_leaf=7, min_samples_split=3, n_estimators=80, score=0.624744 -   1.4s\n",
      "[CV] min_samples_leaf=7, min_samples_split=3, n_estimators=80 ........\n",
      "[CV]  min_samples_leaf=7, min_samples_split=3, n_estimators=80, score=0.609407 -   1.4s\n",
      "[CV] min_samples_leaf=7, min_samples_split=5, n_estimators=50 ........\n",
      "[CV]  min_samples_leaf=7, min_samples_split=5, n_estimators=50, score=0.619388 -   0.9s\n",
      "[CV] min_samples_leaf=7, min_samples_split=5, n_estimators=50 ........\n",
      "[CV]  min_samples_leaf=7, min_samples_split=5, n_estimators=50, score=0.623722 -   1.7s\n",
      "[CV] min_samples_leaf=7, min_samples_split=5, n_estimators=50 ........\n",
      "[CV]  min_samples_leaf=7, min_samples_split=5, n_estimators=50, score=0.610429 -   1.1s\n",
      "[CV] min_samples_leaf=7, min_samples_split=5, n_estimators=60 ........\n",
      "[CV]  min_samples_leaf=7, min_samples_split=5, n_estimators=60, score=0.642857 -   1.6s\n",
      "[CV] min_samples_leaf=7, min_samples_split=5, n_estimators=60 ........\n",
      "[CV]  min_samples_leaf=7, min_samples_split=5, n_estimators=60, score=0.589980 -   1.4s\n",
      "[CV] min_samples_leaf=7, min_samples_split=5, n_estimators=60 ........\n",
      "[CV]  min_samples_leaf=7, min_samples_split=5, n_estimators=60, score=0.635992 -   1.3s\n",
      "[CV] min_samples_leaf=7, min_samples_split=5, n_estimators=80 ........\n",
      "[CV]  min_samples_leaf=7, min_samples_split=5, n_estimators=80, score=0.646939 -   1.5s\n",
      "[CV] min_samples_leaf=7, min_samples_split=5, n_estimators=80 ........\n",
      "[CV]  min_samples_leaf=7, min_samples_split=5, n_estimators=80, score=0.623722 -   1.8s\n",
      "[CV] min_samples_leaf=7, min_samples_split=5, n_estimators=80 ........\n",
      "[CV]  min_samples_leaf=7, min_samples_split=5, n_estimators=80, score=0.640082 -   1.7s\n",
      "[CV] min_samples_leaf=7, min_samples_split=7, n_estimators=50 ........\n",
      "[CV]  min_samples_leaf=7, min_samples_split=7, n_estimators=50, score=0.635714 -   1.4s\n",
      "[CV] min_samples_leaf=7, min_samples_split=7, n_estimators=50 ........\n",
      "[CV]  min_samples_leaf=7, min_samples_split=7, n_estimators=50, score=0.613497 -   1.1s\n",
      "[CV] min_samples_leaf=7, min_samples_split=7, n_estimators=50 ........\n",
      "[CV]  min_samples_leaf=7, min_samples_split=7, n_estimators=50, score=0.640082 -   1.1s\n",
      "[CV] min_samples_leaf=7, min_samples_split=7, n_estimators=60 ........\n",
      "[CV]  min_samples_leaf=7, min_samples_split=7, n_estimators=60, score=0.616327 -   1.4s\n",
      "[CV] min_samples_leaf=7, min_samples_split=7, n_estimators=60 ........\n",
      "[CV]  min_samples_leaf=7, min_samples_split=7, n_estimators=60, score=0.638037 -   1.2s\n",
      "[CV] min_samples_leaf=7, min_samples_split=7, n_estimators=60 ........\n",
      "[CV]  min_samples_leaf=7, min_samples_split=7, n_estimators=60, score=0.618609 -   1.1s\n",
      "[CV] min_samples_leaf=7, min_samples_split=7, n_estimators=80 ........\n",
      "[CV]  min_samples_leaf=7, min_samples_split=7, n_estimators=80, score=0.623469 -   1.4s\n",
      "[CV] min_samples_leaf=7, min_samples_split=7, n_estimators=80 ........\n",
      "[CV]  min_samples_leaf=7, min_samples_split=7, n_estimators=80, score=0.630879 -   1.5s\n",
      "[CV] min_samples_leaf=7, min_samples_split=7, n_estimators=80 ........\n",
      "[CV]  min_samples_leaf=7, min_samples_split=7, n_estimators=80, score=0.638037 -   1.5s\n",
      "[CV] min_samples_leaf=7, min_samples_split=9, n_estimators=50 ........\n",
      "[CV]  min_samples_leaf=7, min_samples_split=9, n_estimators=50, score=0.615306 -   0.9s\n",
      "[CV] min_samples_leaf=7, min_samples_split=9, n_estimators=50 ........\n",
      "[CV]  min_samples_leaf=7, min_samples_split=9, n_estimators=50, score=0.613497 -   0.9s\n",
      "[CV] min_samples_leaf=7, min_samples_split=9, n_estimators=50 ........\n",
      "[CV]  min_samples_leaf=7, min_samples_split=9, n_estimators=50, score=0.621677 -   0.9s\n",
      "[CV] min_samples_leaf=7, min_samples_split=9, n_estimators=60 ........\n",
      "[CV]  min_samples_leaf=7, min_samples_split=9, n_estimators=60, score=0.627551 -   1.1s\n",
      "[CV] min_samples_leaf=7, min_samples_split=9, n_estimators=60 ........\n",
      "[CV]  min_samples_leaf=7, min_samples_split=9, n_estimators=60, score=0.613497 -   1.0s\n",
      "[CV] min_samples_leaf=7, min_samples_split=9, n_estimators=60 ........\n",
      "[CV]  min_samples_leaf=7, min_samples_split=9, n_estimators=60, score=0.597137 -   1.0s\n",
      "[CV] min_samples_leaf=7, min_samples_split=9, n_estimators=80 ........\n",
      "[CV]  min_samples_leaf=7, min_samples_split=9, n_estimators=80, score=0.634694 -   1.4s\n",
      "[CV] min_samples_leaf=7, min_samples_split=9, n_estimators=80 ........\n",
      "[CV]  min_samples_leaf=7, min_samples_split=9, n_estimators=80, score=0.627812 -   1.4s\n",
      "[CV] min_samples_leaf=7, min_samples_split=9, n_estimators=80 ........\n",
      "[CV]  min_samples_leaf=7, min_samples_split=9, n_estimators=80, score=0.623722 -   1.4s\n",
      "[CV] min_samples_leaf=10, min_samples_split=3, n_estimators=50 .......\n"
     ]
    },
    {
     "name": "stdout",
     "output_type": "stream",
     "text": [
      "[CV]  min_samples_leaf=10, min_samples_split=3, n_estimators=50, score=0.606122 -   0.8s\n",
      "[CV] min_samples_leaf=10, min_samples_split=3, n_estimators=50 .......\n",
      "[CV]  min_samples_leaf=10, min_samples_split=3, n_estimators=50, score=0.620654 -   0.8s\n",
      "[CV] min_samples_leaf=10, min_samples_split=3, n_estimators=50 .......\n",
      "[CV]  min_samples_leaf=10, min_samples_split=3, n_estimators=50, score=0.618609 -   0.8s\n",
      "[CV] min_samples_leaf=10, min_samples_split=3, n_estimators=60 .......\n",
      "[CV]  min_samples_leaf=10, min_samples_split=3, n_estimators=60, score=0.613265 -   1.0s\n",
      "[CV] min_samples_leaf=10, min_samples_split=3, n_estimators=60 .......\n",
      "[CV]  min_samples_leaf=10, min_samples_split=3, n_estimators=60, score=0.603272 -   1.0s\n",
      "[CV] min_samples_leaf=10, min_samples_split=3, n_estimators=60 .......\n",
      "[CV]  min_samples_leaf=10, min_samples_split=3, n_estimators=60, score=0.609407 -   1.0s\n",
      "[CV] min_samples_leaf=10, min_samples_split=3, n_estimators=80 .......\n",
      "[CV]  min_samples_leaf=10, min_samples_split=3, n_estimators=80, score=0.641837 -   1.3s\n",
      "[CV] min_samples_leaf=10, min_samples_split=3, n_estimators=80 .......\n",
      "[CV]  min_samples_leaf=10, min_samples_split=3, n_estimators=80, score=0.627812 -   1.3s\n",
      "[CV] min_samples_leaf=10, min_samples_split=3, n_estimators=80 .......\n",
      "[CV]  min_samples_leaf=10, min_samples_split=3, n_estimators=80, score=0.638037 -   1.3s\n",
      "[CV] min_samples_leaf=10, min_samples_split=5, n_estimators=50 .......\n",
      "[CV]  min_samples_leaf=10, min_samples_split=5, n_estimators=50, score=0.601020 -   0.8s\n",
      "[CV] min_samples_leaf=10, min_samples_split=5, n_estimators=50 .......\n",
      "[CV]  min_samples_leaf=10, min_samples_split=5, n_estimators=50, score=0.628834 -   0.8s\n",
      "[CV] min_samples_leaf=10, min_samples_split=5, n_estimators=50 .......\n",
      "[CV]  min_samples_leaf=10, min_samples_split=5, n_estimators=50, score=0.594070 -   0.8s\n",
      "[CV] min_samples_leaf=10, min_samples_split=5, n_estimators=60 .......\n",
      "[CV]  min_samples_leaf=10, min_samples_split=5, n_estimators=60, score=0.616327 -   1.0s\n",
      "[CV] min_samples_leaf=10, min_samples_split=5, n_estimators=60 .......\n",
      "[CV]  min_samples_leaf=10, min_samples_split=5, n_estimators=60, score=0.620654 -   1.0s\n",
      "[CV] min_samples_leaf=10, min_samples_split=5, n_estimators=60 .......\n",
      "[CV]  min_samples_leaf=10, min_samples_split=5, n_estimators=60, score=0.623722 -   1.0s\n",
      "[CV] min_samples_leaf=10, min_samples_split=5, n_estimators=80 .......\n",
      "[CV]  min_samples_leaf=10, min_samples_split=5, n_estimators=80, score=0.626531 -   1.3s\n",
      "[CV] min_samples_leaf=10, min_samples_split=5, n_estimators=80 .......\n",
      "[CV]  min_samples_leaf=10, min_samples_split=5, n_estimators=80, score=0.625767 -   1.3s\n",
      "[CV] min_samples_leaf=10, min_samples_split=5, n_estimators=80 .......\n",
      "[CV]  min_samples_leaf=10, min_samples_split=5, n_estimators=80, score=0.613497 -   1.3s\n",
      "[CV] min_samples_leaf=10, min_samples_split=7, n_estimators=50 .......\n",
      "[CV]  min_samples_leaf=10, min_samples_split=7, n_estimators=50, score=0.621429 -   0.8s\n",
      "[CV] min_samples_leaf=10, min_samples_split=7, n_estimators=50 .......\n",
      "[CV]  min_samples_leaf=10, min_samples_split=7, n_estimators=50, score=0.610429 -   0.8s\n",
      "[CV] min_samples_leaf=10, min_samples_split=7, n_estimators=50 .......\n",
      "[CV]  min_samples_leaf=10, min_samples_split=7, n_estimators=50, score=0.621677 -   0.8s\n",
      "[CV] min_samples_leaf=10, min_samples_split=7, n_estimators=60 .......\n",
      "[CV]  min_samples_leaf=10, min_samples_split=7, n_estimators=60, score=0.625510 -   0.9s\n",
      "[CV] min_samples_leaf=10, min_samples_split=7, n_estimators=60 .......\n",
      "[CV]  min_samples_leaf=10, min_samples_split=7, n_estimators=60, score=0.630879 -   0.9s\n",
      "[CV] min_samples_leaf=10, min_samples_split=7, n_estimators=60 .......\n",
      "[CV]  min_samples_leaf=10, min_samples_split=7, n_estimators=60, score=0.635992 -   0.9s\n",
      "[CV] min_samples_leaf=10, min_samples_split=7, n_estimators=80 .......\n",
      "[CV]  min_samples_leaf=10, min_samples_split=7, n_estimators=80, score=0.631633 -   1.4s\n",
      "[CV] min_samples_leaf=10, min_samples_split=7, n_estimators=80 .......\n",
      "[CV]  min_samples_leaf=10, min_samples_split=7, n_estimators=80, score=0.618609 -   1.7s\n",
      "[CV] min_samples_leaf=10, min_samples_split=7, n_estimators=80 .......\n",
      "[CV]  min_samples_leaf=10, min_samples_split=7, n_estimators=80, score=0.643149 -   1.6s\n",
      "[CV] min_samples_leaf=10, min_samples_split=9, n_estimators=50 .......\n",
      "[CV]  min_samples_leaf=10, min_samples_split=9, n_estimators=50, score=0.613265 -   0.9s\n",
      "[CV] min_samples_leaf=10, min_samples_split=9, n_estimators=50 .......\n",
      "[CV]  min_samples_leaf=10, min_samples_split=9, n_estimators=50, score=0.614519 -   1.0s\n",
      "[CV] min_samples_leaf=10, min_samples_split=9, n_estimators=50 .......\n",
      "[CV]  min_samples_leaf=10, min_samples_split=9, n_estimators=50, score=0.611452 -   1.7s\n",
      "[CV] min_samples_leaf=10, min_samples_split=9, n_estimators=60 .......\n",
      "[CV]  min_samples_leaf=10, min_samples_split=9, n_estimators=60, score=0.620408 -   1.8s\n",
      "[CV] min_samples_leaf=10, min_samples_split=9, n_estimators=60 .......\n",
      "[CV]  min_samples_leaf=10, min_samples_split=9, n_estimators=60, score=0.623722 -   1.8s\n",
      "[CV] min_samples_leaf=10, min_samples_split=9, n_estimators=60 .......\n",
      "[CV]  min_samples_leaf=10, min_samples_split=9, n_estimators=60, score=0.614519 -   1.4s\n",
      "[CV] min_samples_leaf=10, min_samples_split=9, n_estimators=80 .......\n",
      "[CV]  min_samples_leaf=10, min_samples_split=9, n_estimators=80, score=0.625510 -   1.3s\n",
      "[CV] min_samples_leaf=10, min_samples_split=9, n_estimators=80 .......\n",
      "[CV]  min_samples_leaf=10, min_samples_split=9, n_estimators=80, score=0.638037 -   1.3s\n",
      "[CV] min_samples_leaf=10, min_samples_split=9, n_estimators=80 .......\n",
      "[CV]  min_samples_leaf=10, min_samples_split=9, n_estimators=80, score=0.625767 -   1.3s\n"
     ]
    },
    {
     "name": "stderr",
     "output_type": "stream",
     "text": [
      "[Parallel(n_jobs=1)]: Done 144 out of 144 | elapsed:  3.2min finished\n"
     ]
    },
    {
     "name": "stdout",
     "output_type": "stream",
     "text": [
      "{'bootstrap': True, 'class_weight': None, 'criterion': 'gini', 'max_depth': None, 'max_features': 'auto', 'max_leaf_nodes': None, 'min_impurity_decrease': 0.0, 'min_impurity_split': None, 'min_samples_leaf': 7, 'min_samples_split': 5, 'min_weight_fraction_leaf': 0.0, 'n_estimators': 80, 'n_jobs': 1, 'oob_score': False, 'random_state': None, 'verbose': 0, 'warm_start': False}\n",
      "0.621676891616\n",
      "0.657986111111\n",
      "0.732510288066\n",
      "0.609393579073\n"
     ]
    }
   ],
   "source": [
    "opt_bow_ei = GridSearchCV(RandomForestClassifier(), grid, verbose=5)\n",
    "opt_bow_ei.fit(*create_vectors_labels(bow_ei[0], bow_ei[2]))\n",
    "chosen_params = opt_bow_ei.best_estimator_.get_params()\n",
    "print(chosen_params)\n",
    "opt_bow_ns = RandomForestClassifier(**chosen_params)\n",
    "opt_bow_ns.fit(*create_vectors_labels(bow_ns[0], bow_ns[2]))\n",
    "opt_bow_tf = RandomForestClassifier(**chosen_params)\n",
    "opt_bow_tf.fit(*create_vectors_labels(bow_tf[0], bow_tf[2]))\n",
    "opt_bow_jp = RandomForestClassifier(**chosen_params)\n",
    "opt_bow_jp.fit(*create_vectors_labels(bow_jp[0], bow_jp[2]))\n",
    "\n",
    "\n",
    "print(opt_bow_ei.score(*create_vectors_labels(bow_ei[1], bow_ei[3])))\n",
    "print(opt_bow_ns.score(*create_vectors_labels(bow_ns[1], bow_ns[3])))\n",
    "print(opt_bow_tf.score(*create_vectors_labels(bow_tf[1], bow_tf[3])))\n",
    "print(opt_bow_jp.score(*create_vectors_labels(bow_jp[1], bow_jp[3])))"
   ]
  },
  {
   "cell_type": "code",
   "execution_count": 46,
   "metadata": {},
   "outputs": [
    {
     "data": {
      "text/plain": [
       "PCA(copy=True, iterated_power='auto', n_components=350, random_state=None,\n",
       "  svd_solver='auto', tol=0.0, whiten=False)"
      ]
     },
     "execution_count": 46,
     "metadata": {},
     "output_type": "execute_result"
    }
   ],
   "source": [
    "pca = PCA(n_components=350)\n",
    "pca.fit(bow_ei[0] + bow_ei[1] + bow_ei[2] + bow_ei[3])"
   ]
  },
  {
   "cell_type": "code",
   "execution_count": 47,
   "metadata": {},
   "outputs": [
    {
     "data": {
      "text/plain": [
       "0.9031392638284903"
      ]
     },
     "execution_count": 47,
     "metadata": {},
     "output_type": "execute_result"
    }
   ],
   "source": [
    "pca.explained_variance_ratio_.cumsum()[-1]"
   ]
  },
  {
   "cell_type": "markdown",
   "metadata": {},
   "source": [
    "Using 350 principal components, we can still explain about 90% of the variance contained wihtin the bag of words representations.\n",
    "\n",
    "We are now going to examine whether applying PCA can improve classification results."
   ]
  },
  {
   "cell_type": "code",
   "execution_count": 48,
   "metadata": {
    "collapsed": true
   },
   "outputs": [],
   "source": [
    "transformed_bow_ei = transform_vectors(lambda v: list(pca.transform(v)), bow_ei)"
   ]
  },
  {
   "cell_type": "code",
   "execution_count": 49,
   "metadata": {},
   "outputs": [
    {
     "name": "stdout",
     "output_type": "stream",
     "text": [
      "Fitting 3 folds for each of 48 candidates, totalling 144 fits\n",
      "[CV] min_samples_leaf=2, min_samples_split=3, n_estimators=50 ........\n",
      "[CV]  min_samples_leaf=2, min_samples_split=3, n_estimators=50, score=0.539796 -   1.9s\n",
      "[CV] min_samples_leaf=2, min_samples_split=3, n_estimators=50 ........\n"
     ]
    },
    {
     "name": "stderr",
     "output_type": "stream",
     "text": [
      "[Parallel(n_jobs=1)]: Done   1 out of   1 | elapsed:    1.9s remaining:    0.0s\n"
     ]
    },
    {
     "name": "stdout",
     "output_type": "stream",
     "text": [
      "[CV]  min_samples_leaf=2, min_samples_split=3, n_estimators=50, score=0.549080 -   1.8s\n",
      "[CV] min_samples_leaf=2, min_samples_split=3, n_estimators=50 ........\n"
     ]
    },
    {
     "name": "stderr",
     "output_type": "stream",
     "text": [
      "[Parallel(n_jobs=1)]: Done   2 out of   2 | elapsed:    3.7s remaining:    0.0s\n"
     ]
    },
    {
     "name": "stdout",
     "output_type": "stream",
     "text": [
      "[CV]  min_samples_leaf=2, min_samples_split=3, n_estimators=50, score=0.533742 -   1.8s\n",
      "[CV] min_samples_leaf=2, min_samples_split=3, n_estimators=60 ........\n"
     ]
    },
    {
     "name": "stderr",
     "output_type": "stream",
     "text": [
      "[Parallel(n_jobs=1)]: Done   3 out of   3 | elapsed:    5.5s remaining:    0.0s\n"
     ]
    },
    {
     "name": "stdout",
     "output_type": "stream",
     "text": [
      "[CV]  min_samples_leaf=2, min_samples_split=3, n_estimators=60, score=0.583673 -   2.1s\n",
      "[CV] min_samples_leaf=2, min_samples_split=3, n_estimators=60 ........\n"
     ]
    },
    {
     "name": "stderr",
     "output_type": "stream",
     "text": [
      "[Parallel(n_jobs=1)]: Done   4 out of   4 | elapsed:    7.7s remaining:    0.0s\n"
     ]
    },
    {
     "name": "stdout",
     "output_type": "stream",
     "text": [
      "[CV]  min_samples_leaf=2, min_samples_split=3, n_estimators=60, score=0.528630 -   2.2s\n",
      "[CV] min_samples_leaf=2, min_samples_split=3, n_estimators=60 ........\n",
      "[CV]  min_samples_leaf=2, min_samples_split=3, n_estimators=60, score=0.553170 -   2.2s\n",
      "[CV] min_samples_leaf=2, min_samples_split=3, n_estimators=80 ........\n",
      "[CV]  min_samples_leaf=2, min_samples_split=3, n_estimators=80, score=0.564286 -   3.0s\n",
      "[CV] min_samples_leaf=2, min_samples_split=3, n_estimators=80 ........\n",
      "[CV]  min_samples_leaf=2, min_samples_split=3, n_estimators=80, score=0.573620 -   2.9s\n",
      "[CV] min_samples_leaf=2, min_samples_split=3, n_estimators=80 ........\n",
      "[CV]  min_samples_leaf=2, min_samples_split=3, n_estimators=80, score=0.548057 -   2.8s\n",
      "[CV] min_samples_leaf=2, min_samples_split=5, n_estimators=50 ........\n",
      "[CV]  min_samples_leaf=2, min_samples_split=5, n_estimators=50, score=0.553061 -   1.8s\n",
      "[CV] min_samples_leaf=2, min_samples_split=5, n_estimators=50 ........\n",
      "[CV]  min_samples_leaf=2, min_samples_split=5, n_estimators=50, score=0.546012 -   1.8s\n",
      "[CV] min_samples_leaf=2, min_samples_split=5, n_estimators=50 ........\n",
      "[CV]  min_samples_leaf=2, min_samples_split=5, n_estimators=50, score=0.542945 -   1.8s\n",
      "[CV] min_samples_leaf=2, min_samples_split=5, n_estimators=60 ........\n",
      "[CV]  min_samples_leaf=2, min_samples_split=5, n_estimators=60, score=0.572449 -   2.1s\n",
      "[CV] min_samples_leaf=2, min_samples_split=5, n_estimators=60 ........\n",
      "[CV]  min_samples_leaf=2, min_samples_split=5, n_estimators=60, score=0.591002 -   2.1s\n",
      "[CV] min_samples_leaf=2, min_samples_split=5, n_estimators=60 ........\n",
      "[CV]  min_samples_leaf=2, min_samples_split=5, n_estimators=60, score=0.582822 -   2.2s\n",
      "[CV] min_samples_leaf=2, min_samples_split=5, n_estimators=80 ........\n",
      "[CV]  min_samples_leaf=2, min_samples_split=5, n_estimators=80, score=0.583673 -   2.9s\n",
      "[CV] min_samples_leaf=2, min_samples_split=5, n_estimators=80 ........\n",
      "[CV]  min_samples_leaf=2, min_samples_split=5, n_estimators=80, score=0.592025 -   3.0s\n",
      "[CV] min_samples_leaf=2, min_samples_split=5, n_estimators=80 ........\n",
      "[CV]  min_samples_leaf=2, min_samples_split=5, n_estimators=80, score=0.578732 -   2.8s\n",
      "[CV] min_samples_leaf=2, min_samples_split=7, n_estimators=50 ........\n",
      "[CV]  min_samples_leaf=2, min_samples_split=7, n_estimators=50, score=0.566327 -   2.1s\n",
      "[CV] min_samples_leaf=2, min_samples_split=7, n_estimators=50 ........\n",
      "[CV]  min_samples_leaf=2, min_samples_split=7, n_estimators=50, score=0.557260 -   2.1s\n",
      "[CV] min_samples_leaf=2, min_samples_split=7, n_estimators=50 ........\n",
      "[CV]  min_samples_leaf=2, min_samples_split=7, n_estimators=50, score=0.549080 -   2.0s\n",
      "[CV] min_samples_leaf=2, min_samples_split=7, n_estimators=60 ........\n",
      "[CV]  min_samples_leaf=2, min_samples_split=7, n_estimators=60, score=0.567347 -   2.7s\n",
      "[CV] min_samples_leaf=2, min_samples_split=7, n_estimators=60 ........\n",
      "[CV]  min_samples_leaf=2, min_samples_split=7, n_estimators=60, score=0.556237 -   2.4s\n",
      "[CV] min_samples_leaf=2, min_samples_split=7, n_estimators=60 ........\n",
      "[CV]  min_samples_leaf=2, min_samples_split=7, n_estimators=60, score=0.559305 -   3.1s\n",
      "[CV] min_samples_leaf=2, min_samples_split=7, n_estimators=80 ........\n",
      "[CV]  min_samples_leaf=2, min_samples_split=7, n_estimators=80, score=0.581633 -   3.6s\n",
      "[CV] min_samples_leaf=2, min_samples_split=7, n_estimators=80 ........\n",
      "[CV]  min_samples_leaf=2, min_samples_split=7, n_estimators=80, score=0.576687 -   3.7s\n",
      "[CV] min_samples_leaf=2, min_samples_split=7, n_estimators=80 ........\n",
      "[CV]  min_samples_leaf=2, min_samples_split=7, n_estimators=80, score=0.558282 -   3.5s\n",
      "[CV] min_samples_leaf=2, min_samples_split=9, n_estimators=50 ........\n",
      "[CV]  min_samples_leaf=2, min_samples_split=9, n_estimators=50, score=0.563265 -   2.3s\n",
      "[CV] min_samples_leaf=2, min_samples_split=9, n_estimators=50 ........\n",
      "[CV]  min_samples_leaf=2, min_samples_split=9, n_estimators=50, score=0.546012 -   2.0s\n",
      "[CV] min_samples_leaf=2, min_samples_split=9, n_estimators=50 ........\n",
      "[CV]  min_samples_leaf=2, min_samples_split=9, n_estimators=50, score=0.575665 -   1.7s\n",
      "[CV] min_samples_leaf=2, min_samples_split=9, n_estimators=60 ........\n",
      "[CV]  min_samples_leaf=2, min_samples_split=9, n_estimators=60, score=0.548980 -   2.1s\n",
      "[CV] min_samples_leaf=2, min_samples_split=9, n_estimators=60 ........\n",
      "[CV]  min_samples_leaf=2, min_samples_split=9, n_estimators=60, score=0.562372 -   2.1s\n",
      "[CV] min_samples_leaf=2, min_samples_split=9, n_estimators=60 ........\n",
      "[CV]  min_samples_leaf=2, min_samples_split=9, n_estimators=60, score=0.551125 -   2.1s\n",
      "[CV] min_samples_leaf=2, min_samples_split=9, n_estimators=80 ........\n",
      "[CV]  min_samples_leaf=2, min_samples_split=9, n_estimators=80, score=0.589796 -   2.8s\n",
      "[CV] min_samples_leaf=2, min_samples_split=9, n_estimators=80 ........\n",
      "[CV]  min_samples_leaf=2, min_samples_split=9, n_estimators=80, score=0.564417 -   2.8s\n",
      "[CV] min_samples_leaf=2, min_samples_split=9, n_estimators=80 ........\n",
      "[CV]  min_samples_leaf=2, min_samples_split=9, n_estimators=80, score=0.552147 -   2.8s\n",
      "[CV] min_samples_leaf=4, min_samples_split=3, n_estimators=50 ........\n",
      "[CV]  min_samples_leaf=4, min_samples_split=3, n_estimators=50, score=0.591837 -   1.6s\n",
      "[CV] min_samples_leaf=4, min_samples_split=3, n_estimators=50 ........\n",
      "[CV]  min_samples_leaf=4, min_samples_split=3, n_estimators=50, score=0.568507 -   1.7s\n",
      "[CV] min_samples_leaf=4, min_samples_split=3, n_estimators=50 ........\n",
      "[CV]  min_samples_leaf=4, min_samples_split=3, n_estimators=50, score=0.553170 -   1.9s\n",
      "[CV] min_samples_leaf=4, min_samples_split=3, n_estimators=60 ........\n",
      "[CV]  min_samples_leaf=4, min_samples_split=3, n_estimators=60, score=0.548980 -   2.1s\n",
      "[CV] min_samples_leaf=4, min_samples_split=3, n_estimators=60 ........\n",
      "[CV]  min_samples_leaf=4, min_samples_split=3, n_estimators=60, score=0.584867 -   2.2s\n",
      "[CV] min_samples_leaf=4, min_samples_split=3, n_estimators=60 ........\n",
      "[CV]  min_samples_leaf=4, min_samples_split=3, n_estimators=60, score=0.569530 -   2.1s\n",
      "[CV] min_samples_leaf=4, min_samples_split=3, n_estimators=80 ........\n",
      "[CV]  min_samples_leaf=4, min_samples_split=3, n_estimators=80, score=0.603061 -   2.8s\n",
      "[CV] min_samples_leaf=4, min_samples_split=3, n_estimators=80 ........\n",
      "[CV]  min_samples_leaf=4, min_samples_split=3, n_estimators=80, score=0.584867 -   3.0s\n",
      "[CV] min_samples_leaf=4, min_samples_split=3, n_estimators=80 ........\n",
      "[CV]  min_samples_leaf=4, min_samples_split=3, n_estimators=80, score=0.584867 -   2.6s\n",
      "[CV] min_samples_leaf=4, min_samples_split=5, n_estimators=50 ........\n",
      "[CV]  min_samples_leaf=4, min_samples_split=5, n_estimators=50, score=0.565306 -   1.7s\n",
      "[CV] min_samples_leaf=4, min_samples_split=5, n_estimators=50 ........\n",
      "[CV]  min_samples_leaf=4, min_samples_split=5, n_estimators=50, score=0.584867 -   1.6s\n",
      "[CV] min_samples_leaf=4, min_samples_split=5, n_estimators=50 ........\n",
      "[CV]  min_samples_leaf=4, min_samples_split=5, n_estimators=50, score=0.589980 -   1.7s\n",
      "[CV] min_samples_leaf=4, min_samples_split=5, n_estimators=60 ........\n",
      "[CV]  min_samples_leaf=4, min_samples_split=5, n_estimators=60, score=0.546939 -   2.2s\n",
      "[CV] min_samples_leaf=4, min_samples_split=5, n_estimators=60 ........\n",
      "[CV]  min_samples_leaf=4, min_samples_split=5, n_estimators=60, score=0.569530 -   2.2s\n",
      "[CV] min_samples_leaf=4, min_samples_split=5, n_estimators=60 ........\n",
      "[CV]  min_samples_leaf=4, min_samples_split=5, n_estimators=60, score=0.561350 -   2.1s\n",
      "[CV] min_samples_leaf=4, min_samples_split=5, n_estimators=80 ........\n",
      "[CV]  min_samples_leaf=4, min_samples_split=5, n_estimators=80, score=0.592857 -   2.6s\n",
      "[CV] min_samples_leaf=4, min_samples_split=5, n_estimators=80 ........\n",
      "[CV]  min_samples_leaf=4, min_samples_split=5, n_estimators=80, score=0.576687 -   2.7s\n",
      "[CV] min_samples_leaf=4, min_samples_split=5, n_estimators=80 ........\n",
      "[CV]  min_samples_leaf=4, min_samples_split=5, n_estimators=80, score=0.560327 -   3.0s\n",
      "[CV] min_samples_leaf=4, min_samples_split=7, n_estimators=50 ........\n",
      "[CV]  min_samples_leaf=4, min_samples_split=7, n_estimators=50, score=0.558163 -   1.8s\n",
      "[CV] min_samples_leaf=4, min_samples_split=7, n_estimators=50 ........\n",
      "[CV]  min_samples_leaf=4, min_samples_split=7, n_estimators=50, score=0.535787 -   1.8s\n",
      "[CV] min_samples_leaf=4, min_samples_split=7, n_estimators=50 ........\n"
     ]
    },
    {
     "name": "stdout",
     "output_type": "stream",
     "text": [
      "[CV]  min_samples_leaf=4, min_samples_split=7, n_estimators=50, score=0.567485 -   1.7s\n",
      "[CV] min_samples_leaf=4, min_samples_split=7, n_estimators=60 ........\n",
      "[CV]  min_samples_leaf=4, min_samples_split=7, n_estimators=60, score=0.566327 -   2.1s\n",
      "[CV] min_samples_leaf=4, min_samples_split=7, n_estimators=60 ........\n",
      "[CV]  min_samples_leaf=4, min_samples_split=7, n_estimators=60, score=0.591002 -   2.2s\n",
      "[CV] min_samples_leaf=4, min_samples_split=7, n_estimators=60 ........\n",
      "[CV]  min_samples_leaf=4, min_samples_split=7, n_estimators=60, score=0.555215 -   2.1s\n",
      "[CV] min_samples_leaf=4, min_samples_split=7, n_estimators=80 ........\n",
      "[CV]  min_samples_leaf=4, min_samples_split=7, n_estimators=80, score=0.597959 -   2.8s\n",
      "[CV] min_samples_leaf=4, min_samples_split=7, n_estimators=80 ........\n",
      "[CV]  min_samples_leaf=4, min_samples_split=7, n_estimators=80, score=0.564417 -   2.7s\n",
      "[CV] min_samples_leaf=4, min_samples_split=7, n_estimators=80 ........\n",
      "[CV]  min_samples_leaf=4, min_samples_split=7, n_estimators=80, score=0.568507 -   2.6s\n",
      "[CV] min_samples_leaf=4, min_samples_split=9, n_estimators=50 ........\n",
      "[CV]  min_samples_leaf=4, min_samples_split=9, n_estimators=50, score=0.591837 -   1.7s\n",
      "[CV] min_samples_leaf=4, min_samples_split=9, n_estimators=50 ........\n",
      "[CV]  min_samples_leaf=4, min_samples_split=9, n_estimators=50, score=0.565440 -   1.7s\n",
      "[CV] min_samples_leaf=4, min_samples_split=9, n_estimators=50 ........\n",
      "[CV]  min_samples_leaf=4, min_samples_split=9, n_estimators=50, score=0.565440 -   1.8s\n",
      "[CV] min_samples_leaf=4, min_samples_split=9, n_estimators=60 ........\n",
      "[CV]  min_samples_leaf=4, min_samples_split=9, n_estimators=60, score=0.572449 -   2.0s\n",
      "[CV] min_samples_leaf=4, min_samples_split=9, n_estimators=60 ........\n",
      "[CV]  min_samples_leaf=4, min_samples_split=9, n_estimators=60, score=0.559305 -   2.0s\n",
      "[CV] min_samples_leaf=4, min_samples_split=9, n_estimators=60 ........\n",
      "[CV]  min_samples_leaf=4, min_samples_split=9, n_estimators=60, score=0.589980 -   2.0s\n",
      "[CV] min_samples_leaf=4, min_samples_split=9, n_estimators=80 ........\n",
      "[CV]  min_samples_leaf=4, min_samples_split=9, n_estimators=80, score=0.601020 -   2.7s\n",
      "[CV] min_samples_leaf=4, min_samples_split=9, n_estimators=80 ........\n",
      "[CV]  min_samples_leaf=4, min_samples_split=9, n_estimators=80, score=0.568507 -   2.7s\n",
      "[CV] min_samples_leaf=4, min_samples_split=9, n_estimators=80 ........\n",
      "[CV]  min_samples_leaf=4, min_samples_split=9, n_estimators=80, score=0.564417 -   3.0s\n",
      "[CV] min_samples_leaf=7, min_samples_split=3, n_estimators=50 ........\n",
      "[CV]  min_samples_leaf=7, min_samples_split=3, n_estimators=50, score=0.583673 -   1.5s\n",
      "[CV] min_samples_leaf=7, min_samples_split=3, n_estimators=50 ........\n",
      "[CV]  min_samples_leaf=7, min_samples_split=3, n_estimators=50, score=0.557260 -   1.5s\n",
      "[CV] min_samples_leaf=7, min_samples_split=3, n_estimators=50 ........\n",
      "[CV]  min_samples_leaf=7, min_samples_split=3, n_estimators=50, score=0.559305 -   1.5s\n",
      "[CV] min_samples_leaf=7, min_samples_split=3, n_estimators=60 ........\n",
      "[CV]  min_samples_leaf=7, min_samples_split=3, n_estimators=60, score=0.580612 -   1.8s\n",
      "[CV] min_samples_leaf=7, min_samples_split=3, n_estimators=60 ........\n",
      "[CV]  min_samples_leaf=7, min_samples_split=3, n_estimators=60, score=0.559305 -   1.8s\n",
      "[CV] min_samples_leaf=7, min_samples_split=3, n_estimators=60 ........\n",
      "[CV]  min_samples_leaf=7, min_samples_split=3, n_estimators=60, score=0.550102 -   1.9s\n",
      "[CV] min_samples_leaf=7, min_samples_split=3, n_estimators=80 ........\n",
      "[CV]  min_samples_leaf=7, min_samples_split=3, n_estimators=80, score=0.586735 -   2.4s\n",
      "[CV] min_samples_leaf=7, min_samples_split=3, n_estimators=80 ........\n",
      "[CV]  min_samples_leaf=7, min_samples_split=3, n_estimators=80, score=0.574642 -   2.4s\n",
      "[CV] min_samples_leaf=7, min_samples_split=3, n_estimators=80 ........\n",
      "[CV]  min_samples_leaf=7, min_samples_split=3, n_estimators=80, score=0.542945 -   2.5s\n",
      "[CV] min_samples_leaf=7, min_samples_split=5, n_estimators=50 ........\n",
      "[CV]  min_samples_leaf=7, min_samples_split=5, n_estimators=50, score=0.547959 -   1.5s\n",
      "[CV] min_samples_leaf=7, min_samples_split=5, n_estimators=50 ........\n",
      "[CV]  min_samples_leaf=7, min_samples_split=5, n_estimators=50, score=0.547035 -   1.8s\n",
      "[CV] min_samples_leaf=7, min_samples_split=5, n_estimators=50 ........\n",
      "[CV]  min_samples_leaf=7, min_samples_split=5, n_estimators=50, score=0.559305 -   2.3s\n",
      "[CV] min_samples_leaf=7, min_samples_split=5, n_estimators=60 ........\n",
      "[CV]  min_samples_leaf=7, min_samples_split=5, n_estimators=60, score=0.611224 -   2.8s\n",
      "[CV] min_samples_leaf=7, min_samples_split=5, n_estimators=60 ........\n",
      "[CV]  min_samples_leaf=7, min_samples_split=5, n_estimators=60, score=0.562372 -   2.3s\n",
      "[CV] min_samples_leaf=7, min_samples_split=5, n_estimators=60 ........\n",
      "[CV]  min_samples_leaf=7, min_samples_split=5, n_estimators=60, score=0.581800 -   2.5s\n",
      "[CV] min_samples_leaf=7, min_samples_split=5, n_estimators=80 ........\n",
      "[CV]  min_samples_leaf=7, min_samples_split=5, n_estimators=80, score=0.589796 -   3.0s\n",
      "[CV] min_samples_leaf=7, min_samples_split=5, n_estimators=80 ........\n",
      "[CV]  min_samples_leaf=7, min_samples_split=5, n_estimators=80, score=0.567485 -   2.5s\n",
      "[CV] min_samples_leaf=7, min_samples_split=5, n_estimators=80 ........\n",
      "[CV]  min_samples_leaf=7, min_samples_split=5, n_estimators=80, score=0.589980 -   3.0s\n",
      "[CV] min_samples_leaf=7, min_samples_split=7, n_estimators=50 ........\n",
      "[CV]  min_samples_leaf=7, min_samples_split=7, n_estimators=50, score=0.596939 -   2.2s\n",
      "[CV] min_samples_leaf=7, min_samples_split=7, n_estimators=50 ........\n",
      "[CV]  min_samples_leaf=7, min_samples_split=7, n_estimators=50, score=0.563395 -   2.0s\n",
      "[CV] min_samples_leaf=7, min_samples_split=7, n_estimators=50 ........\n",
      "[CV]  min_samples_leaf=7, min_samples_split=7, n_estimators=50, score=0.582822 -   1.8s\n",
      "[CV] min_samples_leaf=7, min_samples_split=7, n_estimators=60 ........\n",
      "[CV]  min_samples_leaf=7, min_samples_split=7, n_estimators=60, score=0.604082 -   2.1s\n",
      "[CV] min_samples_leaf=7, min_samples_split=7, n_estimators=60 ........\n",
      "[CV]  min_samples_leaf=7, min_samples_split=7, n_estimators=60, score=0.570552 -   1.9s\n",
      "[CV] min_samples_leaf=7, min_samples_split=7, n_estimators=60 ........\n",
      "[CV]  min_samples_leaf=7, min_samples_split=7, n_estimators=60, score=0.558282 -   2.0s\n",
      "[CV] min_samples_leaf=7, min_samples_split=7, n_estimators=80 ........\n",
      "[CV]  min_samples_leaf=7, min_samples_split=7, n_estimators=80, score=0.592857 -   2.5s\n",
      "[CV] min_samples_leaf=7, min_samples_split=7, n_estimators=80 ........\n",
      "[CV]  min_samples_leaf=7, min_samples_split=7, n_estimators=80, score=0.556237 -   2.5s\n",
      "[CV] min_samples_leaf=7, min_samples_split=7, n_estimators=80 ........\n",
      "[CV]  min_samples_leaf=7, min_samples_split=7, n_estimators=80, score=0.588957 -   2.4s\n",
      "[CV] min_samples_leaf=7, min_samples_split=9, n_estimators=50 ........\n",
      "[CV]  min_samples_leaf=7, min_samples_split=9, n_estimators=50, score=0.589796 -   1.5s\n",
      "[CV] min_samples_leaf=7, min_samples_split=9, n_estimators=50 ........\n",
      "[CV]  min_samples_leaf=7, min_samples_split=9, n_estimators=50, score=0.547035 -   1.6s\n",
      "[CV] min_samples_leaf=7, min_samples_split=9, n_estimators=50 ........\n",
      "[CV]  min_samples_leaf=7, min_samples_split=9, n_estimators=50, score=0.570552 -   1.5s\n",
      "[CV] min_samples_leaf=7, min_samples_split=9, n_estimators=60 ........\n",
      "[CV]  min_samples_leaf=7, min_samples_split=9, n_estimators=60, score=0.563265 -   1.9s\n",
      "[CV] min_samples_leaf=7, min_samples_split=9, n_estimators=60 ........\n",
      "[CV]  min_samples_leaf=7, min_samples_split=9, n_estimators=60, score=0.578732 -   2.8s\n",
      "[CV] min_samples_leaf=7, min_samples_split=9, n_estimators=60 ........\n",
      "[CV]  min_samples_leaf=7, min_samples_split=9, n_estimators=60, score=0.549080 -   2.1s\n",
      "[CV] min_samples_leaf=7, min_samples_split=9, n_estimators=80 ........\n",
      "[CV]  min_samples_leaf=7, min_samples_split=9, n_estimators=80, score=0.588776 -   3.0s\n",
      "[CV] min_samples_leaf=7, min_samples_split=9, n_estimators=80 ........\n",
      "[CV]  min_samples_leaf=7, min_samples_split=9, n_estimators=80, score=0.607362 -   2.8s\n",
      "[CV] min_samples_leaf=7, min_samples_split=9, n_estimators=80 ........\n",
      "[CV]  min_samples_leaf=7, min_samples_split=9, n_estimators=80, score=0.556237 -   2.7s\n",
      "[CV] min_samples_leaf=10, min_samples_split=3, n_estimators=50 .......\n"
     ]
    },
    {
     "name": "stdout",
     "output_type": "stream",
     "text": [
      "[CV]  min_samples_leaf=10, min_samples_split=3, n_estimators=50, score=0.601020 -   1.5s\n",
      "[CV] min_samples_leaf=10, min_samples_split=3, n_estimators=50 .......\n",
      "[CV]  min_samples_leaf=10, min_samples_split=3, n_estimators=50, score=0.581800 -   1.5s\n",
      "[CV] min_samples_leaf=10, min_samples_split=3, n_estimators=50 .......\n",
      "[CV]  min_samples_leaf=10, min_samples_split=3, n_estimators=50, score=0.544990 -   1.5s\n",
      "[CV] min_samples_leaf=10, min_samples_split=3, n_estimators=60 .......\n",
      "[CV]  min_samples_leaf=10, min_samples_split=3, n_estimators=60, score=0.590816 -   1.9s\n",
      "[CV] min_samples_leaf=10, min_samples_split=3, n_estimators=60 .......\n",
      "[CV]  min_samples_leaf=10, min_samples_split=3, n_estimators=60, score=0.596115 -   1.8s\n",
      "[CV] min_samples_leaf=10, min_samples_split=3, n_estimators=60 .......\n",
      "[CV]  min_samples_leaf=10, min_samples_split=3, n_estimators=60, score=0.588957 -   2.7s\n",
      "[CV] min_samples_leaf=10, min_samples_split=3, n_estimators=80 .......\n",
      "[CV]  min_samples_leaf=10, min_samples_split=3, n_estimators=80, score=0.582653 -   3.3s\n",
      "[CV] min_samples_leaf=10, min_samples_split=3, n_estimators=80 .......\n",
      "[CV]  min_samples_leaf=10, min_samples_split=3, n_estimators=80, score=0.561350 -   3.1s\n",
      "[CV] min_samples_leaf=10, min_samples_split=3, n_estimators=80 .......\n",
      "[CV]  min_samples_leaf=10, min_samples_split=3, n_estimators=80, score=0.581800 -   2.8s\n",
      "[CV] min_samples_leaf=10, min_samples_split=5, n_estimators=50 .......\n",
      "[CV]  min_samples_leaf=10, min_samples_split=5, n_estimators=50, score=0.595918 -   1.6s\n",
      "[CV] min_samples_leaf=10, min_samples_split=5, n_estimators=50 .......\n",
      "[CV]  min_samples_leaf=10, min_samples_split=5, n_estimators=50, score=0.563395 -   1.4s\n",
      "[CV] min_samples_leaf=10, min_samples_split=5, n_estimators=50 .......\n",
      "[CV]  min_samples_leaf=10, min_samples_split=5, n_estimators=50, score=0.584867 -   1.5s\n",
      "[CV] min_samples_leaf=10, min_samples_split=5, n_estimators=60 .......\n",
      "[CV]  min_samples_leaf=10, min_samples_split=5, n_estimators=60, score=0.571429 -   1.8s\n",
      "[CV] min_samples_leaf=10, min_samples_split=5, n_estimators=60 .......\n",
      "[CV]  min_samples_leaf=10, min_samples_split=5, n_estimators=60, score=0.563395 -   1.9s\n",
      "[CV] min_samples_leaf=10, min_samples_split=5, n_estimators=60 .......\n",
      "[CV]  min_samples_leaf=10, min_samples_split=5, n_estimators=60, score=0.575665 -   1.8s\n",
      "[CV] min_samples_leaf=10, min_samples_split=5, n_estimators=80 .......\n",
      "[CV]  min_samples_leaf=10, min_samples_split=5, n_estimators=80, score=0.593878 -   2.4s\n",
      "[CV] min_samples_leaf=10, min_samples_split=5, n_estimators=80 .......\n",
      "[CV]  min_samples_leaf=10, min_samples_split=5, n_estimators=80, score=0.587935 -   2.3s\n",
      "[CV] min_samples_leaf=10, min_samples_split=5, n_estimators=80 .......\n",
      "[CV]  min_samples_leaf=10, min_samples_split=5, n_estimators=80, score=0.568507 -   2.3s\n",
      "[CV] min_samples_leaf=10, min_samples_split=7, n_estimators=50 .......\n",
      "[CV]  min_samples_leaf=10, min_samples_split=7, n_estimators=50, score=0.575510 -   1.5s\n",
      "[CV] min_samples_leaf=10, min_samples_split=7, n_estimators=50 .......\n",
      "[CV]  min_samples_leaf=10, min_samples_split=7, n_estimators=50, score=0.583845 -   1.8s\n",
      "[CV] min_samples_leaf=10, min_samples_split=7, n_estimators=50 .......\n",
      "[CV]  min_samples_leaf=10, min_samples_split=7, n_estimators=50, score=0.568507 -   1.7s\n",
      "[CV] min_samples_leaf=10, min_samples_split=7, n_estimators=60 .......\n",
      "[CV]  min_samples_leaf=10, min_samples_split=7, n_estimators=60, score=0.597959 -   2.0s\n",
      "[CV] min_samples_leaf=10, min_samples_split=7, n_estimators=60 .......\n",
      "[CV]  min_samples_leaf=10, min_samples_split=7, n_estimators=60, score=0.582822 -   2.2s\n",
      "[CV] min_samples_leaf=10, min_samples_split=7, n_estimators=60 .......\n",
      "[CV]  min_samples_leaf=10, min_samples_split=7, n_estimators=60, score=0.559305 -   2.0s\n",
      "[CV] min_samples_leaf=10, min_samples_split=7, n_estimators=80 .......\n",
      "[CV]  min_samples_leaf=10, min_samples_split=7, n_estimators=80, score=0.614286 -   2.8s\n",
      "[CV] min_samples_leaf=10, min_samples_split=7, n_estimators=80 .......\n",
      "[CV]  min_samples_leaf=10, min_samples_split=7, n_estimators=80, score=0.596115 -   2.9s\n",
      "[CV] min_samples_leaf=10, min_samples_split=7, n_estimators=80 .......\n",
      "[CV]  min_samples_leaf=10, min_samples_split=7, n_estimators=80, score=0.596115 -   2.9s\n",
      "[CV] min_samples_leaf=10, min_samples_split=9, n_estimators=50 .......\n",
      "[CV]  min_samples_leaf=10, min_samples_split=9, n_estimators=50, score=0.608163 -   1.8s\n",
      "[CV] min_samples_leaf=10, min_samples_split=9, n_estimators=50 .......\n",
      "[CV]  min_samples_leaf=10, min_samples_split=9, n_estimators=50, score=0.581800 -   1.6s\n",
      "[CV] min_samples_leaf=10, min_samples_split=9, n_estimators=50 .......\n",
      "[CV]  min_samples_leaf=10, min_samples_split=9, n_estimators=50, score=0.555215 -   1.8s\n",
      "[CV] min_samples_leaf=10, min_samples_split=9, n_estimators=60 .......\n",
      "[CV]  min_samples_leaf=10, min_samples_split=9, n_estimators=60, score=0.591837 -   2.2s\n",
      "[CV] min_samples_leaf=10, min_samples_split=9, n_estimators=60 .......\n",
      "[CV]  min_samples_leaf=10, min_samples_split=9, n_estimators=60, score=0.565440 -   2.3s\n",
      "[CV] min_samples_leaf=10, min_samples_split=9, n_estimators=60 .......\n",
      "[CV]  min_samples_leaf=10, min_samples_split=9, n_estimators=60, score=0.585890 -   2.5s\n",
      "[CV] min_samples_leaf=10, min_samples_split=9, n_estimators=80 .......\n",
      "[CV]  min_samples_leaf=10, min_samples_split=9, n_estimators=80, score=0.615306 -   2.8s\n",
      "[CV] min_samples_leaf=10, min_samples_split=9, n_estimators=80 .......\n",
      "[CV]  min_samples_leaf=10, min_samples_split=9, n_estimators=80, score=0.582822 -   2.9s\n",
      "[CV] min_samples_leaf=10, min_samples_split=9, n_estimators=80 .......\n",
      "[CV]  min_samples_leaf=10, min_samples_split=9, n_estimators=80, score=0.574642 -   2.6s\n"
     ]
    },
    {
     "name": "stderr",
     "output_type": "stream",
     "text": [
      "[Parallel(n_jobs=1)]: Done 144 out of 144 | elapsed:  5.4min finished\n"
     ]
    },
    {
     "data": {
      "text/plain": [
       "GridSearchCV(cv=None, error_score='raise',\n",
       "       estimator=RandomForestClassifier(bootstrap=True, class_weight=None, criterion='gini',\n",
       "            max_depth=None, max_features='auto', max_leaf_nodes=None,\n",
       "            min_impurity_decrease=0.0, min_impurity_split=None,\n",
       "            min_samples_leaf=1, min_samples_split=2,\n",
       "            min_weight_fraction_leaf=0.0, n_estimators=10, n_jobs=1,\n",
       "            oob_score=False, random_state=None, verbose=0,\n",
       "            warm_start=False),\n",
       "       fit_params={}, iid=True, n_jobs=1,\n",
       "       param_grid={'n_estimators': [50, 60, 80], 'min_samples_leaf': [2, 4, 7, 10], 'min_samples_split': [3, 5, 7, 9]},\n",
       "       pre_dispatch='2*n_jobs', refit=True, scoring=None, verbose=5)"
      ]
     },
     "execution_count": 49,
     "metadata": {},
     "output_type": "execute_result"
    }
   ],
   "source": [
    "clf_bow_t = GridSearchCV(RandomForestClassifier(), grid, verbose=5)\n",
    "clf_bow_t.fit(*create_vectors_labels(transformed_bow_ei[0], transformed_bow_ei[2]))"
   ]
  },
  {
   "cell_type": "code",
   "execution_count": 50,
   "metadata": {},
   "outputs": [
    {
     "name": "stdout",
     "output_type": "stream",
     "text": [
      "0.569529652352\n"
     ]
    }
   ],
   "source": [
    "print(clf_bow_t.score(*create_vectors_labels(transformed_bow_ei[1], transformed_bow_ei[3])))"
   ]
  },
  {
   "cell_type": "markdown",
   "metadata": {},
   "source": [
    "Applying PCA to the BOW features did not lead to a significantly better performance; in fact, it led to a decrease in classification accuracy. Hence, we will stick to the classifiers using untransformed features."
   ]
  },
  {
   "cell_type": "markdown",
   "metadata": {},
   "source": [
    "## Identifying the most distinctive words"
   ]
  },
  {
   "cell_type": "code",
   "execution_count": 51,
   "metadata": {
    "collapsed": true
   },
   "outputs": [],
   "source": [
    "inverse_vocab = {v: k for k, v in cv.vocabulary_.items()}\n",
    "\n",
    "def show_important_words(estimator, name):\n",
    "    importances = estimator.feature_importances_\n",
    "    indices = np.argsort(importances)[::-1]\n",
    "\n",
    "    n_words = 9\n",
    "    \n",
    "    words = [inverse_vocab[w] for w in indices]\n",
    "    plt.figure()\n",
    "    plt.title(name)\n",
    "    plt.bar(range(n_words), importances[indices][:n_words], align=\"center\")\n",
    "    plt.xticks(range(n_words), [inverse_vocab[i] for i in indices])    \n",
    "    plt.show()"
   ]
  },
  {
   "cell_type": "code",
   "execution_count": 52,
   "metadata": {},
   "outputs": [
    {
     "data": {
      "image/png": "[encoded data removed]",
      "text/plain": [
       "<matplotlib.figure.Figure at 0x17fc40908>"
      ]
     },
     "metadata": {},
     "output_type": "display_data"
    }
   ],
   "source": [
    "show_important_words(opt_bow_ei.best_estimator_, \"Distinctive words E/I\")"
   ]
  },
  {
   "cell_type": "code",
   "execution_count": 53,
   "metadata": {},
   "outputs": [
    {
     "data": {
      "image/png": "[encoded data removed]",
      "text/plain": [
       "<matplotlib.figure.Figure at 0x17fc5f358>"
      ]
     },
     "metadata": {},
     "output_type": "display_data"
    }
   ],
   "source": [
    "show_important_words(opt_bow_tf, \"Distinctive words T/F\")"
   ]
  },
  {
   "cell_type": "code",
   "execution_count": 54,
   "metadata": {},
   "outputs": [
    {
     "data": {
      "image/png": "[encoded data removed]",
      "text/plain": [
       "<matplotlib.figure.Figure at 0x182cbee80>"
      ]
     },
     "metadata": {},
     "output_type": "display_data"
    }
   ],
   "source": [
    "show_important_words(opt_bow_jp, \"Distinctive words J/P\")"
   ]
  },
  {
   "cell_type": "code",
   "execution_count": 55,
   "metadata": {},
   "outputs": [
    {
     "data": {
      "image/png": "[encoded data removed]",
      "text/plain": [
       "<matplotlib.figure.Figure at 0x182ccbd68>"
      ]
     },
     "metadata": {},
     "output_type": "display_data"
    }
   ],
   "source": [
    "show_important_words(opt_bow_ns, \"Distinctive words N/S\")"
   ]
  },
  {
   "cell_type": "markdown",
   "metadata": {},
   "source": [
    "## Using Principal Component Analysis (PCA) for Word2Vec Visualization"
   ]
  },
  {
   "cell_type": "code",
   "execution_count": 56,
   "metadata": {
    "collapsed": true
   },
   "outputs": [],
   "source": [
    "def create_w2v_vector(text):\n",
    "    text = normalize_text(text)\n",
    "    vector = [0 for _ in range(300)]\n",
    "    n_words = 0\n",
    "    for w in ws.split(text):\n",
    "        if w in sw_english:\n",
    "            continue\n",
    "        if is_w2v_word(w):\n",
    "            n_words += 1\n",
    "            vector += model.wv[w]\n",
    "    vector = np.array(vector)\n",
    "    if n_words > 0:\n",
    "        vector = np.divide(vector, n_words)\n",
    "    return vector"
   ]
  },
  {
   "cell_type": "code",
   "execution_count": 57,
   "metadata": {},
   "outputs": [
    {
     "data": {
      "text/plain": [
       "PCA(copy=True, iterated_power='auto', n_components=2, random_state=None,\n",
       "  svd_solver='auto', tol=0.0, whiten=False)"
      ]
     },
     "execution_count": 57,
     "metadata": {},
     "output_type": "execute_result"
    }
   ],
   "source": [
    "pca = PCA(n_components=2)\n",
    "w2v_ei = transform_vectors(lambda v: [create_w2v_vector(p) for p in v], ei_vectors)\n",
    "pca.fit(w2v_ei[0] + w2v_ei[1] + w2v_ei[2] + w2v_ei[3])"
   ]
  },
  {
   "cell_type": "code",
   "execution_count": 58,
   "metadata": {},
   "outputs": [
    {
     "name": "stdout",
     "output_type": "stream",
     "text": [
      "[ 0.20775973  0.10679508]\n"
     ]
    }
   ],
   "source": [
    "print(pca.explained_variance_ratio_)"
   ]
  },
  {
   "cell_type": "code",
   "execution_count": 59,
   "metadata": {
    "collapsed": true
   },
   "outputs": [],
   "source": [
    "intro_mean = np.mean(w2v_ei[0], axis=0)\n",
    "extro_mean = np.mean(w2v_ei[2], axis=0)"
   ]
  },
  {
   "cell_type": "code",
   "execution_count": 67,
   "metadata": {
    "collapsed": true
   },
   "outputs": [],
   "source": [
    "x_intro = [ti[0] for ti in w2v_ei[0][:300]]\n",
    "y_intro = [ti[1] for ti in w2v_ei[0][:300]]\n",
    "x_extro = [te[0] for te in w2v_ei[2][:300]]\n",
    "y_extro = [te[1] for te in w2v_ei[2][:300]]"
   ]
  },
  {
   "cell_type": "code",
   "execution_count": 68,
   "metadata": {},
   "outputs": [
    {
     "data": {
      "text/plain": [
       "<matplotlib.legend.Legend at 0x182d2eef0>"
      ]
     },
     "execution_count": 68,
     "metadata": {},
     "output_type": "execute_result"
    },
    {
     "data": {
      "image/png": "[encoded data removed]",
      "text/plain": [
       "<matplotlib.figure.Figure at 0x182ce44a8>"
      ]
     },
     "metadata": {},
     "output_type": "display_data"
    }
   ],
   "source": [
    "fig, ax = plt.subplots()\n",
    "plt.scatter(x_intro, y_intro, label=\"intro\", alpha=0.5)\n",
    "plt.scatter(x_extro, y_extro, label=\"extro\", alpha=0.5)\n",
    "plt.scatter(intro_mean[0], intro_mean[1], label=\"i_mean\", alpha=0.8)\n",
    "plt.scatter(extro_mean[0], extro_mean[1], label=\"e_mean\", alpha=0.8)\n",
    "ax.axis('off')\n",
    "ax.legend()"
   ]
  },
  {
   "cell_type": "markdown",
   "metadata": {},
   "source": [
    "The plot does not really look promising. However, we have to keep in mind that the two displayed principal components account for only $\\frac{1}{3}$ of the total variance in the available person vectors."
   ]
  },
  {
   "cell_type": "code",
   "execution_count": 69,
   "metadata": {},
   "outputs": [
    {
     "data": {
      "text/plain": [
       "<matplotlib.legend.Legend at 0x182d3f438>"
      ]
     },
     "execution_count": 69,
     "metadata": {},
     "output_type": "execute_result"
    },
    {
     "data": {
      "image/png": "[encoded data removed]",
      "text/plain": [
       "<matplotlib.figure.Figure at 0x182d33630>"
      ]
     },
     "metadata": {},
     "output_type": "display_data"
    }
   ],
   "source": [
    "w2v_ns = transform_vectors(lambda v: [create_w2v_vector(p) for p in v], ns_vectors)\n",
    "x_n = [t[0] for t in w2v_ns[0][:300]]\n",
    "y_n = [t[1] for t in w2v_ns[0][:300]]\n",
    "x_s = [t[0] for t in w2v_ns[2][:300]] \n",
    "y_s = [t[1] for t in w2v_ns[2][:300]]\n",
    "n_mean = np.mean(w2v_ns[0], axis=0)\n",
    "s_mean = np.mean(w2v_ns[2], axis=0)\n",
    "\n",
    "\n",
    "fig, ax = plt.subplots()\n",
    "plt.scatter(x_n, y_n, label=\"intuition\", alpha=0.5)\n",
    "plt.scatter(x_s, y_s, label=\"sensing\", alpha=0.5)\n",
    "plt.scatter(n_mean[0], n_mean[1], label=\"n_mean\", alpha=0.8)\n",
    "plt.scatter(s_mean[0], s_mean[1], label=\"s_mean\", alpha=0.8)\n",
    "ax.axis('off')\n",
    "ax.legend()"
   ]
  },
  {
   "cell_type": "code",
   "execution_count": 70,
   "metadata": {},
   "outputs": [
    {
     "data": {
      "text/plain": [
       "<matplotlib.legend.Legend at 0x182d4e390>"
      ]
     },
     "execution_count": 70,
     "metadata": {},
     "output_type": "execute_result"
    },
    {
     "data": {
      "image/png": "[encoded data removed]",
      "text/plain": [
       "<matplotlib.figure.Figure at 0x182d370f0>"
      ]
     },
     "metadata": {},
     "output_type": "display_data"
    }
   ],
   "source": [
    "w2v_tf = transform_vectors(lambda v: [create_w2v_vector(p) for p in v], tf_vectors)\n",
    "x_t = [t[0] for t in w2v_tf[0][:300]]\n",
    "y_t = [t[1] for t in w2v_tf[0][:300]]\n",
    "x_f = [t[0] for t in w2v_tf[2][:300]] \n",
    "y_f = [t[1] for t in w2v_tf[2][:300]]\n",
    "t_mean = np.mean(w2v_tf[0], axis=0)\n",
    "f_mean = np.mean(w2v_tf[2], axis=0)\n",
    "\n",
    "fig, ax = plt.subplots()\n",
    "plt.scatter(x_t, y_t, label=\"thinking\", alpha=0.5)\n",
    "plt.scatter(x_f, y_f, label=\"feeling\", alpha=0.5)\n",
    "plt.scatter(t_mean[0], t_mean[1], label=\"t_mean\", alpha=0.8)\n",
    "plt.scatter(f_mean[0], f_mean[1], label=\"f_mean\", alpha=0.8)\n",
    "ax.axis('off')\n",
    "ax.legend()"
   ]
  },
  {
   "cell_type": "code",
   "execution_count": 73,
   "metadata": {},
   "outputs": [
    {
     "data": {
      "text/plain": [
       "<matplotlib.legend.Legend at 0x182d7e320>"
      ]
     },
     "execution_count": 73,
     "metadata": {},
     "output_type": "execute_result"
    },
    {
     "data": {
      "image/png": "[encoded data removed]",
      "text/plain": [
       "<matplotlib.figure.Figure at 0x182d63ac8>"
      ]
     },
     "metadata": {},
     "output_type": "display_data"
    }
   ],
   "source": [
    "w2v_jp = transform_vectors(lambda v: [create_w2v_vector(p) for p in v], jp_vectors)\n",
    "x_j = [t[0] for t in w2v_jp[0][:300]]\n",
    "y_j = [t[1] for t in w2v_jp[0][:300]]\n",
    "x_p = [t[0] for t in w2v_jp[2][:300]] \n",
    "y_p = [t[1] for t in w2v_jp[2][:300]]\n",
    "j_mean = np.mean(w2v_jp[0], axis=0)\n",
    "p_mean = np.mean(w2v_jp[2], axis=0)\n",
    "\n",
    "fig, ax = plt.subplots()\n",
    "plt.scatter(x_j, y_j, label=\"judging\", alpha=0.5)\n",
    "plt.scatter(x_p, y_p, label=\"perceiving\", alpha=0.5)\n",
    "plt.scatter(j_mean[0], j_mean[1], label=\"j_mean\", alpha=0.8)\n",
    "plt.scatter(p_mean[0], p_mean[1], label=\"p_mean\", alpha=0.8)\n",
    "ax.axis('off')\n",
    "ax.legend()"
   ]
  },
  {
   "cell_type": "markdown",
   "metadata": {},
   "source": [
    "## Training classifiers using Word2Vec-based representations"
   ]
  },
  {
   "cell_type": "code",
   "execution_count": 65,
   "metadata": {
    "collapsed": true
   },
   "outputs": [],
   "source": [
    "w2v_ei = transform_vectors(lambda v: [create_w2v_vector(p) for p in v], ei_vectors)\n",
    "w2v_ns = transform_vectors(lambda v: [create_w2v_vector(p) for p in v], ns_vectors)\n",
    "w2v_tf = transform_vectors(lambda v: [create_w2v_vector(p) for p in v], tf_vectors)\n",
    "w2v_jp = transform_vectors(lambda v: [create_w2v_vector(p) for p in v], jp_vectors)"
   ]
  },
  {
   "cell_type": "code",
   "execution_count": 74,
   "metadata": {},
   "outputs": [
    {
     "name": "stdout",
     "output_type": "stream",
     "text": [
      "Fitting 3 folds for each of 48 candidates, totalling 144 fits\n",
      "[CV] min_samples_leaf=2, min_samples_split=3, n_estimators=50 ........\n",
      "[CV]  min_samples_leaf=2, min_samples_split=3, n_estimators=50, score=0.634694 -   1.7s\n",
      "[CV] min_samples_leaf=2, min_samples_split=3, n_estimators=50 ........\n"
     ]
    },
    {
     "name": "stderr",
     "output_type": "stream",
     "text": [
      "[Parallel(n_jobs=1)]: Done   1 out of   1 | elapsed:    1.7s remaining:    0.0s\n"
     ]
    },
    {
     "name": "stdout",
     "output_type": "stream",
     "text": [
      "[CV]  min_samples_leaf=2, min_samples_split=3, n_estimators=50, score=0.620654 -   1.8s\n",
      "[CV] min_samples_leaf=2, min_samples_split=3, n_estimators=50 ........\n"
     ]
    },
    {
     "name": "stderr",
     "output_type": "stream",
     "text": [
      "[Parallel(n_jobs=1)]: Done   2 out of   2 | elapsed:    3.6s remaining:    0.0s\n"
     ]
    },
    {
     "name": "stdout",
     "output_type": "stream",
     "text": [
      "[CV]  min_samples_leaf=2, min_samples_split=3, n_estimators=50, score=0.634969 -   1.8s\n",
      "[CV] min_samples_leaf=2, min_samples_split=3, n_estimators=60 ........\n"
     ]
    },
    {
     "name": "stderr",
     "output_type": "stream",
     "text": [
      "[Parallel(n_jobs=1)]: Done   3 out of   3 | elapsed:    5.4s remaining:    0.0s\n"
     ]
    },
    {
     "name": "stdout",
     "output_type": "stream",
     "text": [
      "[CV]  min_samples_leaf=2, min_samples_split=3, n_estimators=60, score=0.640816 -   2.4s\n",
      "[CV] min_samples_leaf=2, min_samples_split=3, n_estimators=60 ........\n"
     ]
    },
    {
     "name": "stderr",
     "output_type": "stream",
     "text": [
      "[Parallel(n_jobs=1)]: Done   4 out of   4 | elapsed:    7.8s remaining:    0.0s\n"
     ]
    },
    {
     "name": "stdout",
     "output_type": "stream",
     "text": [
      "[CV]  min_samples_leaf=2, min_samples_split=3, n_estimators=60, score=0.609407 -   2.1s\n",
      "[CV] min_samples_leaf=2, min_samples_split=3, n_estimators=60 ........\n",
      "[CV]  min_samples_leaf=2, min_samples_split=3, n_estimators=60, score=0.649284 -   2.2s\n",
      "[CV] min_samples_leaf=2, min_samples_split=3, n_estimators=80 ........\n",
      "[CV]  min_samples_leaf=2, min_samples_split=3, n_estimators=80, score=0.642857 -   2.9s\n",
      "[CV] min_samples_leaf=2, min_samples_split=3, n_estimators=80 ........\n",
      "[CV]  min_samples_leaf=2, min_samples_split=3, n_estimators=80, score=0.635992 -   3.1s\n",
      "[CV] min_samples_leaf=2, min_samples_split=3, n_estimators=80 ........\n",
      "[CV]  min_samples_leaf=2, min_samples_split=3, n_estimators=80, score=0.671779 -   3.8s\n",
      "[CV] min_samples_leaf=2, min_samples_split=5, n_estimators=50 ........\n",
      "[CV]  min_samples_leaf=2, min_samples_split=5, n_estimators=50, score=0.641837 -   2.1s\n",
      "[CV] min_samples_leaf=2, min_samples_split=5, n_estimators=50 ........\n",
      "[CV]  min_samples_leaf=2, min_samples_split=5, n_estimators=50, score=0.626789 -   2.0s\n",
      "[CV] min_samples_leaf=2, min_samples_split=5, n_estimators=50 ........\n",
      "[CV]  min_samples_leaf=2, min_samples_split=5, n_estimators=50, score=0.653374 -   1.8s\n",
      "[CV] min_samples_leaf=2, min_samples_split=5, n_estimators=60 ........\n",
      "[CV]  min_samples_leaf=2, min_samples_split=5, n_estimators=60, score=0.635714 -   2.3s\n",
      "[CV] min_samples_leaf=2, min_samples_split=5, n_estimators=60 ........\n",
      "[CV]  min_samples_leaf=2, min_samples_split=5, n_estimators=60, score=0.618609 -   2.1s\n",
      "[CV] min_samples_leaf=2, min_samples_split=5, n_estimators=60 ........\n",
      "[CV]  min_samples_leaf=2, min_samples_split=5, n_estimators=60, score=0.660532 -   2.7s\n",
      "[CV] min_samples_leaf=2, min_samples_split=5, n_estimators=80 ........\n",
      "[CV]  min_samples_leaf=2, min_samples_split=5, n_estimators=80, score=0.631633 -   3.6s\n",
      "[CV] min_samples_leaf=2, min_samples_split=5, n_estimators=80 ........\n",
      "[CV]  min_samples_leaf=2, min_samples_split=5, n_estimators=80, score=0.631902 -   3.4s\n",
      "[CV] min_samples_leaf=2, min_samples_split=5, n_estimators=80 ........\n",
      "[CV]  min_samples_leaf=2, min_samples_split=5, n_estimators=80, score=0.635992 -   2.6s\n",
      "[CV] min_samples_leaf=2, min_samples_split=7, n_estimators=50 ........\n",
      "[CV]  min_samples_leaf=2, min_samples_split=7, n_estimators=50, score=0.624490 -   1.7s\n",
      "[CV] min_samples_leaf=2, min_samples_split=7, n_estimators=50 ........\n",
      "[CV]  min_samples_leaf=2, min_samples_split=7, n_estimators=50, score=0.638037 -   2.9s\n",
      "[CV] min_samples_leaf=2, min_samples_split=7, n_estimators=50 ........\n",
      "[CV]  min_samples_leaf=2, min_samples_split=7, n_estimators=50, score=0.644172 -   1.9s\n",
      "[CV] min_samples_leaf=2, min_samples_split=7, n_estimators=60 ........\n",
      "[CV]  min_samples_leaf=2, min_samples_split=7, n_estimators=60, score=0.609184 -   2.4s\n",
      "[CV] min_samples_leaf=2, min_samples_split=7, n_estimators=60 ........\n",
      "[CV]  min_samples_leaf=2, min_samples_split=7, n_estimators=60, score=0.610429 -   2.8s\n",
      "[CV] min_samples_leaf=2, min_samples_split=7, n_estimators=60 ........\n",
      "[CV]  min_samples_leaf=2, min_samples_split=7, n_estimators=60, score=0.642127 -   2.4s\n",
      "[CV] min_samples_leaf=2, min_samples_split=7, n_estimators=80 ........\n",
      "[CV]  min_samples_leaf=2, min_samples_split=7, n_estimators=80, score=0.634694 -   4.1s\n",
      "[CV] min_samples_leaf=2, min_samples_split=7, n_estimators=80 ........\n",
      "[CV]  min_samples_leaf=2, min_samples_split=7, n_estimators=80, score=0.623722 -   3.1s\n",
      "[CV] min_samples_leaf=2, min_samples_split=7, n_estimators=80 ........\n",
      "[CV]  min_samples_leaf=2, min_samples_split=7, n_estimators=80, score=0.645194 -   3.7s\n",
      "[CV] min_samples_leaf=2, min_samples_split=9, n_estimators=50 ........\n",
      "[CV]  min_samples_leaf=2, min_samples_split=9, n_estimators=50, score=0.633673 -   1.8s\n",
      "[CV] min_samples_leaf=2, min_samples_split=9, n_estimators=50 ........\n",
      "[CV]  min_samples_leaf=2, min_samples_split=9, n_estimators=50, score=0.639059 -   1.6s\n",
      "[CV] min_samples_leaf=2, min_samples_split=9, n_estimators=50 ........\n",
      "[CV]  min_samples_leaf=2, min_samples_split=9, n_estimators=50, score=0.645194 -   1.6s\n",
      "[CV] min_samples_leaf=2, min_samples_split=9, n_estimators=60 ........\n",
      "[CV]  min_samples_leaf=2, min_samples_split=9, n_estimators=60, score=0.633673 -   1.9s\n",
      "[CV] min_samples_leaf=2, min_samples_split=9, n_estimators=60 ........\n",
      "[CV]  min_samples_leaf=2, min_samples_split=9, n_estimators=60, score=0.618609 -   1.9s\n",
      "[CV] min_samples_leaf=2, min_samples_split=9, n_estimators=60 ........\n",
      "[CV]  min_samples_leaf=2, min_samples_split=9, n_estimators=60, score=0.649284 -   1.9s\n",
      "[CV] min_samples_leaf=2, min_samples_split=9, n_estimators=80 ........\n",
      "[CV]  min_samples_leaf=2, min_samples_split=9, n_estimators=80, score=0.648980 -   3.0s\n",
      "[CV] min_samples_leaf=2, min_samples_split=9, n_estimators=80 ........\n",
      "[CV]  min_samples_leaf=2, min_samples_split=9, n_estimators=80, score=0.625767 -   3.1s\n",
      "[CV] min_samples_leaf=2, min_samples_split=9, n_estimators=80 ........\n",
      "[CV]  min_samples_leaf=2, min_samples_split=9, n_estimators=80, score=0.644172 -   3.2s\n",
      "[CV] min_samples_leaf=4, min_samples_split=3, n_estimators=50 ........\n",
      "[CV]  min_samples_leaf=4, min_samples_split=3, n_estimators=50, score=0.626531 -   2.0s\n",
      "[CV] min_samples_leaf=4, min_samples_split=3, n_estimators=50 ........\n",
      "[CV]  min_samples_leaf=4, min_samples_split=3, n_estimators=50, score=0.622699 -   2.3s\n",
      "[CV] min_samples_leaf=4, min_samples_split=3, n_estimators=50 ........\n",
      "[CV]  min_samples_leaf=4, min_samples_split=3, n_estimators=50, score=0.657464 -   1.9s\n",
      "[CV] min_samples_leaf=4, min_samples_split=3, n_estimators=60 ........\n",
      "[CV]  min_samples_leaf=4, min_samples_split=3, n_estimators=60, score=0.632653 -   2.1s\n",
      "[CV] min_samples_leaf=4, min_samples_split=3, n_estimators=60 ........\n",
      "[CV]  min_samples_leaf=4, min_samples_split=3, n_estimators=60, score=0.638037 -   2.3s\n",
      "[CV] min_samples_leaf=4, min_samples_split=3, n_estimators=60 ........\n",
      "[CV]  min_samples_leaf=4, min_samples_split=3, n_estimators=60, score=0.664622 -   1.8s\n",
      "[CV] min_samples_leaf=4, min_samples_split=3, n_estimators=80 ........\n",
      "[CV]  min_samples_leaf=4, min_samples_split=3, n_estimators=80, score=0.638776 -   2.3s\n",
      "[CV] min_samples_leaf=4, min_samples_split=3, n_estimators=80 ........\n",
      "[CV]  min_samples_leaf=4, min_samples_split=3, n_estimators=80, score=0.640082 -   2.3s\n",
      "[CV] min_samples_leaf=4, min_samples_split=3, n_estimators=80 ........\n",
      "[CV]  min_samples_leaf=4, min_samples_split=3, n_estimators=80, score=0.682004 -   2.3s\n",
      "[CV] min_samples_leaf=4, min_samples_split=5, n_estimators=50 ........\n",
      "[CV]  min_samples_leaf=4, min_samples_split=5, n_estimators=50, score=0.619388 -   1.5s\n",
      "[CV] min_samples_leaf=4, min_samples_split=5, n_estimators=50 ........\n",
      "[CV]  min_samples_leaf=4, min_samples_split=5, n_estimators=50, score=0.633947 -   1.5s\n",
      "[CV] min_samples_leaf=4, min_samples_split=5, n_estimators=50 ........\n",
      "[CV]  min_samples_leaf=4, min_samples_split=5, n_estimators=50, score=0.662577 -   1.5s\n",
      "[CV] min_samples_leaf=4, min_samples_split=5, n_estimators=60 ........\n",
      "[CV]  min_samples_leaf=4, min_samples_split=5, n_estimators=60, score=0.632653 -   1.7s\n",
      "[CV] min_samples_leaf=4, min_samples_split=5, n_estimators=60 ........\n",
      "[CV]  min_samples_leaf=4, min_samples_split=5, n_estimators=60, score=0.637014 -   1.7s\n",
      "[CV] min_samples_leaf=4, min_samples_split=5, n_estimators=60 ........\n",
      "[CV]  min_samples_leaf=4, min_samples_split=5, n_estimators=60, score=0.669734 -   1.8s\n",
      "[CV] min_samples_leaf=4, min_samples_split=5, n_estimators=80 ........\n",
      "[CV]  min_samples_leaf=4, min_samples_split=5, n_estimators=80, score=0.639796 -   2.3s\n",
      "[CV] min_samples_leaf=4, min_samples_split=5, n_estimators=80 ........\n",
      "[CV]  min_samples_leaf=4, min_samples_split=5, n_estimators=80, score=0.626789 -   2.6s\n",
      "[CV] min_samples_leaf=4, min_samples_split=5, n_estimators=80 ........\n",
      "[CV]  min_samples_leaf=4, min_samples_split=5, n_estimators=80, score=0.660532 -   2.7s\n",
      "[CV] min_samples_leaf=4, min_samples_split=7, n_estimators=50 ........\n",
      "[CV]  min_samples_leaf=4, min_samples_split=7, n_estimators=50, score=0.652041 -   1.6s\n",
      "[CV] min_samples_leaf=4, min_samples_split=7, n_estimators=50 ........\n",
      "[CV]  min_samples_leaf=4, min_samples_split=7, n_estimators=50, score=0.630879 -   1.9s\n",
      "[CV] min_samples_leaf=4, min_samples_split=7, n_estimators=50 ........\n"
     ]
    },
    {
     "name": "stdout",
     "output_type": "stream",
     "text": [
      "[CV]  min_samples_leaf=4, min_samples_split=7, n_estimators=50, score=0.648262 -   2.1s\n",
      "[CV] min_samples_leaf=4, min_samples_split=7, n_estimators=60 ........\n",
      "[CV]  min_samples_leaf=4, min_samples_split=7, n_estimators=60, score=0.625510 -   1.9s\n",
      "[CV] min_samples_leaf=4, min_samples_split=7, n_estimators=60 ........\n",
      "[CV]  min_samples_leaf=4, min_samples_split=7, n_estimators=60, score=0.625767 -   1.8s\n",
      "[CV] min_samples_leaf=4, min_samples_split=7, n_estimators=60 ........\n",
      "[CV]  min_samples_leaf=4, min_samples_split=7, n_estimators=60, score=0.648262 -   1.8s\n",
      "[CV] min_samples_leaf=4, min_samples_split=7, n_estimators=80 ........\n",
      "[CV]  min_samples_leaf=4, min_samples_split=7, n_estimators=80, score=0.645918 -   2.3s\n",
      "[CV] min_samples_leaf=4, min_samples_split=7, n_estimators=80 ........\n",
      "[CV]  min_samples_leaf=4, min_samples_split=7, n_estimators=80, score=0.625767 -   2.6s\n",
      "[CV] min_samples_leaf=4, min_samples_split=7, n_estimators=80 ........\n",
      "[CV]  min_samples_leaf=4, min_samples_split=7, n_estimators=80, score=0.655419 -   2.7s\n",
      "[CV] min_samples_leaf=4, min_samples_split=9, n_estimators=50 ........\n",
      "[CV]  min_samples_leaf=4, min_samples_split=9, n_estimators=50, score=0.643878 -   1.9s\n",
      "[CV] min_samples_leaf=4, min_samples_split=9, n_estimators=50 ........\n",
      "[CV]  min_samples_leaf=4, min_samples_split=9, n_estimators=50, score=0.627812 -   1.6s\n",
      "[CV] min_samples_leaf=4, min_samples_split=9, n_estimators=50 ........\n",
      "[CV]  min_samples_leaf=4, min_samples_split=9, n_estimators=50, score=0.653374 -   1.6s\n",
      "[CV] min_samples_leaf=4, min_samples_split=9, n_estimators=60 ........\n",
      "[CV]  min_samples_leaf=4, min_samples_split=9, n_estimators=60, score=0.641837 -   1.7s\n",
      "[CV] min_samples_leaf=4, min_samples_split=9, n_estimators=60 ........\n",
      "[CV]  min_samples_leaf=4, min_samples_split=9, n_estimators=60, score=0.640082 -   2.1s\n",
      "[CV] min_samples_leaf=4, min_samples_split=9, n_estimators=60 ........\n",
      "[CV]  min_samples_leaf=4, min_samples_split=9, n_estimators=60, score=0.651329 -   2.1s\n",
      "[CV] min_samples_leaf=4, min_samples_split=9, n_estimators=80 ........\n",
      "[CV]  min_samples_leaf=4, min_samples_split=9, n_estimators=80, score=0.635714 -   2.8s\n",
      "[CV] min_samples_leaf=4, min_samples_split=9, n_estimators=80 ........\n",
      "[CV]  min_samples_leaf=4, min_samples_split=9, n_estimators=80, score=0.632924 -   2.3s\n",
      "[CV] min_samples_leaf=4, min_samples_split=9, n_estimators=80 ........\n",
      "[CV]  min_samples_leaf=4, min_samples_split=9, n_estimators=80, score=0.649284 -   2.5s\n",
      "[CV] min_samples_leaf=7, min_samples_split=3, n_estimators=50 ........\n",
      "[CV]  min_samples_leaf=7, min_samples_split=3, n_estimators=50, score=0.624490 -   1.5s\n",
      "[CV] min_samples_leaf=7, min_samples_split=3, n_estimators=50 ........\n",
      "[CV]  min_samples_leaf=7, min_samples_split=3, n_estimators=50, score=0.631902 -   1.4s\n",
      "[CV] min_samples_leaf=7, min_samples_split=3, n_estimators=50 ........\n",
      "[CV]  min_samples_leaf=7, min_samples_split=3, n_estimators=50, score=0.662577 -   1.6s\n",
      "[CV] min_samples_leaf=7, min_samples_split=3, n_estimators=60 ........\n",
      "[CV]  min_samples_leaf=7, min_samples_split=3, n_estimators=60, score=0.657143 -   1.8s\n",
      "[CV] min_samples_leaf=7, min_samples_split=3, n_estimators=60 ........\n",
      "[CV]  min_samples_leaf=7, min_samples_split=3, n_estimators=60, score=0.612474 -   1.8s\n",
      "[CV] min_samples_leaf=7, min_samples_split=3, n_estimators=60 ........\n",
      "[CV]  min_samples_leaf=7, min_samples_split=3, n_estimators=60, score=0.663599 -   2.1s\n",
      "[CV] min_samples_leaf=7, min_samples_split=3, n_estimators=80 ........\n",
      "[CV]  min_samples_leaf=7, min_samples_split=3, n_estimators=80, score=0.638776 -   2.5s\n",
      "[CV] min_samples_leaf=7, min_samples_split=3, n_estimators=80 ........\n",
      "[CV]  min_samples_leaf=7, min_samples_split=3, n_estimators=80, score=0.642127 -   2.8s\n",
      "[CV] min_samples_leaf=7, min_samples_split=3, n_estimators=80 ........\n",
      "[CV]  min_samples_leaf=7, min_samples_split=3, n_estimators=80, score=0.666667 -   2.9s\n",
      "[CV] min_samples_leaf=7, min_samples_split=5, n_estimators=50 ........\n",
      "[CV]  min_samples_leaf=7, min_samples_split=5, n_estimators=50, score=0.653061 -   1.5s\n",
      "[CV] min_samples_leaf=7, min_samples_split=5, n_estimators=50 ........\n",
      "[CV]  min_samples_leaf=7, min_samples_split=5, n_estimators=50, score=0.632924 -   1.3s\n",
      "[CV] min_samples_leaf=7, min_samples_split=5, n_estimators=50 ........\n",
      "[CV]  min_samples_leaf=7, min_samples_split=5, n_estimators=50, score=0.661554 -   1.4s\n",
      "[CV] min_samples_leaf=7, min_samples_split=5, n_estimators=60 ........\n",
      "[CV]  min_samples_leaf=7, min_samples_split=5, n_estimators=60, score=0.654082 -   1.6s\n",
      "[CV] min_samples_leaf=7, min_samples_split=5, n_estimators=60 ........\n",
      "[CV]  min_samples_leaf=7, min_samples_split=5, n_estimators=60, score=0.644172 -   1.6s\n",
      "[CV] min_samples_leaf=7, min_samples_split=5, n_estimators=60 ........\n",
      "[CV]  min_samples_leaf=7, min_samples_split=5, n_estimators=60, score=0.670757 -   1.6s\n",
      "[CV] min_samples_leaf=7, min_samples_split=5, n_estimators=80 ........\n",
      "[CV]  min_samples_leaf=7, min_samples_split=5, n_estimators=80, score=0.644898 -   2.1s\n",
      "[CV] min_samples_leaf=7, min_samples_split=5, n_estimators=80 ........\n",
      "[CV]  min_samples_leaf=7, min_samples_split=5, n_estimators=80, score=0.646217 -   2.1s\n",
      "[CV] min_samples_leaf=7, min_samples_split=5, n_estimators=80 ........\n",
      "[CV]  min_samples_leaf=7, min_samples_split=5, n_estimators=80, score=0.651329 -   2.3s\n",
      "[CV] min_samples_leaf=7, min_samples_split=7, n_estimators=50 ........\n",
      "[CV]  min_samples_leaf=7, min_samples_split=7, n_estimators=50, score=0.625510 -   1.7s\n",
      "[CV] min_samples_leaf=7, min_samples_split=7, n_estimators=50 ........\n",
      "[CV]  min_samples_leaf=7, min_samples_split=7, n_estimators=50, score=0.620654 -   2.4s\n",
      "[CV] min_samples_leaf=7, min_samples_split=7, n_estimators=50 ........\n",
      "[CV]  min_samples_leaf=7, min_samples_split=7, n_estimators=50, score=0.646217 -   2.3s\n",
      "[CV] min_samples_leaf=7, min_samples_split=7, n_estimators=60 ........\n",
      "[CV]  min_samples_leaf=7, min_samples_split=7, n_estimators=60, score=0.647959 -   1.9s\n",
      "[CV] min_samples_leaf=7, min_samples_split=7, n_estimators=60 ........\n",
      "[CV]  min_samples_leaf=7, min_samples_split=7, n_estimators=60, score=0.624744 -   1.6s\n",
      "[CV] min_samples_leaf=7, min_samples_split=7, n_estimators=60 ........\n",
      "[CV]  min_samples_leaf=7, min_samples_split=7, n_estimators=60, score=0.660532 -   1.9s\n",
      "[CV] min_samples_leaf=7, min_samples_split=7, n_estimators=80 ........\n",
      "[CV]  min_samples_leaf=7, min_samples_split=7, n_estimators=80, score=0.637755 -   3.2s\n",
      "[CV] min_samples_leaf=7, min_samples_split=7, n_estimators=80 ........\n",
      "[CV]  min_samples_leaf=7, min_samples_split=7, n_estimators=80, score=0.623722 -   2.6s\n",
      "[CV] min_samples_leaf=7, min_samples_split=7, n_estimators=80 ........\n",
      "[CV]  min_samples_leaf=7, min_samples_split=7, n_estimators=80, score=0.650307 -   2.4s\n",
      "[CV] min_samples_leaf=7, min_samples_split=9, n_estimators=50 ........\n",
      "[CV]  min_samples_leaf=7, min_samples_split=9, n_estimators=50, score=0.638776 -   1.4s\n",
      "[CV] min_samples_leaf=7, min_samples_split=9, n_estimators=50 ........\n",
      "[CV]  min_samples_leaf=7, min_samples_split=9, n_estimators=50, score=0.624744 -   1.5s\n",
      "[CV] min_samples_leaf=7, min_samples_split=9, n_estimators=50 ........\n",
      "[CV]  min_samples_leaf=7, min_samples_split=9, n_estimators=50, score=0.658487 -   1.5s\n",
      "[CV] min_samples_leaf=7, min_samples_split=9, n_estimators=60 ........\n",
      "[CV]  min_samples_leaf=7, min_samples_split=9, n_estimators=60, score=0.643878 -   1.8s\n",
      "[CV] min_samples_leaf=7, min_samples_split=9, n_estimators=60 ........\n",
      "[CV]  min_samples_leaf=7, min_samples_split=9, n_estimators=60, score=0.631902 -   1.7s\n",
      "[CV] min_samples_leaf=7, min_samples_split=9, n_estimators=60 ........\n",
      "[CV]  min_samples_leaf=7, min_samples_split=9, n_estimators=60, score=0.669734 -   1.6s\n",
      "[CV] min_samples_leaf=7, min_samples_split=9, n_estimators=80 ........\n",
      "[CV]  min_samples_leaf=7, min_samples_split=9, n_estimators=80, score=0.647959 -   2.2s\n",
      "[CV] min_samples_leaf=7, min_samples_split=9, n_estimators=80 ........\n",
      "[CV]  min_samples_leaf=7, min_samples_split=9, n_estimators=80, score=0.638037 -   2.3s\n",
      "[CV] min_samples_leaf=7, min_samples_split=9, n_estimators=80 ........\n",
      "[CV]  min_samples_leaf=7, min_samples_split=9, n_estimators=80, score=0.661554 -   2.3s\n",
      "[CV] min_samples_leaf=10, min_samples_split=3, n_estimators=50 .......\n"
     ]
    },
    {
     "name": "stdout",
     "output_type": "stream",
     "text": [
      "[CV]  min_samples_leaf=10, min_samples_split=3, n_estimators=50, score=0.616327 -   1.3s\n",
      "[CV] min_samples_leaf=10, min_samples_split=3, n_estimators=50 .......\n",
      "[CV]  min_samples_leaf=10, min_samples_split=3, n_estimators=50, score=0.625767 -   1.3s\n",
      "[CV] min_samples_leaf=10, min_samples_split=3, n_estimators=50 .......\n",
      "[CV]  min_samples_leaf=10, min_samples_split=3, n_estimators=50, score=0.666667 -   1.4s\n",
      "[CV] min_samples_leaf=10, min_samples_split=3, n_estimators=60 .......\n",
      "[CV]  min_samples_leaf=10, min_samples_split=3, n_estimators=60, score=0.634694 -   2.5s\n",
      "[CV] min_samples_leaf=10, min_samples_split=3, n_estimators=60 .......\n",
      "[CV]  min_samples_leaf=10, min_samples_split=3, n_estimators=60, score=0.645194 -   1.6s\n",
      "[CV] min_samples_leaf=10, min_samples_split=3, n_estimators=60 .......\n",
      "[CV]  min_samples_leaf=10, min_samples_split=3, n_estimators=60, score=0.658487 -   1.6s\n",
      "[CV] min_samples_leaf=10, min_samples_split=3, n_estimators=80 .......\n",
      "[CV]  min_samples_leaf=10, min_samples_split=3, n_estimators=80, score=0.630612 -   2.0s\n",
      "[CV] min_samples_leaf=10, min_samples_split=3, n_estimators=80 .......\n",
      "[CV]  min_samples_leaf=10, min_samples_split=3, n_estimators=80, score=0.644172 -   2.1s\n",
      "[CV] min_samples_leaf=10, min_samples_split=3, n_estimators=80 .......\n",
      "[CV]  min_samples_leaf=10, min_samples_split=3, n_estimators=80, score=0.659509 -   3.1s\n",
      "[CV] min_samples_leaf=10, min_samples_split=5, n_estimators=50 .......\n",
      "[CV]  min_samples_leaf=10, min_samples_split=5, n_estimators=50, score=0.646939 -   1.3s\n",
      "[CV] min_samples_leaf=10, min_samples_split=5, n_estimators=50 .......\n",
      "[CV]  min_samples_leaf=10, min_samples_split=5, n_estimators=50, score=0.621677 -   2.0s\n",
      "[CV] min_samples_leaf=10, min_samples_split=5, n_estimators=50 .......\n",
      "[CV]  min_samples_leaf=10, min_samples_split=5, n_estimators=50, score=0.671779 -   1.4s\n",
      "[CV] min_samples_leaf=10, min_samples_split=5, n_estimators=60 .......\n",
      "[CV]  min_samples_leaf=10, min_samples_split=5, n_estimators=60, score=0.635714 -   1.7s\n",
      "[CV] min_samples_leaf=10, min_samples_split=5, n_estimators=60 .......\n",
      "[CV]  min_samples_leaf=10, min_samples_split=5, n_estimators=60, score=0.641104 -   1.6s\n",
      "[CV] min_samples_leaf=10, min_samples_split=5, n_estimators=60 .......\n",
      "[CV]  min_samples_leaf=10, min_samples_split=5, n_estimators=60, score=0.667689 -   1.5s\n",
      "[CV] min_samples_leaf=10, min_samples_split=5, n_estimators=80 .......\n",
      "[CV]  min_samples_leaf=10, min_samples_split=5, n_estimators=80, score=0.640816 -   2.1s\n",
      "[CV] min_samples_leaf=10, min_samples_split=5, n_estimators=80 .......\n",
      "[CV]  min_samples_leaf=10, min_samples_split=5, n_estimators=80, score=0.641104 -   3.0s\n",
      "[CV] min_samples_leaf=10, min_samples_split=5, n_estimators=80 .......\n",
      "[CV]  min_samples_leaf=10, min_samples_split=5, n_estimators=80, score=0.663599 -   2.5s\n",
      "[CV] min_samples_leaf=10, min_samples_split=7, n_estimators=50 .......\n",
      "[CV]  min_samples_leaf=10, min_samples_split=7, n_estimators=50, score=0.650000 -   1.4s\n",
      "[CV] min_samples_leaf=10, min_samples_split=7, n_estimators=50 .......\n",
      "[CV]  min_samples_leaf=10, min_samples_split=7, n_estimators=50, score=0.637014 -   1.4s\n",
      "[CV] min_samples_leaf=10, min_samples_split=7, n_estimators=50 .......\n",
      "[CV]  min_samples_leaf=10, min_samples_split=7, n_estimators=50, score=0.660532 -   1.4s\n",
      "[CV] min_samples_leaf=10, min_samples_split=7, n_estimators=60 .......\n",
      "[CV]  min_samples_leaf=10, min_samples_split=7, n_estimators=60, score=0.635714 -   1.6s\n",
      "[CV] min_samples_leaf=10, min_samples_split=7, n_estimators=60 .......\n",
      "[CV]  min_samples_leaf=10, min_samples_split=7, n_estimators=60, score=0.632924 -   1.9s\n",
      "[CV] min_samples_leaf=10, min_samples_split=7, n_estimators=60 .......\n",
      "[CV]  min_samples_leaf=10, min_samples_split=7, n_estimators=60, score=0.668712 -   2.3s\n",
      "[CV] min_samples_leaf=10, min_samples_split=7, n_estimators=80 .......\n",
      "[CV]  min_samples_leaf=10, min_samples_split=7, n_estimators=80, score=0.638776 -   2.6s\n",
      "[CV] min_samples_leaf=10, min_samples_split=7, n_estimators=80 .......\n",
      "[CV]  min_samples_leaf=10, min_samples_split=7, n_estimators=80, score=0.628834 -   2.2s\n",
      "[CV] min_samples_leaf=10, min_samples_split=7, n_estimators=80 .......\n",
      "[CV]  min_samples_leaf=10, min_samples_split=7, n_estimators=80, score=0.673824 -   2.1s\n",
      "[CV] min_samples_leaf=10, min_samples_split=9, n_estimators=50 .......\n",
      "[CV]  min_samples_leaf=10, min_samples_split=9, n_estimators=50, score=0.641837 -   1.3s\n",
      "[CV] min_samples_leaf=10, min_samples_split=9, n_estimators=50 .......\n",
      "[CV]  min_samples_leaf=10, min_samples_split=9, n_estimators=50, score=0.631902 -   1.4s\n",
      "[CV] min_samples_leaf=10, min_samples_split=9, n_estimators=50 .......\n",
      "[CV]  min_samples_leaf=10, min_samples_split=9, n_estimators=50, score=0.663599 -   1.4s\n",
      "[CV] min_samples_leaf=10, min_samples_split=9, n_estimators=60 .......\n",
      "[CV]  min_samples_leaf=10, min_samples_split=9, n_estimators=60, score=0.640816 -   1.6s\n",
      "[CV] min_samples_leaf=10, min_samples_split=9, n_estimators=60 .......\n",
      "[CV]  min_samples_leaf=10, min_samples_split=9, n_estimators=60, score=0.634969 -   1.6s\n",
      "[CV] min_samples_leaf=10, min_samples_split=9, n_estimators=60 .......\n",
      "[CV]  min_samples_leaf=10, min_samples_split=9, n_estimators=60, score=0.658487 -   1.7s\n",
      "[CV] min_samples_leaf=10, min_samples_split=9, n_estimators=80 .......\n",
      "[CV]  min_samples_leaf=10, min_samples_split=9, n_estimators=80, score=0.632653 -   2.1s\n",
      "[CV] min_samples_leaf=10, min_samples_split=9, n_estimators=80 .......\n",
      "[CV]  min_samples_leaf=10, min_samples_split=9, n_estimators=80, score=0.640082 -   2.2s\n",
      "[CV] min_samples_leaf=10, min_samples_split=9, n_estimators=80 .......\n",
      "[CV]  min_samples_leaf=10, min_samples_split=9, n_estimators=80, score=0.663599 -   2.2s\n"
     ]
    },
    {
     "name": "stderr",
     "output_type": "stream",
     "text": [
      "[Parallel(n_jobs=1)]: Done 144 out of 144 | elapsed:  5.0min finished\n"
     ]
    },
    {
     "data": {
      "text/plain": [
       "GridSearchCV(cv=None, error_score='raise',\n",
       "       estimator=RandomForestClassifier(bootstrap=True, class_weight=None, criterion='gini',\n",
       "            max_depth=None, max_features='auto', max_leaf_nodes=None,\n",
       "            min_impurity_decrease=0.0, min_impurity_split=None,\n",
       "            min_samples_leaf=1, min_samples_split=2,\n",
       "            min_weight_fraction_leaf=0.0, n_estimators=10, n_jobs=1,\n",
       "            oob_score=False, random_state=None, verbose=0,\n",
       "            warm_start=False),\n",
       "       fit_params={}, iid=True, n_jobs=1,\n",
       "       param_grid={'n_estimators': [50, 60, 80], 'min_samples_leaf': [2, 4, 7, 10], 'min_samples_split': [3, 5, 7, 9]},\n",
       "       pre_dispatch='2*n_jobs', refit=True, scoring=None, verbose=5)"
      ]
     },
     "execution_count": 74,
     "metadata": {},
     "output_type": "execute_result"
    }
   ],
   "source": [
    "clf_ei_w2v = GridSearchCV(RandomForestClassifier(), grid, verbose=5)\n",
    "clf_ei_w2v.fit(*create_vectors_labels(w2v_ei[0], w2v_ei[2]))"
   ]
  },
  {
   "cell_type": "code",
   "execution_count": 75,
   "metadata": {},
   "outputs": [
    {
     "name": "stdout",
     "output_type": "stream",
     "text": [
      "0.626789366053\n"
     ]
    }
   ],
   "source": [
    "print(clf_ei_w2v.score(*create_vectors_labels(w2v_ei[1], w2v_ei[3])))\n",
    "params = clf_ei_w2v.best_estimator_.get_params()"
   ]
  },
  {
   "cell_type": "markdown",
   "metadata": {},
   "source": [
    "We will assume that the same parameters can be applied to train RF classifiers for every of the four dimensions."
   ]
  },
  {
   "cell_type": "code",
   "execution_count": 76,
   "metadata": {},
   "outputs": [
    {
     "name": "stdout",
     "output_type": "stream",
     "text": [
      "0.65625\n",
      "0.733024691358\n",
      "0.605231866825\n"
     ]
    }
   ],
   "source": [
    "clf_ns_w2v = RandomForestClassifier(**params)\n",
    "clf_ns_w2v.fit(*create_vectors_labels(w2v_ns[0], w2v_ns[2]))\n",
    "print(clf_ns_w2v.score(*create_vectors_labels(w2v_ns[1], w2v_ns[3])))\n",
    "      \n",
    "clf_tf_w2v = RandomForestClassifier(**params)\n",
    "clf_tf_w2v.fit(*create_vectors_labels(w2v_tf[0], w2v_tf[2]))\n",
    "print(clf_tf_w2v.score(*create_vectors_labels(w2v_tf[1], w2v_tf[3])))\n",
    "      \n",
    "clf_jp_w2v = RandomForestClassifier(**params)\n",
    "clf_jp_w2v.fit(*create_vectors_labels(w2v_jp[0], w2v_jp[2]))\n",
    "print(clf_jp_w2v.score(*create_vectors_labels(w2v_jp[1], w2v_jp[3])))"
   ]
  },
  {
   "cell_type": "markdown",
   "metadata": {},
   "source": [
    "We now have four new classifiers. They seem to work slightly better than the classifiers trained on bag of words features.\n",
    "\n",
    "The next step will examine whether applying PCA before training classifiers can improve performance."
   ]
  },
  {
   "cell_type": "code",
   "execution_count": 77,
   "metadata": {},
   "outputs": [
    {
     "name": "stdout",
     "output_type": "stream",
     "text": [
      "0.800822243496\n"
     ]
    }
   ],
   "source": [
    "pca = PCA(n_components=50)\n",
    "pca.fit(w2v_jp[0] + w2v_jp[1] + w2v_jp[2] + w2v_jp[3])\n",
    "print(pca.explained_variance_ratio_.cumsum()[-1])"
   ]
  },
  {
   "cell_type": "markdown",
   "metadata": {},
   "source": [
    "Dimensionality has been transformed to $\\frac{1}{6}$ of the original size now, and still $80\\%$ of the original variance are being explained by the transformed vectors."
   ]
  },
  {
   "cell_type": "code",
   "execution_count": 78,
   "metadata": {},
   "outputs": [
    {
     "name": "stdout",
     "output_type": "stream",
     "text": [
      "Fitting 3 folds for each of 48 candidates, totalling 144 fits\n",
      "[CV] min_samples_leaf=2, min_samples_split=3, n_estimators=50 ........\n",
      "[CV]  min_samples_leaf=2, min_samples_split=3, n_estimators=50, score=0.639796 -   1.4s\n",
      "[CV] min_samples_leaf=2, min_samples_split=3, n_estimators=50 ........\n"
     ]
    },
    {
     "name": "stderr",
     "output_type": "stream",
     "text": [
      "[Parallel(n_jobs=1)]: Done   1 out of   1 | elapsed:    1.4s remaining:    0.0s\n"
     ]
    },
    {
     "name": "stdout",
     "output_type": "stream",
     "text": [
      "[CV]  min_samples_leaf=2, min_samples_split=3, n_estimators=50, score=0.633947 -   0.8s\n",
      "[CV] min_samples_leaf=2, min_samples_split=3, n_estimators=50 ........\n"
     ]
    },
    {
     "name": "stderr",
     "output_type": "stream",
     "text": [
      "[Parallel(n_jobs=1)]: Done   2 out of   2 | elapsed:    2.2s remaining:    0.0s\n"
     ]
    },
    {
     "name": "stdout",
     "output_type": "stream",
     "text": [
      "[CV]  min_samples_leaf=2, min_samples_split=3, n_estimators=50, score=0.631902 -   1.2s\n",
      "[CV] min_samples_leaf=2, min_samples_split=3, n_estimators=60 ........\n"
     ]
    },
    {
     "name": "stderr",
     "output_type": "stream",
     "text": [
      "[Parallel(n_jobs=1)]: Done   3 out of   3 | elapsed:    3.4s remaining:    0.0s\n"
     ]
    },
    {
     "name": "stdout",
     "output_type": "stream",
     "text": [
      "[CV]  min_samples_leaf=2, min_samples_split=3, n_estimators=60, score=0.628571 -   1.1s\n",
      "[CV] min_samples_leaf=2, min_samples_split=3, n_estimators=60 ........\n"
     ]
    },
    {
     "name": "stderr",
     "output_type": "stream",
     "text": [
      "[Parallel(n_jobs=1)]: Done   4 out of   4 | elapsed:    4.5s remaining:    0.0s\n"
     ]
    },
    {
     "name": "stdout",
     "output_type": "stream",
     "text": [
      "[CV]  min_samples_leaf=2, min_samples_split=3, n_estimators=60, score=0.638037 -   1.1s\n",
      "[CV] min_samples_leaf=2, min_samples_split=3, n_estimators=60 ........\n",
      "[CV]  min_samples_leaf=2, min_samples_split=3, n_estimators=60, score=0.630879 -   1.0s\n",
      "[CV] min_samples_leaf=2, min_samples_split=3, n_estimators=80 ........\n",
      "[CV]  min_samples_leaf=2, min_samples_split=3, n_estimators=80, score=0.639796 -   1.2s\n",
      "[CV] min_samples_leaf=2, min_samples_split=3, n_estimators=80 ........\n",
      "[CV]  min_samples_leaf=2, min_samples_split=3, n_estimators=80, score=0.644172 -   1.2s\n",
      "[CV] min_samples_leaf=2, min_samples_split=3, n_estimators=80 ........\n",
      "[CV]  min_samples_leaf=2, min_samples_split=3, n_estimators=80, score=0.640082 -   1.2s\n",
      "[CV] min_samples_leaf=2, min_samples_split=5, n_estimators=50 ........\n",
      "[CV]  min_samples_leaf=2, min_samples_split=5, n_estimators=50, score=0.634694 -   0.8s\n",
      "[CV] min_samples_leaf=2, min_samples_split=5, n_estimators=50 ........\n",
      "[CV]  min_samples_leaf=2, min_samples_split=5, n_estimators=50, score=0.642127 -   0.8s\n",
      "[CV] min_samples_leaf=2, min_samples_split=5, n_estimators=50 ........\n",
      "[CV]  min_samples_leaf=2, min_samples_split=5, n_estimators=50, score=0.626789 -   0.8s\n",
      "[CV] min_samples_leaf=2, min_samples_split=5, n_estimators=60 ........\n",
      "[CV]  min_samples_leaf=2, min_samples_split=5, n_estimators=60, score=0.638776 -   1.0s\n",
      "[CV] min_samples_leaf=2, min_samples_split=5, n_estimators=60 ........\n",
      "[CV]  min_samples_leaf=2, min_samples_split=5, n_estimators=60, score=0.638037 -   1.0s\n",
      "[CV] min_samples_leaf=2, min_samples_split=5, n_estimators=60 ........\n",
      "[CV]  min_samples_leaf=2, min_samples_split=5, n_estimators=60, score=0.637014 -   1.0s\n",
      "[CV] min_samples_leaf=2, min_samples_split=5, n_estimators=80 ........\n",
      "[CV]  min_samples_leaf=2, min_samples_split=5, n_estimators=80, score=0.637755 -   1.4s\n",
      "[CV] min_samples_leaf=2, min_samples_split=5, n_estimators=80 ........\n",
      "[CV]  min_samples_leaf=2, min_samples_split=5, n_estimators=80, score=0.628834 -   1.3s\n",
      "[CV] min_samples_leaf=2, min_samples_split=5, n_estimators=80 ........\n",
      "[CV]  min_samples_leaf=2, min_samples_split=5, n_estimators=80, score=0.643149 -   1.3s\n",
      "[CV] min_samples_leaf=2, min_samples_split=7, n_estimators=50 ........\n",
      "[CV]  min_samples_leaf=2, min_samples_split=7, n_estimators=50, score=0.628571 -   0.8s\n",
      "[CV] min_samples_leaf=2, min_samples_split=7, n_estimators=50 ........\n",
      "[CV]  min_samples_leaf=2, min_samples_split=7, n_estimators=50, score=0.618609 -   0.8s\n",
      "[CV] min_samples_leaf=2, min_samples_split=7, n_estimators=50 ........\n",
      "[CV]  min_samples_leaf=2, min_samples_split=7, n_estimators=50, score=0.639059 -   0.8s\n",
      "[CV] min_samples_leaf=2, min_samples_split=7, n_estimators=60 ........\n",
      "[CV]  min_samples_leaf=2, min_samples_split=7, n_estimators=60, score=0.639796 -   0.9s\n",
      "[CV] min_samples_leaf=2, min_samples_split=7, n_estimators=60 ........\n",
      "[CV]  min_samples_leaf=2, min_samples_split=7, n_estimators=60, score=0.645194 -   1.0s\n",
      "[CV] min_samples_leaf=2, min_samples_split=7, n_estimators=60 ........\n",
      "[CV]  min_samples_leaf=2, min_samples_split=7, n_estimators=60, score=0.670757 -   1.5s\n",
      "[CV] min_samples_leaf=2, min_samples_split=7, n_estimators=80 ........\n",
      "[CV]  min_samples_leaf=2, min_samples_split=7, n_estimators=80, score=0.646939 -   1.7s\n",
      "[CV] min_samples_leaf=2, min_samples_split=7, n_estimators=80 ........\n",
      "[CV]  min_samples_leaf=2, min_samples_split=7, n_estimators=80, score=0.633947 -   1.7s\n",
      "[CV] min_samples_leaf=2, min_samples_split=7, n_estimators=80 ........\n",
      "[CV]  min_samples_leaf=2, min_samples_split=7, n_estimators=80, score=0.648262 -   1.5s\n",
      "[CV] min_samples_leaf=2, min_samples_split=9, n_estimators=50 ........\n",
      "[CV]  min_samples_leaf=2, min_samples_split=9, n_estimators=50, score=0.635714 -   0.8s\n",
      "[CV] min_samples_leaf=2, min_samples_split=9, n_estimators=50 ........\n",
      "[CV]  min_samples_leaf=2, min_samples_split=9, n_estimators=50, score=0.641104 -   0.8s\n",
      "[CV] min_samples_leaf=2, min_samples_split=9, n_estimators=50 ........\n",
      "[CV]  min_samples_leaf=2, min_samples_split=9, n_estimators=50, score=0.627812 -   0.7s\n",
      "[CV] min_samples_leaf=2, min_samples_split=9, n_estimators=60 ........\n",
      "[CV]  min_samples_leaf=2, min_samples_split=9, n_estimators=60, score=0.633673 -   1.0s\n",
      "[CV] min_samples_leaf=2, min_samples_split=9, n_estimators=60 ........\n",
      "[CV]  min_samples_leaf=2, min_samples_split=9, n_estimators=60, score=0.645194 -   1.0s\n",
      "[CV] min_samples_leaf=2, min_samples_split=9, n_estimators=60 ........\n",
      "[CV]  min_samples_leaf=2, min_samples_split=9, n_estimators=60, score=0.626789 -   1.0s\n",
      "[CV] min_samples_leaf=2, min_samples_split=9, n_estimators=80 ........\n",
      "[CV]  min_samples_leaf=2, min_samples_split=9, n_estimators=80, score=0.668367 -   1.3s\n",
      "[CV] min_samples_leaf=2, min_samples_split=9, n_estimators=80 ........\n",
      "[CV]  min_samples_leaf=2, min_samples_split=9, n_estimators=80, score=0.634969 -   1.3s\n",
      "[CV] min_samples_leaf=2, min_samples_split=9, n_estimators=80 ........\n",
      "[CV]  min_samples_leaf=2, min_samples_split=9, n_estimators=80, score=0.650307 -   1.3s\n",
      "[CV] min_samples_leaf=4, min_samples_split=3, n_estimators=50 ........\n",
      "[CV]  min_samples_leaf=4, min_samples_split=3, n_estimators=50, score=0.626531 -   0.7s\n",
      "[CV] min_samples_leaf=4, min_samples_split=3, n_estimators=50 ........\n",
      "[CV]  min_samples_leaf=4, min_samples_split=3, n_estimators=50, score=0.637014 -   0.7s\n",
      "[CV] min_samples_leaf=4, min_samples_split=3, n_estimators=50 ........\n",
      "[CV]  min_samples_leaf=4, min_samples_split=3, n_estimators=50, score=0.645194 -   0.8s\n",
      "[CV] min_samples_leaf=4, min_samples_split=3, n_estimators=60 ........\n",
      "[CV]  min_samples_leaf=4, min_samples_split=3, n_estimators=60, score=0.631633 -   0.9s\n",
      "[CV] min_samples_leaf=4, min_samples_split=3, n_estimators=60 ........\n",
      "[CV]  min_samples_leaf=4, min_samples_split=3, n_estimators=60, score=0.640082 -   1.0s\n",
      "[CV] min_samples_leaf=4, min_samples_split=3, n_estimators=60 ........\n",
      "[CV]  min_samples_leaf=4, min_samples_split=3, n_estimators=60, score=0.642127 -   1.0s\n",
      "[CV] min_samples_leaf=4, min_samples_split=3, n_estimators=80 ........\n",
      "[CV]  min_samples_leaf=4, min_samples_split=3, n_estimators=80, score=0.645918 -   1.1s\n",
      "[CV] min_samples_leaf=4, min_samples_split=3, n_estimators=80 ........\n",
      "[CV]  min_samples_leaf=4, min_samples_split=3, n_estimators=80, score=0.623722 -   1.2s\n",
      "[CV] min_samples_leaf=4, min_samples_split=3, n_estimators=80 ........\n",
      "[CV]  min_samples_leaf=4, min_samples_split=3, n_estimators=80, score=0.644172 -   1.1s\n",
      "[CV] min_samples_leaf=4, min_samples_split=5, n_estimators=50 ........\n",
      "[CV]  min_samples_leaf=4, min_samples_split=5, n_estimators=50, score=0.633673 -   0.7s\n",
      "[CV] min_samples_leaf=4, min_samples_split=5, n_estimators=50 ........\n",
      "[CV]  min_samples_leaf=4, min_samples_split=5, n_estimators=50, score=0.629857 -   0.7s\n",
      "[CV] min_samples_leaf=4, min_samples_split=5, n_estimators=50 ........\n",
      "[CV]  min_samples_leaf=4, min_samples_split=5, n_estimators=50, score=0.656442 -   0.7s\n",
      "[CV] min_samples_leaf=4, min_samples_split=5, n_estimators=60 ........\n",
      "[CV]  min_samples_leaf=4, min_samples_split=5, n_estimators=60, score=0.627551 -   0.8s\n",
      "[CV] min_samples_leaf=4, min_samples_split=5, n_estimators=60 ........\n",
      "[CV]  min_samples_leaf=4, min_samples_split=5, n_estimators=60, score=0.638037 -   0.9s\n",
      "[CV] min_samples_leaf=4, min_samples_split=5, n_estimators=60 ........\n",
      "[CV]  min_samples_leaf=4, min_samples_split=5, n_estimators=60, score=0.629857 -   1.1s\n",
      "[CV] min_samples_leaf=4, min_samples_split=5, n_estimators=80 ........\n",
      "[CV]  min_samples_leaf=4, min_samples_split=5, n_estimators=80, score=0.638776 -   1.3s\n",
      "[CV] min_samples_leaf=4, min_samples_split=5, n_estimators=80 ........\n",
      "[CV]  min_samples_leaf=4, min_samples_split=5, n_estimators=80, score=0.638037 -   1.2s\n",
      "[CV] min_samples_leaf=4, min_samples_split=5, n_estimators=80 ........\n",
      "[CV]  min_samples_leaf=4, min_samples_split=5, n_estimators=80, score=0.646217 -   1.3s\n",
      "[CV] min_samples_leaf=4, min_samples_split=7, n_estimators=50 ........\n",
      "[CV]  min_samples_leaf=4, min_samples_split=7, n_estimators=50, score=0.643878 -   0.8s\n",
      "[CV] min_samples_leaf=4, min_samples_split=7, n_estimators=50 ........\n",
      "[CV]  min_samples_leaf=4, min_samples_split=7, n_estimators=50, score=0.659509 -   0.8s\n",
      "[CV] min_samples_leaf=4, min_samples_split=7, n_estimators=50 ........\n"
     ]
    },
    {
     "name": "stdout",
     "output_type": "stream",
     "text": [
      "[CV]  min_samples_leaf=4, min_samples_split=7, n_estimators=50, score=0.654397 -   0.8s\n",
      "[CV] min_samples_leaf=4, min_samples_split=7, n_estimators=60 ........\n",
      "[CV]  min_samples_leaf=4, min_samples_split=7, n_estimators=60, score=0.635714 -   0.9s\n",
      "[CV] min_samples_leaf=4, min_samples_split=7, n_estimators=60 ........\n",
      "[CV]  min_samples_leaf=4, min_samples_split=7, n_estimators=60, score=0.624744 -   0.9s\n",
      "[CV] min_samples_leaf=4, min_samples_split=7, n_estimators=60 ........\n",
      "[CV]  min_samples_leaf=4, min_samples_split=7, n_estimators=60, score=0.653374 -   0.9s\n",
      "[CV] min_samples_leaf=4, min_samples_split=7, n_estimators=80 ........\n",
      "[CV]  min_samples_leaf=4, min_samples_split=7, n_estimators=80, score=0.635714 -   1.1s\n",
      "[CV] min_samples_leaf=4, min_samples_split=7, n_estimators=80 ........\n",
      "[CV]  min_samples_leaf=4, min_samples_split=7, n_estimators=80, score=0.635992 -   1.2s\n",
      "[CV] min_samples_leaf=4, min_samples_split=7, n_estimators=80 ........\n",
      "[CV]  min_samples_leaf=4, min_samples_split=7, n_estimators=80, score=0.649284 -   1.2s\n",
      "[CV] min_samples_leaf=4, min_samples_split=9, n_estimators=50 ........\n",
      "[CV]  min_samples_leaf=4, min_samples_split=9, n_estimators=50, score=0.651020 -   0.8s\n",
      "[CV] min_samples_leaf=4, min_samples_split=9, n_estimators=50 ........\n",
      "[CV]  min_samples_leaf=4, min_samples_split=9, n_estimators=50, score=0.645194 -   0.9s\n",
      "[CV] min_samples_leaf=4, min_samples_split=9, n_estimators=50 ........\n",
      "[CV]  min_samples_leaf=4, min_samples_split=9, n_estimators=50, score=0.644172 -   0.9s\n",
      "[CV] min_samples_leaf=4, min_samples_split=9, n_estimators=60 ........\n",
      "[CV]  min_samples_leaf=4, min_samples_split=9, n_estimators=60, score=0.651020 -   1.1s\n",
      "[CV] min_samples_leaf=4, min_samples_split=9, n_estimators=60 ........\n",
      "[CV]  min_samples_leaf=4, min_samples_split=9, n_estimators=60, score=0.623722 -   1.1s\n",
      "[CV] min_samples_leaf=4, min_samples_split=9, n_estimators=60 ........\n",
      "[CV]  min_samples_leaf=4, min_samples_split=9, n_estimators=60, score=0.638037 -   1.6s\n",
      "[CV] min_samples_leaf=4, min_samples_split=9, n_estimators=80 ........\n",
      "[CV]  min_samples_leaf=4, min_samples_split=9, n_estimators=80, score=0.636735 -   1.6s\n",
      "[CV] min_samples_leaf=4, min_samples_split=9, n_estimators=80 ........\n",
      "[CV]  min_samples_leaf=4, min_samples_split=9, n_estimators=80, score=0.634969 -   1.3s\n",
      "[CV] min_samples_leaf=4, min_samples_split=9, n_estimators=80 ........\n",
      "[CV]  min_samples_leaf=4, min_samples_split=9, n_estimators=80, score=0.664622 -   1.3s\n",
      "[CV] min_samples_leaf=7, min_samples_split=3, n_estimators=50 ........\n",
      "[CV]  min_samples_leaf=7, min_samples_split=3, n_estimators=50, score=0.645918 -   0.7s\n",
      "[CV] min_samples_leaf=7, min_samples_split=3, n_estimators=50 ........\n",
      "[CV]  min_samples_leaf=7, min_samples_split=3, n_estimators=50, score=0.624744 -   0.7s\n",
      "[CV] min_samples_leaf=7, min_samples_split=3, n_estimators=50 ........\n",
      "[CV]  min_samples_leaf=7, min_samples_split=3, n_estimators=50, score=0.655419 -   0.7s\n",
      "[CV] min_samples_leaf=7, min_samples_split=3, n_estimators=60 ........\n",
      "[CV]  min_samples_leaf=7, min_samples_split=3, n_estimators=60, score=0.635714 -   0.8s\n",
      "[CV] min_samples_leaf=7, min_samples_split=3, n_estimators=60 ........\n",
      "[CV]  min_samples_leaf=7, min_samples_split=3, n_estimators=60, score=0.652352 -   0.8s\n",
      "[CV] min_samples_leaf=7, min_samples_split=3, n_estimators=60 ........\n",
      "[CV]  min_samples_leaf=7, min_samples_split=3, n_estimators=60, score=0.654397 -   0.9s\n",
      "[CV] min_samples_leaf=7, min_samples_split=3, n_estimators=80 ........\n",
      "[CV]  min_samples_leaf=7, min_samples_split=3, n_estimators=80, score=0.663265 -   2.0s\n",
      "[CV] min_samples_leaf=7, min_samples_split=3, n_estimators=80 ........\n",
      "[CV]  min_samples_leaf=7, min_samples_split=3, n_estimators=80, score=0.642127 -   1.3s\n",
      "[CV] min_samples_leaf=7, min_samples_split=3, n_estimators=80 ........\n",
      "[CV]  min_samples_leaf=7, min_samples_split=3, n_estimators=80, score=0.649284 -   1.5s\n",
      "[CV] min_samples_leaf=7, min_samples_split=5, n_estimators=50 ........\n",
      "[CV]  min_samples_leaf=7, min_samples_split=5, n_estimators=50, score=0.628571 -   0.7s\n",
      "[CV] min_samples_leaf=7, min_samples_split=5, n_estimators=50 ........\n",
      "[CV]  min_samples_leaf=7, min_samples_split=5, n_estimators=50, score=0.623722 -   0.8s\n",
      "[CV] min_samples_leaf=7, min_samples_split=5, n_estimators=50 ........\n",
      "[CV]  min_samples_leaf=7, min_samples_split=5, n_estimators=50, score=0.644172 -   0.7s\n",
      "[CV] min_samples_leaf=7, min_samples_split=5, n_estimators=60 ........\n",
      "[CV]  min_samples_leaf=7, min_samples_split=5, n_estimators=60, score=0.639796 -   0.9s\n",
      "[CV] min_samples_leaf=7, min_samples_split=5, n_estimators=60 ........\n",
      "[CV]  min_samples_leaf=7, min_samples_split=5, n_estimators=60, score=0.644172 -   0.8s\n",
      "[CV] min_samples_leaf=7, min_samples_split=5, n_estimators=60 ........\n",
      "[CV]  min_samples_leaf=7, min_samples_split=5, n_estimators=60, score=0.652352 -   0.8s\n",
      "[CV] min_samples_leaf=7, min_samples_split=5, n_estimators=80 ........\n",
      "[CV]  min_samples_leaf=7, min_samples_split=5, n_estimators=80, score=0.640816 -   1.1s\n",
      "[CV] min_samples_leaf=7, min_samples_split=5, n_estimators=80 ........\n",
      "[CV]  min_samples_leaf=7, min_samples_split=5, n_estimators=80, score=0.649284 -   1.1s\n",
      "[CV] min_samples_leaf=7, min_samples_split=5, n_estimators=80 ........\n",
      "[CV]  min_samples_leaf=7, min_samples_split=5, n_estimators=80, score=0.651329 -   1.2s\n",
      "[CV] min_samples_leaf=7, min_samples_split=7, n_estimators=50 ........\n",
      "[CV]  min_samples_leaf=7, min_samples_split=7, n_estimators=50, score=0.634694 -   0.7s\n",
      "[CV] min_samples_leaf=7, min_samples_split=7, n_estimators=50 ........\n",
      "[CV]  min_samples_leaf=7, min_samples_split=7, n_estimators=50, score=0.639059 -   0.7s\n",
      "[CV] min_samples_leaf=7, min_samples_split=7, n_estimators=50 ........\n",
      "[CV]  min_samples_leaf=7, min_samples_split=7, n_estimators=50, score=0.651329 -   0.7s\n",
      "[CV] min_samples_leaf=7, min_samples_split=7, n_estimators=60 ........\n",
      "[CV]  min_samples_leaf=7, min_samples_split=7, n_estimators=60, score=0.626531 -   0.8s\n",
      "[CV] min_samples_leaf=7, min_samples_split=7, n_estimators=60 ........\n",
      "[CV]  min_samples_leaf=7, min_samples_split=7, n_estimators=60, score=0.641104 -   0.8s\n",
      "[CV] min_samples_leaf=7, min_samples_split=7, n_estimators=60 ........\n",
      "[CV]  min_samples_leaf=7, min_samples_split=7, n_estimators=60, score=0.646217 -   0.8s\n",
      "[CV] min_samples_leaf=7, min_samples_split=7, n_estimators=80 ........\n",
      "[CV]  min_samples_leaf=7, min_samples_split=7, n_estimators=80, score=0.633673 -   1.1s\n",
      "[CV] min_samples_leaf=7, min_samples_split=7, n_estimators=80 ........\n",
      "[CV]  min_samples_leaf=7, min_samples_split=7, n_estimators=80, score=0.642127 -   1.5s\n",
      "[CV] min_samples_leaf=7, min_samples_split=7, n_estimators=80 ........\n",
      "[CV]  min_samples_leaf=7, min_samples_split=7, n_estimators=80, score=0.664622 -   2.0s\n",
      "[CV] min_samples_leaf=7, min_samples_split=9, n_estimators=50 ........\n",
      "[CV]  min_samples_leaf=7, min_samples_split=9, n_estimators=50, score=0.636735 -   0.7s\n",
      "[CV] min_samples_leaf=7, min_samples_split=9, n_estimators=50 ........\n",
      "[CV]  min_samples_leaf=7, min_samples_split=9, n_estimators=50, score=0.648262 -   1.1s\n",
      "[CV] min_samples_leaf=7, min_samples_split=9, n_estimators=50 ........\n",
      "[CV]  min_samples_leaf=7, min_samples_split=9, n_estimators=50, score=0.658487 -   1.0s\n",
      "[CV] min_samples_leaf=7, min_samples_split=9, n_estimators=60 ........\n",
      "[CV]  min_samples_leaf=7, min_samples_split=9, n_estimators=60, score=0.641837 -   0.9s\n",
      "[CV] min_samples_leaf=7, min_samples_split=9, n_estimators=60 ........\n",
      "[CV]  min_samples_leaf=7, min_samples_split=9, n_estimators=60, score=0.628834 -   0.8s\n",
      "[CV] min_samples_leaf=7, min_samples_split=9, n_estimators=60 ........\n",
      "[CV]  min_samples_leaf=7, min_samples_split=9, n_estimators=60, score=0.648262 -   0.8s\n",
      "[CV] min_samples_leaf=7, min_samples_split=9, n_estimators=80 ........\n",
      "[CV]  min_samples_leaf=7, min_samples_split=9, n_estimators=80, score=0.642857 -   1.0s\n",
      "[CV] min_samples_leaf=7, min_samples_split=9, n_estimators=80 ........\n",
      "[CV]  min_samples_leaf=7, min_samples_split=9, n_estimators=80, score=0.646217 -   1.2s\n",
      "[CV] min_samples_leaf=7, min_samples_split=9, n_estimators=80 ........\n",
      "[CV]  min_samples_leaf=7, min_samples_split=9, n_estimators=80, score=0.659509 -   1.1s\n",
      "[CV] min_samples_leaf=10, min_samples_split=3, n_estimators=50 .......\n"
     ]
    },
    {
     "name": "stdout",
     "output_type": "stream",
     "text": [
      "[CV]  min_samples_leaf=10, min_samples_split=3, n_estimators=50, score=0.645918 -   0.6s\n",
      "[CV] min_samples_leaf=10, min_samples_split=3, n_estimators=50 .......\n",
      "[CV]  min_samples_leaf=10, min_samples_split=3, n_estimators=50, score=0.655419 -   0.7s\n",
      "[CV] min_samples_leaf=10, min_samples_split=3, n_estimators=50 .......\n",
      "[CV]  min_samples_leaf=10, min_samples_split=3, n_estimators=50, score=0.638037 -   0.6s\n",
      "[CV] min_samples_leaf=10, min_samples_split=3, n_estimators=60 .......\n",
      "[CV]  min_samples_leaf=10, min_samples_split=3, n_estimators=60, score=0.641837 -   0.7s\n",
      "[CV] min_samples_leaf=10, min_samples_split=3, n_estimators=60 .......\n",
      "[CV]  min_samples_leaf=10, min_samples_split=3, n_estimators=60, score=0.638037 -   0.8s\n",
      "[CV] min_samples_leaf=10, min_samples_split=3, n_estimators=60 .......\n",
      "[CV]  min_samples_leaf=10, min_samples_split=3, n_estimators=60, score=0.657464 -   0.8s\n",
      "[CV] min_samples_leaf=10, min_samples_split=3, n_estimators=80 .......\n",
      "[CV]  min_samples_leaf=10, min_samples_split=3, n_estimators=80, score=0.641837 -   1.1s\n",
      "[CV] min_samples_leaf=10, min_samples_split=3, n_estimators=80 .......\n",
      "[CV]  min_samples_leaf=10, min_samples_split=3, n_estimators=80, score=0.645194 -   1.7s\n",
      "[CV] min_samples_leaf=10, min_samples_split=3, n_estimators=80 .......\n",
      "[CV]  min_samples_leaf=10, min_samples_split=3, n_estimators=80, score=0.650307 -   1.3s\n",
      "[CV] min_samples_leaf=10, min_samples_split=5, n_estimators=50 .......\n",
      "[CV]  min_samples_leaf=10, min_samples_split=5, n_estimators=50, score=0.632653 -   1.0s\n",
      "[CV] min_samples_leaf=10, min_samples_split=5, n_estimators=50 .......\n",
      "[CV]  min_samples_leaf=10, min_samples_split=5, n_estimators=50, score=0.645194 -   0.9s\n",
      "[CV] min_samples_leaf=10, min_samples_split=5, n_estimators=50 .......\n",
      "[CV]  min_samples_leaf=10, min_samples_split=5, n_estimators=50, score=0.627812 -   0.7s\n",
      "[CV] min_samples_leaf=10, min_samples_split=5, n_estimators=60 .......\n",
      "[CV]  min_samples_leaf=10, min_samples_split=5, n_estimators=60, score=0.656122 -   0.9s\n",
      "[CV] min_samples_leaf=10, min_samples_split=5, n_estimators=60 .......\n",
      "[CV]  min_samples_leaf=10, min_samples_split=5, n_estimators=60, score=0.655419 -   0.8s\n",
      "[CV] min_samples_leaf=10, min_samples_split=5, n_estimators=60 .......\n",
      "[CV]  min_samples_leaf=10, min_samples_split=5, n_estimators=60, score=0.656442 -   0.7s\n",
      "[CV] min_samples_leaf=10, min_samples_split=5, n_estimators=80 .......\n",
      "[CV]  min_samples_leaf=10, min_samples_split=5, n_estimators=80, score=0.653061 -   1.0s\n",
      "[CV] min_samples_leaf=10, min_samples_split=5, n_estimators=80 .......\n",
      "[CV]  min_samples_leaf=10, min_samples_split=5, n_estimators=80, score=0.634969 -   1.0s\n",
      "[CV] min_samples_leaf=10, min_samples_split=5, n_estimators=80 .......\n",
      "[CV]  min_samples_leaf=10, min_samples_split=5, n_estimators=80, score=0.658487 -   1.0s\n",
      "[CV] min_samples_leaf=10, min_samples_split=7, n_estimators=50 .......\n",
      "[CV]  min_samples_leaf=10, min_samples_split=7, n_estimators=50, score=0.639796 -   0.6s\n",
      "[CV] min_samples_leaf=10, min_samples_split=7, n_estimators=50 .......\n",
      "[CV]  min_samples_leaf=10, min_samples_split=7, n_estimators=50, score=0.629857 -   0.6s\n",
      "[CV] min_samples_leaf=10, min_samples_split=7, n_estimators=50 .......\n",
      "[CV]  min_samples_leaf=10, min_samples_split=7, n_estimators=50, score=0.643149 -   0.6s\n",
      "[CV] min_samples_leaf=10, min_samples_split=7, n_estimators=60 .......\n",
      "[CV]  min_samples_leaf=10, min_samples_split=7, n_estimators=60, score=0.647959 -   0.7s\n",
      "[CV] min_samples_leaf=10, min_samples_split=7, n_estimators=60 .......\n",
      "[CV]  min_samples_leaf=10, min_samples_split=7, n_estimators=60, score=0.632924 -   0.8s\n",
      "[CV] min_samples_leaf=10, min_samples_split=7, n_estimators=60 .......\n",
      "[CV]  min_samples_leaf=10, min_samples_split=7, n_estimators=60, score=0.652352 -   0.9s\n",
      "[CV] min_samples_leaf=10, min_samples_split=7, n_estimators=80 .......\n",
      "[CV]  min_samples_leaf=10, min_samples_split=7, n_estimators=80, score=0.659184 -   1.1s\n",
      "[CV] min_samples_leaf=10, min_samples_split=7, n_estimators=80 .......\n",
      "[CV]  min_samples_leaf=10, min_samples_split=7, n_estimators=80, score=0.643149 -   1.1s\n",
      "[CV] min_samples_leaf=10, min_samples_split=7, n_estimators=80 .......\n",
      "[CV]  min_samples_leaf=10, min_samples_split=7, n_estimators=80, score=0.666667 -   1.2s\n",
      "[CV] min_samples_leaf=10, min_samples_split=9, n_estimators=50 .......\n",
      "[CV]  min_samples_leaf=10, min_samples_split=9, n_estimators=50, score=0.647959 -   1.2s\n",
      "[CV] min_samples_leaf=10, min_samples_split=9, n_estimators=50 .......\n",
      "[CV]  min_samples_leaf=10, min_samples_split=9, n_estimators=50, score=0.637014 -   1.0s\n",
      "[CV] min_samples_leaf=10, min_samples_split=9, n_estimators=50 .......\n",
      "[CV]  min_samples_leaf=10, min_samples_split=9, n_estimators=50, score=0.658487 -   0.7s\n",
      "[CV] min_samples_leaf=10, min_samples_split=9, n_estimators=60 .......\n",
      "[CV]  min_samples_leaf=10, min_samples_split=9, n_estimators=60, score=0.640816 -   1.2s\n",
      "[CV] min_samples_leaf=10, min_samples_split=9, n_estimators=60 .......\n",
      "[CV]  min_samples_leaf=10, min_samples_split=9, n_estimators=60, score=0.624744 -   0.9s\n",
      "[CV] min_samples_leaf=10, min_samples_split=9, n_estimators=60 .......\n",
      "[CV]  min_samples_leaf=10, min_samples_split=9, n_estimators=60, score=0.661554 -   0.8s\n",
      "[CV] min_samples_leaf=10, min_samples_split=9, n_estimators=80 .......\n",
      "[CV]  min_samples_leaf=10, min_samples_split=9, n_estimators=80, score=0.647959 -   1.0s\n",
      "[CV] min_samples_leaf=10, min_samples_split=9, n_estimators=80 .......\n",
      "[CV]  min_samples_leaf=10, min_samples_split=9, n_estimators=80, score=0.637014 -   1.0s\n",
      "[CV] min_samples_leaf=10, min_samples_split=9, n_estimators=80 .......\n",
      "[CV]  min_samples_leaf=10, min_samples_split=9, n_estimators=80, score=0.667689 -   1.0s\n"
     ]
    },
    {
     "name": "stderr",
     "output_type": "stream",
     "text": [
      "[Parallel(n_jobs=1)]: Done 144 out of 144 | elapsed:  2.4min finished\n"
     ]
    },
    {
     "name": "stdout",
     "output_type": "stream",
     "text": [
      "0.629856850716\n"
     ]
    }
   ],
   "source": [
    "transformed_w2v_ei = transform_vectors(lambda v: list(pca.transform(v)), w2v_ei)\n",
    "clf_ei_w2v_t = GridSearchCV(RandomForestClassifier(), grid, verbose=5)\n",
    "clf_ei_w2v_t.fit(*create_vectors_labels(transformed_w2v_ei[0], transformed_w2v_ei[2]))\n",
    "print(clf_ei_w2v_t.score(*create_vectors_labels(transformed_w2v_ei[1], transformed_w2v_ei[3])))"
   ]
  },
  {
   "cell_type": "markdown",
   "metadata": {},
   "source": [
    "Like in the case of BOW features, applying PCA did not lead to a significant improvement in accuracy."
   ]
  },
  {
   "cell_type": "markdown",
   "metadata": {},
   "source": [
    "## Training classifiers based on hand-crafted features"
   ]
  },
  {
   "cell_type": "code",
   "execution_count": 79,
   "metadata": {
    "collapsed": true
   },
   "outputs": [],
   "source": [
    "commonPos = [\"PRON\", \"SPACE\", \"VERB\", \"ADV\"]\n",
    "\n",
    "def get_words_per_post(posts):\n",
    "    p = posts.split(\"|||\")\n",
    "    complete = 0\n",
    "    for post in p:\n",
    "        complete += len(ws.split(post))\n",
    "    return complete / len(p)\n",
    "\n",
    "def get_posts_features(posts):\n",
    "    n_posts = posts.count(\"|||\") + 1\n",
    "    wpp = get_words_per_post(posts)\n",
    "    posts = posts.replace(\"|||\", \" \")\n",
    "    doc = nlp(posts)\n",
    "    counts = Counter([w.pos_ for w in doc if w.pos_ in commonPos])\n",
    "    total = sum(counts.values(), 0.0)\n",
    "    for key in counts:\n",
    "        counts[key] /= total\n",
    "    for apt in commonPos:\n",
    "        if not apt in counts:\n",
    "            counts[apt] = 0.\n",
    "    ret = [counts[cp] for cp in commonPos]\n",
    "    ret += [posts.count(\"http\") / (n_posts)]\n",
    "    ret += [posts.count(\"?\") / (n_posts)]\n",
    "    ret += [posts.count(\"!\") / (n_posts)]\n",
    "    ret += [posts.count(\".\") / (n_posts)]\n",
    "    ret += [posts.count(\":\") / (n_posts)]\n",
    "    ret += [wpp]\n",
    "    return ret\n",
    "\n",
    "def get_hcf_name(i):\n",
    "    names = [\"pron\", \"space\", \"verb\", \"adv\", \"http\", \"?\", \"!\", \".\", \":\", \"w/post\"]\n",
    "    return names[i]"
   ]
  },
  {
   "cell_type": "code",
   "execution_count": 80,
   "metadata": {
    "collapsed": true
   },
   "outputs": [],
   "source": [
    "hcf_ei = transform_vectors(lambda v: [get_posts_features(p) for p in v], ei_vectors)\n",
    "hcf_ns = transform_vectors(lambda v: [get_posts_features(p) for p in v], ns_vectors)\n",
    "hcf_tf = transform_vectors(lambda v: [get_posts_features(p) for p in v], tf_vectors)\n",
    "hcf_jp = transform_vectors(lambda v: [get_posts_features(p) for p in v], jp_vectors)"
   ]
  },
  {
   "cell_type": "code",
   "execution_count": 81,
   "metadata": {},
   "outputs": [
    {
     "name": "stdout",
     "output_type": "stream",
     "text": [
      "[  0.30232563   0.26886949   0.25721063   0.17159425   0.05106856\n",
      "   0.22988266   0.24115427   3.64925253   0.34111731  27.21596018]\n",
      "[  0.29930996   0.26726452   0.25950511   0.1739204    0.06935284\n",
      "   0.21476098   0.15692379   3.70677984   0.32246525  27.11921419]\n",
      "[ 0.00701302  0.02107807  0.00748437  0.00658067  0.00141407  0.00521551\n",
      "  0.01629874  0.06767861  0.01303679  0.2378585 ]\n",
      "[ 0.1148587   0.18139111  0.07962848  0.08932995  0.09274968  0.13566398\n",
      "  0.32782623  1.09015383  0.30526678  5.5166169 ]\n",
      "[ 0.10623093  0.1798085   0.07861181  0.08135862  0.10827398  0.13054072\n",
      "  0.19744099  1.04404883  0.28139819  5.66035392]\n"
     ]
    }
   ],
   "source": [
    "print(np.mean(hcf_ei[0], axis=0))\n",
    "print(np.mean(hcf_ei[2], axis=0))\n",
    "print(np.abs(np.mean(hcf_ei[0], axis=0) - np.mean(hcf_ei[1], axis=0)))\n",
    "print(np.std(hcf_ei[0], axis=0))\n",
    "print(np.std(hcf_ei[2], axis=0))"
   ]
  },
  {
   "cell_type": "code",
   "execution_count": 82,
   "metadata": {},
   "outputs": [
    {
     "name": "stdout",
     "output_type": "stream",
     "text": [
      "Fitting 3 folds for each of 48 candidates, totalling 144 fits\n",
      "[CV] min_samples_leaf=2, min_samples_split=3, n_estimators=50 ........\n",
      "[CV]  min_samples_leaf=2, min_samples_split=3, n_estimators=50, score=0.556122 -   0.4s\n",
      "[CV] min_samples_leaf=2, min_samples_split=3, n_estimators=50 ........\n"
     ]
    },
    {
     "name": "stderr",
     "output_type": "stream",
     "text": [
      "[Parallel(n_jobs=1)]: Done   1 out of   1 | elapsed:    0.4s remaining:    0.0s\n"
     ]
    },
    {
     "name": "stdout",
     "output_type": "stream",
     "text": [
      "[CV]  min_samples_leaf=2, min_samples_split=3, n_estimators=50, score=0.567485 -   0.6s\n",
      "[CV] min_samples_leaf=2, min_samples_split=3, n_estimators=50 ........\n"
     ]
    },
    {
     "name": "stderr",
     "output_type": "stream",
     "text": [
      "[Parallel(n_jobs=1)]: Done   2 out of   2 | elapsed:    1.0s remaining:    0.0s\n"
     ]
    },
    {
     "name": "stdout",
     "output_type": "stream",
     "text": [
      "[CV]  min_samples_leaf=2, min_samples_split=3, n_estimators=50, score=0.580777 -   0.5s\n",
      "[CV] min_samples_leaf=2, min_samples_split=3, n_estimators=60 ........\n"
     ]
    },
    {
     "name": "stderr",
     "output_type": "stream",
     "text": [
      "[Parallel(n_jobs=1)]: Done   3 out of   3 | elapsed:    1.5s remaining:    0.0s\n"
     ]
    },
    {
     "name": "stdout",
     "output_type": "stream",
     "text": [
      "[CV]  min_samples_leaf=2, min_samples_split=3, n_estimators=60, score=0.539796 -   0.6s\n",
      "[CV] min_samples_leaf=2, min_samples_split=3, n_estimators=60 ........\n"
     ]
    },
    {
     "name": "stderr",
     "output_type": "stream",
     "text": [
      "[Parallel(n_jobs=1)]: Done   4 out of   4 | elapsed:    2.1s remaining:    0.0s\n"
     ]
    },
    {
     "name": "stdout",
     "output_type": "stream",
     "text": [
      "[CV]  min_samples_leaf=2, min_samples_split=3, n_estimators=60, score=0.579755 -   0.6s\n",
      "[CV] min_samples_leaf=2, min_samples_split=3, n_estimators=60 ........\n",
      "[CV]  min_samples_leaf=2, min_samples_split=3, n_estimators=60, score=0.576687 -   0.5s\n",
      "[CV] min_samples_leaf=2, min_samples_split=3, n_estimators=80 ........\n",
      "[CV]  min_samples_leaf=2, min_samples_split=3, n_estimators=80, score=0.571429 -   0.7s\n",
      "[CV] min_samples_leaf=2, min_samples_split=3, n_estimators=80 ........\n",
      "[CV]  min_samples_leaf=2, min_samples_split=3, n_estimators=80, score=0.572597 -   0.8s\n",
      "[CV] min_samples_leaf=2, min_samples_split=3, n_estimators=80 ........\n",
      "[CV]  min_samples_leaf=2, min_samples_split=3, n_estimators=80, score=0.547035 -   0.7s\n",
      "[CV] min_samples_leaf=2, min_samples_split=5, n_estimators=50 ........\n",
      "[CV]  min_samples_leaf=2, min_samples_split=5, n_estimators=50, score=0.534694 -   0.4s\n",
      "[CV] min_samples_leaf=2, min_samples_split=5, n_estimators=50 ........\n",
      "[CV]  min_samples_leaf=2, min_samples_split=5, n_estimators=50, score=0.574642 -   0.4s\n",
      "[CV] min_samples_leaf=2, min_samples_split=5, n_estimators=50 ........\n",
      "[CV]  min_samples_leaf=2, min_samples_split=5, n_estimators=50, score=0.554192 -   0.4s\n",
      "[CV] min_samples_leaf=2, min_samples_split=5, n_estimators=60 ........\n",
      "[CV]  min_samples_leaf=2, min_samples_split=5, n_estimators=60, score=0.538776 -   0.5s\n",
      "[CV] min_samples_leaf=2, min_samples_split=5, n_estimators=60 ........\n",
      "[CV]  min_samples_leaf=2, min_samples_split=5, n_estimators=60, score=0.561350 -   0.5s\n",
      "[CV] min_samples_leaf=2, min_samples_split=5, n_estimators=60 ........\n",
      "[CV]  min_samples_leaf=2, min_samples_split=5, n_estimators=60, score=0.551125 -   0.5s\n",
      "[CV] min_samples_leaf=2, min_samples_split=5, n_estimators=80 ........\n",
      "[CV]  min_samples_leaf=2, min_samples_split=5, n_estimators=80, score=0.547959 -   0.7s\n",
      "[CV] min_samples_leaf=2, min_samples_split=5, n_estimators=80 ........\n",
      "[CV]  min_samples_leaf=2, min_samples_split=5, n_estimators=80, score=0.568507 -   1.2s\n",
      "[CV] min_samples_leaf=2, min_samples_split=5, n_estimators=80 ........\n",
      "[CV]  min_samples_leaf=2, min_samples_split=5, n_estimators=80, score=0.575665 -   1.2s\n",
      "[CV] min_samples_leaf=2, min_samples_split=7, n_estimators=50 ........\n",
      "[CV]  min_samples_leaf=2, min_samples_split=7, n_estimators=50, score=0.560204 -   0.5s\n",
      "[CV] min_samples_leaf=2, min_samples_split=7, n_estimators=50 ........\n",
      "[CV]  min_samples_leaf=2, min_samples_split=7, n_estimators=50, score=0.559305 -   0.4s\n",
      "[CV] min_samples_leaf=2, min_samples_split=7, n_estimators=50 ........\n",
      "[CV]  min_samples_leaf=2, min_samples_split=7, n_estimators=50, score=0.556237 -   0.6s\n",
      "[CV] min_samples_leaf=2, min_samples_split=7, n_estimators=60 ........\n",
      "[CV]  min_samples_leaf=2, min_samples_split=7, n_estimators=60, score=0.546939 -   0.5s\n",
      "[CV] min_samples_leaf=2, min_samples_split=7, n_estimators=60 ........\n",
      "[CV]  min_samples_leaf=2, min_samples_split=7, n_estimators=60, score=0.566462 -   0.7s\n",
      "[CV] min_samples_leaf=2, min_samples_split=7, n_estimators=60 ........\n",
      "[CV]  min_samples_leaf=2, min_samples_split=7, n_estimators=60, score=0.562372 -   0.5s\n",
      "[CV] min_samples_leaf=2, min_samples_split=7, n_estimators=80 ........\n",
      "[CV]  min_samples_leaf=2, min_samples_split=7, n_estimators=80, score=0.552041 -   0.7s\n",
      "[CV] min_samples_leaf=2, min_samples_split=7, n_estimators=80 ........\n",
      "[CV]  min_samples_leaf=2, min_samples_split=7, n_estimators=80, score=0.563395 -   0.8s\n",
      "[CV] min_samples_leaf=2, min_samples_split=7, n_estimators=80 ........\n",
      "[CV]  min_samples_leaf=2, min_samples_split=7, n_estimators=80, score=0.548057 -   0.7s\n",
      "[CV] min_samples_leaf=2, min_samples_split=9, n_estimators=50 ........\n",
      "[CV]  min_samples_leaf=2, min_samples_split=9, n_estimators=50, score=0.559184 -   0.7s\n",
      "[CV] min_samples_leaf=2, min_samples_split=9, n_estimators=50 ........\n",
      "[CV]  min_samples_leaf=2, min_samples_split=9, n_estimators=50, score=0.557260 -   0.6s\n",
      "[CV] min_samples_leaf=2, min_samples_split=9, n_estimators=50 ........\n",
      "[CV]  min_samples_leaf=2, min_samples_split=9, n_estimators=50, score=0.569530 -   0.5s\n",
      "[CV] min_samples_leaf=2, min_samples_split=9, n_estimators=60 ........\n",
      "[CV]  min_samples_leaf=2, min_samples_split=9, n_estimators=60, score=0.569388 -   1.2s\n",
      "[CV] min_samples_leaf=2, min_samples_split=9, n_estimators=60 ........\n",
      "[CV]  min_samples_leaf=2, min_samples_split=9, n_estimators=60, score=0.570552 -   0.9s\n",
      "[CV] min_samples_leaf=2, min_samples_split=9, n_estimators=60 ........\n",
      "[CV]  min_samples_leaf=2, min_samples_split=9, n_estimators=60, score=0.568507 -   0.7s\n",
      "[CV] min_samples_leaf=2, min_samples_split=9, n_estimators=80 ........\n",
      "[CV]  min_samples_leaf=2, min_samples_split=9, n_estimators=80, score=0.564286 -   0.8s\n",
      "[CV] min_samples_leaf=2, min_samples_split=9, n_estimators=80 ........\n",
      "[CV]  min_samples_leaf=2, min_samples_split=9, n_estimators=80, score=0.577710 -   0.6s\n",
      "[CV] min_samples_leaf=2, min_samples_split=9, n_estimators=80 ........\n",
      "[CV]  min_samples_leaf=2, min_samples_split=9, n_estimators=80, score=0.576687 -   0.8s\n",
      "[CV] min_samples_leaf=4, min_samples_split=3, n_estimators=50 ........\n",
      "[CV]  min_samples_leaf=4, min_samples_split=3, n_estimators=50, score=0.574490 -   0.7s\n",
      "[CV] min_samples_leaf=4, min_samples_split=3, n_estimators=50 ........\n",
      "[CV]  min_samples_leaf=4, min_samples_split=3, n_estimators=50, score=0.574642 -   0.6s\n",
      "[CV] min_samples_leaf=4, min_samples_split=3, n_estimators=50 ........\n",
      "[CV]  min_samples_leaf=4, min_samples_split=3, n_estimators=50, score=0.569530 -   0.4s\n",
      "[CV] min_samples_leaf=4, min_samples_split=3, n_estimators=60 ........\n",
      "[CV]  min_samples_leaf=4, min_samples_split=3, n_estimators=60, score=0.571429 -   0.6s\n",
      "[CV] min_samples_leaf=4, min_samples_split=3, n_estimators=60 ........\n",
      "[CV]  min_samples_leaf=4, min_samples_split=3, n_estimators=60, score=0.581800 -   0.7s\n",
      "[CV] min_samples_leaf=4, min_samples_split=3, n_estimators=60 ........\n",
      "[CV]  min_samples_leaf=4, min_samples_split=3, n_estimators=60, score=0.587935 -   0.6s\n",
      "[CV] min_samples_leaf=4, min_samples_split=3, n_estimators=80 ........\n",
      "[CV]  min_samples_leaf=4, min_samples_split=3, n_estimators=80, score=0.553061 -   0.7s\n",
      "[CV] min_samples_leaf=4, min_samples_split=3, n_estimators=80 ........\n",
      "[CV]  min_samples_leaf=4, min_samples_split=3, n_estimators=80, score=0.570552 -   0.6s\n",
      "[CV] min_samples_leaf=4, min_samples_split=3, n_estimators=80 ........\n",
      "[CV]  min_samples_leaf=4, min_samples_split=3, n_estimators=80, score=0.568507 -   0.8s\n",
      "[CV] min_samples_leaf=4, min_samples_split=5, n_estimators=50 ........\n",
      "[CV]  min_samples_leaf=4, min_samples_split=5, n_estimators=50, score=0.564286 -   0.4s\n",
      "[CV] min_samples_leaf=4, min_samples_split=5, n_estimators=50 ........\n",
      "[CV]  min_samples_leaf=4, min_samples_split=5, n_estimators=50, score=0.572597 -   0.6s\n",
      "[CV] min_samples_leaf=4, min_samples_split=5, n_estimators=50 ........\n",
      "[CV]  min_samples_leaf=4, min_samples_split=5, n_estimators=50, score=0.563395 -   0.4s\n",
      "[CV] min_samples_leaf=4, min_samples_split=5, n_estimators=60 ........\n",
      "[CV]  min_samples_leaf=4, min_samples_split=5, n_estimators=60, score=0.541837 -   0.5s\n",
      "[CV] min_samples_leaf=4, min_samples_split=5, n_estimators=60 ........\n",
      "[CV]  min_samples_leaf=4, min_samples_split=5, n_estimators=60, score=0.573620 -   0.5s\n",
      "[CV] min_samples_leaf=4, min_samples_split=5, n_estimators=60 ........\n",
      "[CV]  min_samples_leaf=4, min_samples_split=5, n_estimators=60, score=0.597137 -   0.4s\n",
      "[CV] min_samples_leaf=4, min_samples_split=5, n_estimators=80 ........\n",
      "[CV]  min_samples_leaf=4, min_samples_split=5, n_estimators=80, score=0.546939 -   0.7s\n",
      "[CV] min_samples_leaf=4, min_samples_split=5, n_estimators=80 ........\n",
      "[CV]  min_samples_leaf=4, min_samples_split=5, n_estimators=80, score=0.591002 -   0.7s\n",
      "[CV] min_samples_leaf=4, min_samples_split=5, n_estimators=80 ........\n",
      "[CV]  min_samples_leaf=4, min_samples_split=5, n_estimators=80, score=0.566462 -   0.7s\n",
      "[CV] min_samples_leaf=4, min_samples_split=7, n_estimators=50 ........\n",
      "[CV]  min_samples_leaf=4, min_samples_split=7, n_estimators=50, score=0.556122 -   0.4s\n",
      "[CV] min_samples_leaf=4, min_samples_split=7, n_estimators=50 ........\n",
      "[CV]  min_samples_leaf=4, min_samples_split=7, n_estimators=50, score=0.578732 -   0.4s\n",
      "[CV] min_samples_leaf=4, min_samples_split=7, n_estimators=50 ........\n"
     ]
    },
    {
     "name": "stdout",
     "output_type": "stream",
     "text": [
      "[CV]  min_samples_leaf=4, min_samples_split=7, n_estimators=50, score=0.561350 -   0.4s\n",
      "[CV] min_samples_leaf=4, min_samples_split=7, n_estimators=60 ........\n",
      "[CV]  min_samples_leaf=4, min_samples_split=7, n_estimators=60, score=0.565306 -   0.4s\n",
      "[CV] min_samples_leaf=4, min_samples_split=7, n_estimators=60 ........\n",
      "[CV]  min_samples_leaf=4, min_samples_split=7, n_estimators=60, score=0.589980 -   0.4s\n",
      "[CV] min_samples_leaf=4, min_samples_split=7, n_estimators=60 ........\n",
      "[CV]  min_samples_leaf=4, min_samples_split=7, n_estimators=60, score=0.583845 -   0.4s\n",
      "[CV] min_samples_leaf=4, min_samples_split=7, n_estimators=80 ........\n",
      "[CV]  min_samples_leaf=4, min_samples_split=7, n_estimators=80, score=0.546939 -   0.6s\n",
      "[CV] min_samples_leaf=4, min_samples_split=7, n_estimators=80 ........\n",
      "[CV]  min_samples_leaf=4, min_samples_split=7, n_estimators=80, score=0.570552 -   0.6s\n",
      "[CV] min_samples_leaf=4, min_samples_split=7, n_estimators=80 ........\n",
      "[CV]  min_samples_leaf=4, min_samples_split=7, n_estimators=80, score=0.578732 -   0.6s\n",
      "[CV] min_samples_leaf=4, min_samples_split=9, n_estimators=50 ........\n",
      "[CV]  min_samples_leaf=4, min_samples_split=9, n_estimators=50, score=0.564286 -   0.4s\n",
      "[CV] min_samples_leaf=4, min_samples_split=9, n_estimators=50 ........\n",
      "[CV]  min_samples_leaf=4, min_samples_split=9, n_estimators=50, score=0.568507 -   0.4s\n",
      "[CV] min_samples_leaf=4, min_samples_split=9, n_estimators=50 ........\n",
      "[CV]  min_samples_leaf=4, min_samples_split=9, n_estimators=50, score=0.571575 -   0.4s\n",
      "[CV] min_samples_leaf=4, min_samples_split=9, n_estimators=60 ........\n",
      "[CV]  min_samples_leaf=4, min_samples_split=9, n_estimators=60, score=0.545918 -   0.4s\n",
      "[CV] min_samples_leaf=4, min_samples_split=9, n_estimators=60 ........\n",
      "[CV]  min_samples_leaf=4, min_samples_split=9, n_estimators=60, score=0.610429 -   0.4s\n",
      "[CV] min_samples_leaf=4, min_samples_split=9, n_estimators=60 ........\n",
      "[CV]  min_samples_leaf=4, min_samples_split=9, n_estimators=60, score=0.565440 -   0.4s\n",
      "[CV] min_samples_leaf=4, min_samples_split=9, n_estimators=80 ........\n",
      "[CV]  min_samples_leaf=4, min_samples_split=9, n_estimators=80, score=0.558163 -   0.6s\n",
      "[CV] min_samples_leaf=4, min_samples_split=9, n_estimators=80 ........\n",
      "[CV]  min_samples_leaf=4, min_samples_split=9, n_estimators=80, score=0.582822 -   0.6s\n",
      "[CV] min_samples_leaf=4, min_samples_split=9, n_estimators=80 ........\n",
      "[CV]  min_samples_leaf=4, min_samples_split=9, n_estimators=80, score=0.568507 -   0.6s\n",
      "[CV] min_samples_leaf=7, min_samples_split=3, n_estimators=50 ........\n",
      "[CV]  min_samples_leaf=7, min_samples_split=3, n_estimators=50, score=0.563265 -   0.3s\n",
      "[CV] min_samples_leaf=7, min_samples_split=3, n_estimators=50 ........\n",
      "[CV]  min_samples_leaf=7, min_samples_split=3, n_estimators=50, score=0.575665 -   0.3s\n",
      "[CV] min_samples_leaf=7, min_samples_split=3, n_estimators=50 ........\n",
      "[CV]  min_samples_leaf=7, min_samples_split=3, n_estimators=50, score=0.566462 -   0.3s\n",
      "[CV] min_samples_leaf=7, min_samples_split=3, n_estimators=60 ........\n",
      "[CV]  min_samples_leaf=7, min_samples_split=3, n_estimators=60, score=0.579592 -   0.4s\n",
      "[CV] min_samples_leaf=7, min_samples_split=3, n_estimators=60 ........\n",
      "[CV]  min_samples_leaf=7, min_samples_split=3, n_estimators=60, score=0.578732 -   0.4s\n",
      "[CV] min_samples_leaf=7, min_samples_split=3, n_estimators=60 ........\n",
      "[CV]  min_samples_leaf=7, min_samples_split=3, n_estimators=60, score=0.567485 -   0.4s\n",
      "[CV] min_samples_leaf=7, min_samples_split=3, n_estimators=80 ........\n",
      "[CV]  min_samples_leaf=7, min_samples_split=3, n_estimators=80, score=0.570408 -   0.5s\n",
      "[CV] min_samples_leaf=7, min_samples_split=3, n_estimators=80 ........\n",
      "[CV]  min_samples_leaf=7, min_samples_split=3, n_estimators=80, score=0.588957 -   0.5s\n",
      "[CV] min_samples_leaf=7, min_samples_split=3, n_estimators=80 ........\n",
      "[CV]  min_samples_leaf=7, min_samples_split=3, n_estimators=80, score=0.588957 -   0.5s\n",
      "[CV] min_samples_leaf=7, min_samples_split=5, n_estimators=50 ........\n",
      "[CV]  min_samples_leaf=7, min_samples_split=5, n_estimators=50, score=0.556122 -   0.3s\n",
      "[CV] min_samples_leaf=7, min_samples_split=5, n_estimators=50 ........\n",
      "[CV]  min_samples_leaf=7, min_samples_split=5, n_estimators=50, score=0.577710 -   0.3s\n",
      "[CV] min_samples_leaf=7, min_samples_split=5, n_estimators=50 ........\n",
      "[CV]  min_samples_leaf=7, min_samples_split=5, n_estimators=50, score=0.570552 -   0.3s\n",
      "[CV] min_samples_leaf=7, min_samples_split=5, n_estimators=60 ........\n",
      "[CV]  min_samples_leaf=7, min_samples_split=5, n_estimators=60, score=0.562245 -   0.4s\n",
      "[CV] min_samples_leaf=7, min_samples_split=5, n_estimators=60 ........\n",
      "[CV]  min_samples_leaf=7, min_samples_split=5, n_estimators=60, score=0.578732 -   0.4s\n",
      "[CV] min_samples_leaf=7, min_samples_split=5, n_estimators=60 ........\n",
      "[CV]  min_samples_leaf=7, min_samples_split=5, n_estimators=60, score=0.594070 -   0.4s\n",
      "[CV] min_samples_leaf=7, min_samples_split=5, n_estimators=80 ........\n",
      "[CV]  min_samples_leaf=7, min_samples_split=5, n_estimators=80, score=0.563265 -   0.5s\n",
      "[CV] min_samples_leaf=7, min_samples_split=5, n_estimators=80 ........\n",
      "[CV]  min_samples_leaf=7, min_samples_split=5, n_estimators=80, score=0.591002 -   0.5s\n",
      "[CV] min_samples_leaf=7, min_samples_split=5, n_estimators=80 ........\n",
      "[CV]  min_samples_leaf=7, min_samples_split=5, n_estimators=80, score=0.578732 -   0.5s\n",
      "[CV] min_samples_leaf=7, min_samples_split=7, n_estimators=50 ........\n",
      "[CV]  min_samples_leaf=7, min_samples_split=7, n_estimators=50, score=0.561224 -   0.3s\n",
      "[CV] min_samples_leaf=7, min_samples_split=7, n_estimators=50 ........\n",
      "[CV]  min_samples_leaf=7, min_samples_split=7, n_estimators=50, score=0.576687 -   0.4s\n",
      "[CV] min_samples_leaf=7, min_samples_split=7, n_estimators=50 ........\n",
      "[CV]  min_samples_leaf=7, min_samples_split=7, n_estimators=50, score=0.581800 -   0.4s\n",
      "[CV] min_samples_leaf=7, min_samples_split=7, n_estimators=60 ........\n",
      "[CV]  min_samples_leaf=7, min_samples_split=7, n_estimators=60, score=0.567347 -   0.4s\n",
      "[CV] min_samples_leaf=7, min_samples_split=7, n_estimators=60 ........\n",
      "[CV]  min_samples_leaf=7, min_samples_split=7, n_estimators=60, score=0.577710 -   0.4s\n",
      "[CV] min_samples_leaf=7, min_samples_split=7, n_estimators=60 ........\n",
      "[CV]  min_samples_leaf=7, min_samples_split=7, n_estimators=60, score=0.582822 -   0.4s\n",
      "[CV] min_samples_leaf=7, min_samples_split=7, n_estimators=80 ........\n",
      "[CV]  min_samples_leaf=7, min_samples_split=7, n_estimators=80, score=0.568367 -   0.5s\n",
      "[CV] min_samples_leaf=7, min_samples_split=7, n_estimators=80 ........\n",
      "[CV]  min_samples_leaf=7, min_samples_split=7, n_estimators=80, score=0.580777 -   0.5s\n",
      "[CV] min_samples_leaf=7, min_samples_split=7, n_estimators=80 ........\n",
      "[CV]  min_samples_leaf=7, min_samples_split=7, n_estimators=80, score=0.576687 -   0.5s\n",
      "[CV] min_samples_leaf=7, min_samples_split=9, n_estimators=50 ........\n",
      "[CV]  min_samples_leaf=7, min_samples_split=9, n_estimators=50, score=0.572449 -   0.3s\n",
      "[CV] min_samples_leaf=7, min_samples_split=9, n_estimators=50 ........\n",
      "[CV]  min_samples_leaf=7, min_samples_split=9, n_estimators=50, score=0.588957 -   0.3s\n",
      "[CV] min_samples_leaf=7, min_samples_split=9, n_estimators=50 ........\n",
      "[CV]  min_samples_leaf=7, min_samples_split=9, n_estimators=50, score=0.574642 -   0.3s\n",
      "[CV] min_samples_leaf=7, min_samples_split=9, n_estimators=60 ........\n",
      "[CV]  min_samples_leaf=7, min_samples_split=9, n_estimators=60, score=0.564286 -   0.4s\n",
      "[CV] min_samples_leaf=7, min_samples_split=9, n_estimators=60 ........\n",
      "[CV]  min_samples_leaf=7, min_samples_split=9, n_estimators=60, score=0.567485 -   0.4s\n",
      "[CV] min_samples_leaf=7, min_samples_split=9, n_estimators=60 ........\n",
      "[CV]  min_samples_leaf=7, min_samples_split=9, n_estimators=60, score=0.572597 -   0.4s\n",
      "[CV] min_samples_leaf=7, min_samples_split=9, n_estimators=80 ........\n",
      "[CV]  min_samples_leaf=7, min_samples_split=9, n_estimators=80, score=0.570408 -   0.5s\n",
      "[CV] min_samples_leaf=7, min_samples_split=9, n_estimators=80 ........\n",
      "[CV]  min_samples_leaf=7, min_samples_split=9, n_estimators=80, score=0.588957 -   0.9s\n",
      "[CV] min_samples_leaf=7, min_samples_split=9, n_estimators=80 ........\n",
      "[CV]  min_samples_leaf=7, min_samples_split=9, n_estimators=80, score=0.578732 -   0.6s\n",
      "[CV] min_samples_leaf=10, min_samples_split=3, n_estimators=50 .......\n"
     ]
    },
    {
     "name": "stdout",
     "output_type": "stream",
     "text": [
      "[CV]  min_samples_leaf=10, min_samples_split=3, n_estimators=50, score=0.573469 -   0.4s\n",
      "[CV] min_samples_leaf=10, min_samples_split=3, n_estimators=50 .......\n",
      "[CV]  min_samples_leaf=10, min_samples_split=3, n_estimators=50, score=0.582822 -   0.5s\n",
      "[CV] min_samples_leaf=10, min_samples_split=3, n_estimators=50 .......\n",
      "[CV]  min_samples_leaf=10, min_samples_split=3, n_estimators=50, score=0.570552 -   0.6s\n",
      "[CV] min_samples_leaf=10, min_samples_split=3, n_estimators=60 .......\n",
      "[CV]  min_samples_leaf=10, min_samples_split=3, n_estimators=60, score=0.570408 -   0.4s\n",
      "[CV] min_samples_leaf=10, min_samples_split=3, n_estimators=60 .......\n",
      "[CV]  min_samples_leaf=10, min_samples_split=3, n_estimators=60, score=0.586912 -   0.4s\n",
      "[CV] min_samples_leaf=10, min_samples_split=3, n_estimators=60 .......\n",
      "[CV]  min_samples_leaf=10, min_samples_split=3, n_estimators=60, score=0.575665 -   0.4s\n",
      "[CV] min_samples_leaf=10, min_samples_split=3, n_estimators=80 .......\n",
      "[CV]  min_samples_leaf=10, min_samples_split=3, n_estimators=80, score=0.568367 -   1.1s\n",
      "[CV] min_samples_leaf=10, min_samples_split=3, n_estimators=80 .......\n",
      "[CV]  min_samples_leaf=10, min_samples_split=3, n_estimators=80, score=0.591002 -   0.7s\n",
      "[CV] min_samples_leaf=10, min_samples_split=3, n_estimators=80 .......\n",
      "[CV]  min_samples_leaf=10, min_samples_split=3, n_estimators=80, score=0.578732 -   0.8s\n",
      "[CV] min_samples_leaf=10, min_samples_split=5, n_estimators=50 .......\n",
      "[CV]  min_samples_leaf=10, min_samples_split=5, n_estimators=50, score=0.552041 -   0.4s\n",
      "[CV] min_samples_leaf=10, min_samples_split=5, n_estimators=50 .......\n",
      "[CV]  min_samples_leaf=10, min_samples_split=5, n_estimators=50, score=0.589980 -   0.4s\n",
      "[CV] min_samples_leaf=10, min_samples_split=5, n_estimators=50 .......\n",
      "[CV]  min_samples_leaf=10, min_samples_split=5, n_estimators=50, score=0.574642 -   0.5s\n",
      "[CV] min_samples_leaf=10, min_samples_split=5, n_estimators=60 .......\n",
      "[CV]  min_samples_leaf=10, min_samples_split=5, n_estimators=60, score=0.582653 -   0.4s\n",
      "[CV] min_samples_leaf=10, min_samples_split=5, n_estimators=60 .......\n",
      "[CV]  min_samples_leaf=10, min_samples_split=5, n_estimators=60, score=0.594070 -   0.6s\n",
      "[CV] min_samples_leaf=10, min_samples_split=5, n_estimators=60 .......\n",
      "[CV]  min_samples_leaf=10, min_samples_split=5, n_estimators=60, score=0.593047 -   0.5s\n",
      "[CV] min_samples_leaf=10, min_samples_split=5, n_estimators=80 .......\n",
      "[CV]  min_samples_leaf=10, min_samples_split=5, n_estimators=80, score=0.567347 -   0.6s\n",
      "[CV] min_samples_leaf=10, min_samples_split=5, n_estimators=80 .......\n",
      "[CV]  min_samples_leaf=10, min_samples_split=5, n_estimators=80, score=0.585890 -   0.6s\n",
      "[CV] min_samples_leaf=10, min_samples_split=5, n_estimators=80 .......\n",
      "[CV]  min_samples_leaf=10, min_samples_split=5, n_estimators=80, score=0.574642 -   0.8s\n",
      "[CV] min_samples_leaf=10, min_samples_split=7, n_estimators=50 .......\n",
      "[CV]  min_samples_leaf=10, min_samples_split=7, n_estimators=50, score=0.561224 -   0.4s\n",
      "[CV] min_samples_leaf=10, min_samples_split=7, n_estimators=50 .......\n",
      "[CV]  min_samples_leaf=10, min_samples_split=7, n_estimators=50, score=0.582822 -   0.5s\n",
      "[CV] min_samples_leaf=10, min_samples_split=7, n_estimators=50 .......\n",
      "[CV]  min_samples_leaf=10, min_samples_split=7, n_estimators=50, score=0.575665 -   0.4s\n",
      "[CV] min_samples_leaf=10, min_samples_split=7, n_estimators=60 .......\n",
      "[CV]  min_samples_leaf=10, min_samples_split=7, n_estimators=60, score=0.566327 -   0.6s\n",
      "[CV] min_samples_leaf=10, min_samples_split=7, n_estimators=60 .......\n",
      "[CV]  min_samples_leaf=10, min_samples_split=7, n_estimators=60, score=0.594070 -   0.7s\n",
      "[CV] min_samples_leaf=10, min_samples_split=7, n_estimators=60 .......\n",
      "[CV]  min_samples_leaf=10, min_samples_split=7, n_estimators=60, score=0.562372 -   0.8s\n",
      "[CV] min_samples_leaf=10, min_samples_split=7, n_estimators=80 .......\n",
      "[CV]  min_samples_leaf=10, min_samples_split=7, n_estimators=80, score=0.579592 -   0.9s\n",
      "[CV] min_samples_leaf=10, min_samples_split=7, n_estimators=80 .......\n",
      "[CV]  min_samples_leaf=10, min_samples_split=7, n_estimators=80, score=0.589980 -   1.2s\n",
      "[CV] min_samples_leaf=10, min_samples_split=7, n_estimators=80 .......\n",
      "[CV]  min_samples_leaf=10, min_samples_split=7, n_estimators=80, score=0.585890 -   0.8s\n",
      "[CV] min_samples_leaf=10, min_samples_split=9, n_estimators=50 .......\n",
      "[CV]  min_samples_leaf=10, min_samples_split=9, n_estimators=50, score=0.564286 -   0.5s\n",
      "[CV] min_samples_leaf=10, min_samples_split=9, n_estimators=50 .......\n",
      "[CV]  min_samples_leaf=10, min_samples_split=9, n_estimators=50, score=0.578732 -   0.5s\n",
      "[CV] min_samples_leaf=10, min_samples_split=9, n_estimators=50 .......\n",
      "[CV]  min_samples_leaf=10, min_samples_split=9, n_estimators=50, score=0.578732 -   0.3s\n",
      "[CV] min_samples_leaf=10, min_samples_split=9, n_estimators=60 .......\n",
      "[CV]  min_samples_leaf=10, min_samples_split=9, n_estimators=60, score=0.570408 -   0.4s\n",
      "[CV] min_samples_leaf=10, min_samples_split=9, n_estimators=60 .......\n",
      "[CV]  min_samples_leaf=10, min_samples_split=9, n_estimators=60, score=0.602249 -   0.5s\n",
      "[CV] min_samples_leaf=10, min_samples_split=9, n_estimators=60 .......\n",
      "[CV]  min_samples_leaf=10, min_samples_split=9, n_estimators=60, score=0.572597 -   0.6s\n",
      "[CV] min_samples_leaf=10, min_samples_split=9, n_estimators=80 .......\n",
      "[CV]  min_samples_leaf=10, min_samples_split=9, n_estimators=80, score=0.566327 -   0.8s\n",
      "[CV] min_samples_leaf=10, min_samples_split=9, n_estimators=80 .......\n",
      "[CV]  min_samples_leaf=10, min_samples_split=9, n_estimators=80, score=0.587935 -   0.7s\n",
      "[CV] min_samples_leaf=10, min_samples_split=9, n_estimators=80 .......\n",
      "[CV]  min_samples_leaf=10, min_samples_split=9, n_estimators=80, score=0.573620 -   0.9s\n"
     ]
    },
    {
     "name": "stderr",
     "output_type": "stream",
     "text": [
      "[Parallel(n_jobs=1)]: Done 144 out of 144 | elapsed:  1.3min finished\n"
     ]
    },
    {
     "name": "stdout",
     "output_type": "stream",
     "text": [
      "0.539877300613\n"
     ]
    }
   ],
   "source": [
    "clf_ei_hcf = GridSearchCV(RandomForestClassifier(), grid, verbose=5)\n",
    "clf_ei_hcf.fit(*create_vectors_labels(hcf_ei[0], hcf_ei[2]))\n",
    "print(clf_ei_hcf.score(*create_vectors_labels(hcf_ei[1], hcf_ei[3])))\n",
    "params = clf_ei_hcf.best_estimator_.get_params()"
   ]
  },
  {
   "cell_type": "code",
   "execution_count": 83,
   "metadata": {},
   "outputs": [
    {
     "name": "stdout",
     "output_type": "stream",
     "text": [
      "0.512152777778\n",
      "0.617798353909\n",
      "0.52853745541\n"
     ]
    }
   ],
   "source": [
    "clf_ns_hcf = RandomForestClassifier(**params)\n",
    "clf_ns_hcf.fit(*create_vectors_labels(hcf_ns[0], hcf_ns[2]))\n",
    "print(clf_ns_hcf.score(*create_vectors_labels(hcf_ns[1], hcf_ns[3])))\n",
    "      \n",
    "clf_tf_hcf = RandomForestClassifier(**params)\n",
    "clf_tf_hcf.fit(*create_vectors_labels(hcf_tf[0], hcf_tf[2]))\n",
    "print(clf_tf_hcf.score(*create_vectors_labels(hcf_tf[1], hcf_tf[3])))\n",
    "      \n",
    "clf_jp_hcf = RandomForestClassifier(**params)\n",
    "clf_jp_hcf.fit(*create_vectors_labels(hcf_jp[0], hcf_jp[2]))\n",
    "print(clf_jp_hcf.score(*create_vectors_labels(hcf_jp[1], hcf_jp[3])))"
   ]
  },
  {
   "cell_type": "markdown",
   "metadata": {},
   "source": [
    "We now have four more classifiers that have been trained on hand-crafted features."
   ]
  },
  {
   "cell_type": "code",
   "execution_count": 84,
   "metadata": {
    "collapsed": true
   },
   "outputs": [],
   "source": [
    "def create_importances_plot(estimator, name):\n",
    "    importances = estimator.feature_importances_\n",
    "    indices = np.argsort(importances)[::-1]\n",
    "\n",
    "    std = np.std([tree.feature_importances_ for tree in estimator.estimators_], axis=0)    \n",
    "\n",
    "    plt.figure()\n",
    "    plt.title(name)\n",
    "    plt.bar(range(10), importances[indices], color=\"r\", yerr=std[indices], align=\"center\")\n",
    "    plt.xticks(range(10), [get_hcf_name(i) for i in indices])    \n",
    "    plt.show()"
   ]
  },
  {
   "cell_type": "code",
   "execution_count": 85,
   "metadata": {},
   "outputs": [
    {
     "data": {
      "image/png": "[encoded data removed]",
      "text/plain": [
       "<matplotlib.figure.Figure at 0x182ccb080>"
      ]
     },
     "metadata": {},
     "output_type": "display_data"
    },
    {
     "name": "stdout",
     "output_type": "stream",
     "text": [
      "0.241154271422\n",
      "0.156923794178\n",
      "0.327826230718\n",
      "0.197440990305\n"
     ]
    }
   ],
   "source": [
    "create_importances_plot(clf_ei_hcf.best_estimator_, \"Feature importances E/I\")\n",
    "print(np.mean([e[6] for e in hcf_ei[0]]))\n",
    "print(np.mean([i[6]  for i  in hcf_ei[2]]))\n",
    "print(np.std([e[6] for e in hcf_ei[0]]))\n",
    "print(np.std([i[6]  for i  in hcf_ei[2]]))"
   ]
  },
  {
   "cell_type": "code",
   "execution_count": 86,
   "metadata": {},
   "outputs": [
    {
     "data": {
      "image/png": "[encoded data removed]",
      "text/plain": [
       "<matplotlib.figure.Figure at 0x17ebf01d0>"
      ]
     },
     "metadata": {},
     "output_type": "display_data"
    },
    {
     "name": "stdout",
     "output_type": "stream",
     "text": [
      "27.2137401095\n",
      "26.3773220957\n",
      "5.54256672774\n",
      "6.01319188181\n"
     ]
    }
   ],
   "source": [
    "create_importances_plot(clf_ns_hcf, \"Feature importances N/S\")\n",
    "print(np.mean([intu[9]  for intu  in hcf_ns[0]]))\n",
    "print(np.mean([sens[9]  for sens  in hcf_ns[2]]))\n",
    "print(np.std([intu[9]  for intu  in hcf_ns[0]]))\n",
    "print(np.std([sens[9]  for sens  in hcf_ns[2]]))"
   ]
  },
  {
   "cell_type": "code",
   "execution_count": 87,
   "metadata": {},
   "outputs": [
    {
     "data": {
      "image/png": "[encoded data removed]",
      "text/plain": [
       "<matplotlib.figure.Figure at 0x17ea74080>"
      ]
     },
     "metadata": {},
     "output_type": "display_data"
    },
    {
     "name": "stdout",
     "output_type": "stream",
     "text": [
      "0.120777299428\n",
      "0.218942606563\n",
      "0.169163427516\n",
      "0.27100899131\n"
     ]
    }
   ],
   "source": [
    "create_importances_plot(clf_tf_hcf, \"Feature importances T/F\")\n",
    "print(np.mean([thinking[6] for thinking in hcf_tf[0]]))\n",
    "print(np.mean([feeling[6]  for feeling  in hcf_tf[2]]))\n",
    "print(np.std([thinking[6] for thinking in hcf_tf[0]]))\n",
    "print(np.std([feeling[6]  for feeling  in hcf_tf[2]]))"
   ]
  },
  {
   "cell_type": "code",
   "execution_count": 88,
   "metadata": {},
   "outputs": [
    {
     "data": {
      "image/png": "[encoded data removed]",
      "text/plain": [
       "<matplotlib.figure.Figure at 0x1080f1518>"
      ]
     },
     "metadata": {},
     "output_type": "display_data"
    }
   ],
   "source": [
    "create_importances_plot(clf_jp_hcf, \"Feature importances J/P\")"
   ]
  },
  {
   "cell_type": "markdown",
   "metadata": {},
   "source": [
    "## Using all features for classification"
   ]
  },
  {
   "cell_type": "code",
   "execution_count": 89,
   "metadata": {
    "collapsed": true
   },
   "outputs": [],
   "source": [
    "def combine_vectors(v1, v2, v3):\n",
    "    p0 = [list(a) + list(b) + list(c) for a, b, c in zip(v1[0], v2[0], v3[0])]\n",
    "    p1 = [list(a) + list(b) + list(c) for a, b, c in zip(v1[1], v2[1], v3[1])]\n",
    "    p2 = [list(a) + list(b) + list(c) for a, b, c in zip(v1[2], v2[2], v3[2])]\n",
    "    p3 = [list(a) + list(b) + list(c) for a, b, c in zip(v1[3], v2[3], v3[3])]\n",
    "\n",
    "    return p0, p1, p2, p3\n",
    "\n",
    "\n",
    "v_ei = combine_vectors(w2v_ei, bow_ei, hcf_ei)\n",
    "v_tf = combine_vectors(w2v_tf, bow_tf, hcf_tf)\n",
    "v_ns = combine_vectors(w2v_ns, bow_ns, hcf_ns)\n",
    "v_jp = combine_vectors(w2v_jp, bow_jp, hcf_jp)"
   ]
  },
  {
   "cell_type": "code",
   "execution_count": 90,
   "metadata": {},
   "outputs": [
    {
     "name": "stdout",
     "output_type": "stream",
     "text": [
      "Fitting 3 folds for each of 48 candidates, totalling 144 fits\n",
      "[CV] min_samples_leaf=2, min_samples_split=3, n_estimators=50 ........\n",
      "[CV]  min_samples_leaf=2, min_samples_split=3, n_estimators=50, score=0.639796 -   2.7s\n",
      "[CV] min_samples_leaf=2, min_samples_split=3, n_estimators=50 ........"
     ]
    },
    {
     "name": "stderr",
     "output_type": "stream",
     "text": [
      "[Parallel(n_jobs=1)]: Done   1 out of   1 | elapsed:    2.7s remaining:    0.0s\n"
     ]
    },
    {
     "name": "stdout",
     "output_type": "stream",
     "text": [
      "\n",
      "[CV]  min_samples_leaf=2, min_samples_split=3, n_estimators=50, score=0.627812 -   2.8s\n",
      "[CV] min_samples_leaf=2, min_samples_split=3, n_estimators=50 ........\n"
     ]
    },
    {
     "name": "stderr",
     "output_type": "stream",
     "text": [
      "[Parallel(n_jobs=1)]: Done   2 out of   2 | elapsed:    5.5s remaining:    0.0s\n"
     ]
    },
    {
     "name": "stdout",
     "output_type": "stream",
     "text": [
      "[CV]  min_samples_leaf=2, min_samples_split=3, n_estimators=50, score=0.637014 -   3.5s\n",
      "[CV] min_samples_leaf=2, min_samples_split=3, n_estimators=60 ........\n"
     ]
    },
    {
     "name": "stderr",
     "output_type": "stream",
     "text": [
      "[Parallel(n_jobs=1)]: Done   3 out of   3 | elapsed:    9.0s remaining:    0.0s\n"
     ]
    },
    {
     "name": "stdout",
     "output_type": "stream",
     "text": [
      "[CV]  min_samples_leaf=2, min_samples_split=3, n_estimators=60, score=0.622449 -   3.5s\n",
      "[CV] min_samples_leaf=2, min_samples_split=3, n_estimators=60 ........\n"
     ]
    },
    {
     "name": "stderr",
     "output_type": "stream",
     "text": [
      "[Parallel(n_jobs=1)]: Done   4 out of   4 | elapsed:   12.5s remaining:    0.0s\n"
     ]
    },
    {
     "name": "stdout",
     "output_type": "stream",
     "text": [
      "[CV]  min_samples_leaf=2, min_samples_split=3, n_estimators=60, score=0.645194 -   3.3s\n",
      "[CV] min_samples_leaf=2, min_samples_split=3, n_estimators=60 ........\n",
      "[CV]  min_samples_leaf=2, min_samples_split=3, n_estimators=60, score=0.646217 -   3.3s\n",
      "[CV] min_samples_leaf=2, min_samples_split=3, n_estimators=80 ........\n",
      "[CV]  min_samples_leaf=2, min_samples_split=3, n_estimators=80, score=0.621429 -   4.4s\n",
      "[CV] min_samples_leaf=2, min_samples_split=3, n_estimators=80 ........\n",
      "[CV]  min_samples_leaf=2, min_samples_split=3, n_estimators=80, score=0.618609 -   4.2s\n",
      "[CV] min_samples_leaf=2, min_samples_split=3, n_estimators=80 ........\n",
      "[CV]  min_samples_leaf=2, min_samples_split=3, n_estimators=80, score=0.665644 -   4.0s\n",
      "[CV] min_samples_leaf=2, min_samples_split=5, n_estimators=50 ........\n",
      "[CV]  min_samples_leaf=2, min_samples_split=5, n_estimators=50, score=0.621429 -   2.4s\n",
      "[CV] min_samples_leaf=2, min_samples_split=5, n_estimators=50 ........\n",
      "[CV]  min_samples_leaf=2, min_samples_split=5, n_estimators=50, score=0.627812 -   2.9s\n",
      "[CV] min_samples_leaf=2, min_samples_split=5, n_estimators=50 ........\n",
      "[CV]  min_samples_leaf=2, min_samples_split=5, n_estimators=50, score=0.655419 -   3.2s\n",
      "[CV] min_samples_leaf=2, min_samples_split=5, n_estimators=60 ........\n",
      "[CV]  min_samples_leaf=2, min_samples_split=5, n_estimators=60, score=0.641837 -   3.5s\n",
      "[CV] min_samples_leaf=2, min_samples_split=5, n_estimators=60 ........\n",
      "[CV]  min_samples_leaf=2, min_samples_split=5, n_estimators=60, score=0.631902 -   3.5s\n",
      "[CV] min_samples_leaf=2, min_samples_split=5, n_estimators=60 ........\n",
      "[CV]  min_samples_leaf=2, min_samples_split=5, n_estimators=60, score=0.642127 -   3.1s\n",
      "[CV] min_samples_leaf=2, min_samples_split=5, n_estimators=80 ........\n",
      "[CV]  min_samples_leaf=2, min_samples_split=5, n_estimators=80, score=0.637755 -   4.1s\n",
      "[CV] min_samples_leaf=2, min_samples_split=5, n_estimators=80 ........\n",
      "[CV]  min_samples_leaf=2, min_samples_split=5, n_estimators=80, score=0.651329 -   4.1s\n",
      "[CV] min_samples_leaf=2, min_samples_split=5, n_estimators=80 ........\n",
      "[CV]  min_samples_leaf=2, min_samples_split=5, n_estimators=80, score=0.639059 -   3.7s\n",
      "[CV] min_samples_leaf=2, min_samples_split=7, n_estimators=50 ........\n",
      "[CV]  min_samples_leaf=2, min_samples_split=7, n_estimators=50, score=0.616327 -   2.3s\n",
      "[CV] min_samples_leaf=2, min_samples_split=7, n_estimators=50 ........\n",
      "[CV]  min_samples_leaf=2, min_samples_split=7, n_estimators=50, score=0.618609 -   2.3s\n",
      "[CV] min_samples_leaf=2, min_samples_split=7, n_estimators=50 ........\n",
      "[CV]  min_samples_leaf=2, min_samples_split=7, n_estimators=50, score=0.653374 -   2.3s\n",
      "[CV] min_samples_leaf=2, min_samples_split=7, n_estimators=60 ........\n",
      "[CV]  min_samples_leaf=2, min_samples_split=7, n_estimators=60, score=0.637755 -   2.6s\n",
      "[CV] min_samples_leaf=2, min_samples_split=7, n_estimators=60 ........\n",
      "[CV]  min_samples_leaf=2, min_samples_split=7, n_estimators=60, score=0.624744 -   2.6s\n",
      "[CV] min_samples_leaf=2, min_samples_split=7, n_estimators=60 ........\n",
      "[CV]  min_samples_leaf=2, min_samples_split=7, n_estimators=60, score=0.673824 -   2.6s\n",
      "[CV] min_samples_leaf=2, min_samples_split=7, n_estimators=80 ........\n",
      "[CV]  min_samples_leaf=2, min_samples_split=7, n_estimators=80, score=0.642857 -   3.3s\n",
      "[CV] min_samples_leaf=2, min_samples_split=7, n_estimators=80 ........\n",
      "[CV]  min_samples_leaf=2, min_samples_split=7, n_estimators=80, score=0.623722 -   3.3s\n",
      "[CV] min_samples_leaf=2, min_samples_split=7, n_estimators=80 ........\n",
      "[CV]  min_samples_leaf=2, min_samples_split=7, n_estimators=80, score=0.653374 -   3.2s\n",
      "[CV] min_samples_leaf=2, min_samples_split=9, n_estimators=50 ........\n",
      "[CV]  min_samples_leaf=2, min_samples_split=9, n_estimators=50, score=0.639796 -   2.3s\n",
      "[CV] min_samples_leaf=2, min_samples_split=9, n_estimators=50 ........\n",
      "[CV]  min_samples_leaf=2, min_samples_split=9, n_estimators=50, score=0.622699 -   2.3s\n",
      "[CV] min_samples_leaf=2, min_samples_split=9, n_estimators=50 ........\n",
      "[CV]  min_samples_leaf=2, min_samples_split=9, n_estimators=50, score=0.650307 -   2.3s\n",
      "[CV] min_samples_leaf=2, min_samples_split=9, n_estimators=60 ........\n",
      "[CV]  min_samples_leaf=2, min_samples_split=9, n_estimators=60, score=0.650000 -   2.6s\n",
      "[CV] min_samples_leaf=2, min_samples_split=9, n_estimators=60 ........\n",
      "[CV]  min_samples_leaf=2, min_samples_split=9, n_estimators=60, score=0.639059 -   3.1s\n",
      "[CV] min_samples_leaf=2, min_samples_split=9, n_estimators=60 ........\n",
      "[CV]  min_samples_leaf=2, min_samples_split=9, n_estimators=60, score=0.652352 -   3.5s\n",
      "[CV] min_samples_leaf=2, min_samples_split=9, n_estimators=80 ........\n",
      "[CV]  min_samples_leaf=2, min_samples_split=9, n_estimators=80, score=0.638776 -   4.2s\n",
      "[CV] min_samples_leaf=2, min_samples_split=9, n_estimators=80 ........\n",
      "[CV]  min_samples_leaf=2, min_samples_split=9, n_estimators=80, score=0.632924 -   3.6s\n",
      "[CV] min_samples_leaf=2, min_samples_split=9, n_estimators=80 ........\n",
      "[CV]  min_samples_leaf=2, min_samples_split=9, n_estimators=80, score=0.663599 -   4.2s\n",
      "[CV] min_samples_leaf=4, min_samples_split=3, n_estimators=50 ........\n",
      "[CV]  min_samples_leaf=4, min_samples_split=3, n_estimators=50, score=0.639796 -   3.1s\n",
      "[CV] min_samples_leaf=4, min_samples_split=3, n_estimators=50 ........\n",
      "[CV]  min_samples_leaf=4, min_samples_split=3, n_estimators=50, score=0.618609 -   2.8s\n",
      "[CV] min_samples_leaf=4, min_samples_split=3, n_estimators=50 ........\n",
      "[CV]  min_samples_leaf=4, min_samples_split=3, n_estimators=50, score=0.638037 -   2.7s\n",
      "[CV] min_samples_leaf=4, min_samples_split=3, n_estimators=60 ........\n",
      "[CV]  min_samples_leaf=4, min_samples_split=3, n_estimators=60, score=0.628571 -   3.0s\n",
      "[CV] min_samples_leaf=4, min_samples_split=3, n_estimators=60 ........\n",
      "[CV]  min_samples_leaf=4, min_samples_split=3, n_estimators=60, score=0.622699 -   3.2s\n",
      "[CV] min_samples_leaf=4, min_samples_split=3, n_estimators=60 ........\n",
      "[CV]  min_samples_leaf=4, min_samples_split=3, n_estimators=60, score=0.662577 -   3.0s\n",
      "[CV] min_samples_leaf=4, min_samples_split=3, n_estimators=80 ........\n",
      "[CV]  min_samples_leaf=4, min_samples_split=3, n_estimators=80, score=0.631633 -   2.9s\n",
      "[CV] min_samples_leaf=4, min_samples_split=3, n_estimators=80 ........\n",
      "[CV]  min_samples_leaf=4, min_samples_split=3, n_estimators=80, score=0.640082 -   3.8s\n",
      "[CV] min_samples_leaf=4, min_samples_split=3, n_estimators=80 ........\n",
      "[CV]  min_samples_leaf=4, min_samples_split=3, n_estimators=80, score=0.669734 -   4.3s\n",
      "[CV] min_samples_leaf=4, min_samples_split=5, n_estimators=50 ........\n",
      "[CV]  min_samples_leaf=4, min_samples_split=5, n_estimators=50, score=0.632653 -   2.7s\n",
      "[CV] min_samples_leaf=4, min_samples_split=5, n_estimators=50 ........\n",
      "[CV]  min_samples_leaf=4, min_samples_split=5, n_estimators=50, score=0.628834 -   3.2s\n",
      "[CV] min_samples_leaf=4, min_samples_split=5, n_estimators=50 ........\n",
      "[CV]  min_samples_leaf=4, min_samples_split=5, n_estimators=50, score=0.630879 -   3.1s\n",
      "[CV] min_samples_leaf=4, min_samples_split=5, n_estimators=60 ........\n",
      "[CV]  min_samples_leaf=4, min_samples_split=5, n_estimators=60, score=0.621429 -   4.1s\n",
      "[CV] min_samples_leaf=4, min_samples_split=5, n_estimators=60 ........\n",
      "[CV]  min_samples_leaf=4, min_samples_split=5, n_estimators=60, score=0.627812 -   3.8s\n",
      "[CV] min_samples_leaf=4, min_samples_split=5, n_estimators=60 ........\n",
      "[CV]  min_samples_leaf=4, min_samples_split=5, n_estimators=60, score=0.646217 -   3.7s\n",
      "[CV] min_samples_leaf=4, min_samples_split=5, n_estimators=80 ........\n",
      "[CV]  min_samples_leaf=4, min_samples_split=5, n_estimators=80, score=0.635714 -   4.6s\n",
      "[CV] min_samples_leaf=4, min_samples_split=5, n_estimators=80 ........\n",
      "[CV]  min_samples_leaf=4, min_samples_split=5, n_estimators=80, score=0.638037 -   4.4s\n",
      "[CV] min_samples_leaf=4, min_samples_split=5, n_estimators=80 ........\n",
      "[CV]  min_samples_leaf=4, min_samples_split=5, n_estimators=80, score=0.642127 -   3.6s\n",
      "[CV] min_samples_leaf=4, min_samples_split=7, n_estimators=50 ........\n",
      "[CV]  min_samples_leaf=4, min_samples_split=7, n_estimators=50, score=0.627551 -   2.5s\n",
      "[CV] min_samples_leaf=4, min_samples_split=7, n_estimators=50 ........\n",
      "[CV]  min_samples_leaf=4, min_samples_split=7, n_estimators=50, score=0.637014 -   2.7s\n",
      "[CV] min_samples_leaf=4, min_samples_split=7, n_estimators=50 ........\n"
     ]
    },
    {
     "name": "stdout",
     "output_type": "stream",
     "text": [
      "[CV]  min_samples_leaf=4, min_samples_split=7, n_estimators=50, score=0.651329 -   3.1s\n",
      "[CV] min_samples_leaf=4, min_samples_split=7, n_estimators=60 ........\n",
      "[CV]  min_samples_leaf=4, min_samples_split=7, n_estimators=60, score=0.629592 -   2.7s\n",
      "[CV] min_samples_leaf=4, min_samples_split=7, n_estimators=60 ........\n",
      "[CV]  min_samples_leaf=4, min_samples_split=7, n_estimators=60, score=0.645194 -   3.2s\n",
      "[CV] min_samples_leaf=4, min_samples_split=7, n_estimators=60 ........\n",
      "[CV]  min_samples_leaf=4, min_samples_split=7, n_estimators=60, score=0.652352 -   3.5s\n",
      "[CV] min_samples_leaf=4, min_samples_split=7, n_estimators=80 ........\n",
      "[CV]  min_samples_leaf=4, min_samples_split=7, n_estimators=80, score=0.631633 -   4.2s\n",
      "[CV] min_samples_leaf=4, min_samples_split=7, n_estimators=80 ........\n",
      "[CV]  min_samples_leaf=4, min_samples_split=7, n_estimators=80, score=0.635992 -   4.8s\n",
      "[CV] min_samples_leaf=4, min_samples_split=7, n_estimators=80 ........\n",
      "[CV]  min_samples_leaf=4, min_samples_split=7, n_estimators=80, score=0.634969 -   4.6s\n",
      "[CV] min_samples_leaf=4, min_samples_split=9, n_estimators=50 ........\n",
      "[CV]  min_samples_leaf=4, min_samples_split=9, n_estimators=50, score=0.609184 -   2.9s\n",
      "[CV] min_samples_leaf=4, min_samples_split=9, n_estimators=50 ........\n",
      "[CV]  min_samples_leaf=4, min_samples_split=9, n_estimators=50, score=0.622699 -   3.2s\n",
      "[CV] min_samples_leaf=4, min_samples_split=9, n_estimators=50 ........\n",
      "[CV]  min_samples_leaf=4, min_samples_split=9, n_estimators=50, score=0.650307 -   2.8s\n",
      "[CV] min_samples_leaf=4, min_samples_split=9, n_estimators=60 ........\n",
      "[CV]  min_samples_leaf=4, min_samples_split=9, n_estimators=60, score=0.629592 -   2.9s\n",
      "[CV] min_samples_leaf=4, min_samples_split=9, n_estimators=60 ........\n",
      "[CV]  min_samples_leaf=4, min_samples_split=9, n_estimators=60, score=0.649284 -   3.0s\n",
      "[CV] min_samples_leaf=4, min_samples_split=9, n_estimators=60 ........\n",
      "[CV]  min_samples_leaf=4, min_samples_split=9, n_estimators=60, score=0.663599 -   2.5s\n",
      "[CV] min_samples_leaf=4, min_samples_split=9, n_estimators=80 ........\n",
      "[CV]  min_samples_leaf=4, min_samples_split=9, n_estimators=80, score=0.641837 -   2.9s\n",
      "[CV] min_samples_leaf=4, min_samples_split=9, n_estimators=80 ........\n",
      "[CV]  min_samples_leaf=4, min_samples_split=9, n_estimators=80, score=0.620654 -   3.0s\n",
      "[CV] min_samples_leaf=4, min_samples_split=9, n_estimators=80 ........\n",
      "[CV]  min_samples_leaf=4, min_samples_split=9, n_estimators=80, score=0.671779 -   3.4s\n",
      "[CV] min_samples_leaf=7, min_samples_split=3, n_estimators=50 ........\n",
      "[CV]  min_samples_leaf=7, min_samples_split=3, n_estimators=50, score=0.621429 -   2.3s\n",
      "[CV] min_samples_leaf=7, min_samples_split=3, n_estimators=50 ........\n",
      "[CV]  min_samples_leaf=7, min_samples_split=3, n_estimators=50, score=0.632924 -   2.3s\n",
      "[CV] min_samples_leaf=7, min_samples_split=3, n_estimators=50 ........\n",
      "[CV]  min_samples_leaf=7, min_samples_split=3, n_estimators=50, score=0.665644 -   2.1s\n",
      "[CV] min_samples_leaf=7, min_samples_split=3, n_estimators=60 ........\n",
      "[CV]  min_samples_leaf=7, min_samples_split=3, n_estimators=60, score=0.641837 -   2.4s\n",
      "[CV] min_samples_leaf=7, min_samples_split=3, n_estimators=60 ........\n",
      "[CV]  min_samples_leaf=7, min_samples_split=3, n_estimators=60, score=0.643149 -   2.4s\n",
      "[CV] min_samples_leaf=7, min_samples_split=3, n_estimators=60 ........\n",
      "[CV]  min_samples_leaf=7, min_samples_split=3, n_estimators=60, score=0.651329 -   2.4s\n",
      "[CV] min_samples_leaf=7, min_samples_split=3, n_estimators=80 ........\n",
      "[CV]  min_samples_leaf=7, min_samples_split=3, n_estimators=80, score=0.640816 -   2.8s\n",
      "[CV] min_samples_leaf=7, min_samples_split=3, n_estimators=80 ........\n",
      "[CV]  min_samples_leaf=7, min_samples_split=3, n_estimators=80, score=0.642127 -   2.8s\n",
      "[CV] min_samples_leaf=7, min_samples_split=3, n_estimators=80 ........\n",
      "[CV]  min_samples_leaf=7, min_samples_split=3, n_estimators=80, score=0.669734 -   2.9s\n",
      "[CV] min_samples_leaf=7, min_samples_split=5, n_estimators=50 ........\n",
      "[CV]  min_samples_leaf=7, min_samples_split=5, n_estimators=50, score=0.640816 -   2.1s\n",
      "[CV] min_samples_leaf=7, min_samples_split=5, n_estimators=50 ........\n",
      "[CV]  min_samples_leaf=7, min_samples_split=5, n_estimators=50, score=0.626789 -   2.1s\n",
      "[CV] min_samples_leaf=7, min_samples_split=5, n_estimators=50 ........\n",
      "[CV]  min_samples_leaf=7, min_samples_split=5, n_estimators=50, score=0.642127 -   2.2s\n",
      "[CV] min_samples_leaf=7, min_samples_split=5, n_estimators=60 ........\n",
      "[CV]  min_samples_leaf=7, min_samples_split=5, n_estimators=60, score=0.638776 -   2.4s\n",
      "[CV] min_samples_leaf=7, min_samples_split=5, n_estimators=60 ........\n",
      "[CV]  min_samples_leaf=7, min_samples_split=5, n_estimators=60, score=0.638037 -   2.3s\n",
      "[CV] min_samples_leaf=7, min_samples_split=5, n_estimators=60 ........\n",
      "[CV]  min_samples_leaf=7, min_samples_split=5, n_estimators=60, score=0.640082 -   2.4s\n",
      "[CV] min_samples_leaf=7, min_samples_split=5, n_estimators=80 ........\n",
      "[CV]  min_samples_leaf=7, min_samples_split=5, n_estimators=80, score=0.650000 -   2.8s\n",
      "[CV] min_samples_leaf=7, min_samples_split=5, n_estimators=80 ........\n",
      "[CV]  min_samples_leaf=7, min_samples_split=5, n_estimators=80, score=0.648262 -   2.8s\n",
      "[CV] min_samples_leaf=7, min_samples_split=5, n_estimators=80 ........\n",
      "[CV]  min_samples_leaf=7, min_samples_split=5, n_estimators=80, score=0.684049 -   2.8s\n",
      "[CV] min_samples_leaf=7, min_samples_split=7, n_estimators=50 ........\n",
      "[CV]  min_samples_leaf=7, min_samples_split=7, n_estimators=50, score=0.627551 -   2.1s\n",
      "[CV] min_samples_leaf=7, min_samples_split=7, n_estimators=50 ........\n",
      "[CV]  min_samples_leaf=7, min_samples_split=7, n_estimators=50, score=0.616564 -   2.2s\n",
      "[CV] min_samples_leaf=7, min_samples_split=7, n_estimators=50 ........\n",
      "[CV]  min_samples_leaf=7, min_samples_split=7, n_estimators=50, score=0.658487 -   2.1s\n",
      "[CV] min_samples_leaf=7, min_samples_split=7, n_estimators=60 ........\n",
      "[CV]  min_samples_leaf=7, min_samples_split=7, n_estimators=60, score=0.634694 -   2.3s\n",
      "[CV] min_samples_leaf=7, min_samples_split=7, n_estimators=60 ........\n",
      "[CV]  min_samples_leaf=7, min_samples_split=7, n_estimators=60, score=0.643149 -   2.4s\n",
      "[CV] min_samples_leaf=7, min_samples_split=7, n_estimators=60 ........\n",
      "[CV]  min_samples_leaf=7, min_samples_split=7, n_estimators=60, score=0.661554 -   2.4s\n",
      "[CV] min_samples_leaf=7, min_samples_split=7, n_estimators=80 ........\n",
      "[CV]  min_samples_leaf=7, min_samples_split=7, n_estimators=80, score=0.641837 -   2.9s\n",
      "[CV] min_samples_leaf=7, min_samples_split=7, n_estimators=80 ........\n",
      "[CV]  min_samples_leaf=7, min_samples_split=7, n_estimators=80, score=0.633947 -   2.9s\n",
      "[CV] min_samples_leaf=7, min_samples_split=7, n_estimators=80 ........\n",
      "[CV]  min_samples_leaf=7, min_samples_split=7, n_estimators=80, score=0.659509 -   2.9s\n",
      "[CV] min_samples_leaf=7, min_samples_split=9, n_estimators=50 ........\n",
      "[CV]  min_samples_leaf=7, min_samples_split=9, n_estimators=50, score=0.640816 -   2.0s\n",
      "[CV] min_samples_leaf=7, min_samples_split=9, n_estimators=50 ........\n",
      "[CV]  min_samples_leaf=7, min_samples_split=9, n_estimators=50, score=0.640082 -   2.1s\n",
      "[CV] min_samples_leaf=7, min_samples_split=9, n_estimators=50 ........\n",
      "[CV]  min_samples_leaf=7, min_samples_split=9, n_estimators=50, score=0.662577 -   2.2s\n",
      "[CV] min_samples_leaf=7, min_samples_split=9, n_estimators=60 ........\n",
      "[CV]  min_samples_leaf=7, min_samples_split=9, n_estimators=60, score=0.630612 -   2.5s\n",
      "[CV] min_samples_leaf=7, min_samples_split=9, n_estimators=60 ........\n",
      "[CV]  min_samples_leaf=7, min_samples_split=9, n_estimators=60, score=0.632924 -   2.4s\n",
      "[CV] min_samples_leaf=7, min_samples_split=9, n_estimators=60 ........\n",
      "[CV]  min_samples_leaf=7, min_samples_split=9, n_estimators=60, score=0.648262 -   2.4s\n",
      "[CV] min_samples_leaf=7, min_samples_split=9, n_estimators=80 ........\n",
      "[CV]  min_samples_leaf=7, min_samples_split=9, n_estimators=80, score=0.639796 -   2.8s\n",
      "[CV] min_samples_leaf=7, min_samples_split=9, n_estimators=80 ........\n",
      "[CV]  min_samples_leaf=7, min_samples_split=9, n_estimators=80, score=0.647239 -   2.8s\n",
      "[CV] min_samples_leaf=7, min_samples_split=9, n_estimators=80 ........\n",
      "[CV]  min_samples_leaf=7, min_samples_split=9, n_estimators=80, score=0.665644 -   2.8s\n"
     ]
    },
    {
     "name": "stdout",
     "output_type": "stream",
     "text": [
      "[CV] min_samples_leaf=10, min_samples_split=3, n_estimators=50 .......\n",
      "[CV]  min_samples_leaf=10, min_samples_split=3, n_estimators=50, score=0.638776 -   2.0s\n",
      "[CV] min_samples_leaf=10, min_samples_split=3, n_estimators=50 .......\n",
      "[CV]  min_samples_leaf=10, min_samples_split=3, n_estimators=50, score=0.634969 -   2.0s\n",
      "[CV] min_samples_leaf=10, min_samples_split=3, n_estimators=50 .......\n",
      "[CV]  min_samples_leaf=10, min_samples_split=3, n_estimators=50, score=0.653374 -   2.1s\n",
      "[CV] min_samples_leaf=10, min_samples_split=3, n_estimators=60 .......\n",
      "[CV]  min_samples_leaf=10, min_samples_split=3, n_estimators=60, score=0.638776 -   2.3s\n",
      "[CV] min_samples_leaf=10, min_samples_split=3, n_estimators=60 .......\n",
      "[CV]  min_samples_leaf=10, min_samples_split=3, n_estimators=60, score=0.648262 -   2.2s\n",
      "[CV] min_samples_leaf=10, min_samples_split=3, n_estimators=60 .......\n",
      "[CV]  min_samples_leaf=10, min_samples_split=3, n_estimators=60, score=0.658487 -   2.2s\n",
      "[CV] min_samples_leaf=10, min_samples_split=3, n_estimators=80 .......\n",
      "[CV]  min_samples_leaf=10, min_samples_split=3, n_estimators=80, score=0.640816 -   2.8s\n",
      "[CV] min_samples_leaf=10, min_samples_split=3, n_estimators=80 .......\n",
      "[CV]  min_samples_leaf=10, min_samples_split=3, n_estimators=80, score=0.632924 -   2.8s\n",
      "[CV] min_samples_leaf=10, min_samples_split=3, n_estimators=80 .......\n",
      "[CV]  min_samples_leaf=10, min_samples_split=3, n_estimators=80, score=0.659509 -   2.7s\n",
      "[CV] min_samples_leaf=10, min_samples_split=5, n_estimators=50 .......\n",
      "[CV]  min_samples_leaf=10, min_samples_split=5, n_estimators=50, score=0.637755 -   2.0s\n",
      "[CV] min_samples_leaf=10, min_samples_split=5, n_estimators=50 .......\n",
      "[CV]  min_samples_leaf=10, min_samples_split=5, n_estimators=50, score=0.623722 -   2.1s\n",
      "[CV] min_samples_leaf=10, min_samples_split=5, n_estimators=50 .......\n",
      "[CV]  min_samples_leaf=10, min_samples_split=5, n_estimators=50, score=0.665644 -   2.1s\n",
      "[CV] min_samples_leaf=10, min_samples_split=5, n_estimators=60 .......\n",
      "[CV]  min_samples_leaf=10, min_samples_split=5, n_estimators=60, score=0.648980 -   2.3s\n",
      "[CV] min_samples_leaf=10, min_samples_split=5, n_estimators=60 .......\n",
      "[CV]  min_samples_leaf=10, min_samples_split=5, n_estimators=60, score=0.632924 -   2.3s\n",
      "[CV] min_samples_leaf=10, min_samples_split=5, n_estimators=60 .......\n",
      "[CV]  min_samples_leaf=10, min_samples_split=5, n_estimators=60, score=0.675869 -   2.5s\n",
      "[CV] min_samples_leaf=10, min_samples_split=5, n_estimators=80 .......\n",
      "[CV]  min_samples_leaf=10, min_samples_split=5, n_estimators=80, score=0.632653 -   2.7s\n",
      "[CV] min_samples_leaf=10, min_samples_split=5, n_estimators=80 .......\n",
      "[CV]  min_samples_leaf=10, min_samples_split=5, n_estimators=80, score=0.633947 -   2.7s\n",
      "[CV] min_samples_leaf=10, min_samples_split=5, n_estimators=80 .......\n",
      "[CV]  min_samples_leaf=10, min_samples_split=5, n_estimators=80, score=0.671779 -   2.7s\n",
      "[CV] min_samples_leaf=10, min_samples_split=7, n_estimators=50 .......\n",
      "[CV]  min_samples_leaf=10, min_samples_split=7, n_estimators=50, score=0.635714 -   2.0s\n",
      "[CV] min_samples_leaf=10, min_samples_split=7, n_estimators=50 .......\n",
      "[CV]  min_samples_leaf=10, min_samples_split=7, n_estimators=50, score=0.635992 -   2.1s\n",
      "[CV] min_samples_leaf=10, min_samples_split=7, n_estimators=50 .......\n",
      "[CV]  min_samples_leaf=10, min_samples_split=7, n_estimators=50, score=0.659509 -   2.1s\n",
      "[CV] min_samples_leaf=10, min_samples_split=7, n_estimators=60 .......\n",
      "[CV]  min_samples_leaf=10, min_samples_split=7, n_estimators=60, score=0.641837 -   2.4s\n",
      "[CV] min_samples_leaf=10, min_samples_split=7, n_estimators=60 .......\n",
      "[CV]  min_samples_leaf=10, min_samples_split=7, n_estimators=60, score=0.644172 -   3.2s\n",
      "[CV] min_samples_leaf=10, min_samples_split=7, n_estimators=60 .......\n",
      "[CV]  min_samples_leaf=10, min_samples_split=7, n_estimators=60, score=0.661554 -   3.1s\n",
      "[CV] min_samples_leaf=10, min_samples_split=7, n_estimators=80 .......\n",
      "[CV]  min_samples_leaf=10, min_samples_split=7, n_estimators=80, score=0.629592 -   4.9s\n",
      "[CV] min_samples_leaf=10, min_samples_split=7, n_estimators=80 .......\n",
      "[CV]  min_samples_leaf=10, min_samples_split=7, n_estimators=80, score=0.644172 -   2.9s\n",
      "[CV] min_samples_leaf=10, min_samples_split=7, n_estimators=80 .......\n",
      "[CV]  min_samples_leaf=10, min_samples_split=7, n_estimators=80, score=0.657464 -   2.7s\n",
      "[CV] min_samples_leaf=10, min_samples_split=9, n_estimators=50 .......\n",
      "[CV]  min_samples_leaf=10, min_samples_split=9, n_estimators=50, score=0.635714 -   3.1s\n",
      "[CV] min_samples_leaf=10, min_samples_split=9, n_estimators=50 .......\n",
      "[CV]  min_samples_leaf=10, min_samples_split=9, n_estimators=50, score=0.631902 -   2.6s\n",
      "[CV] min_samples_leaf=10, min_samples_split=9, n_estimators=50 .......\n",
      "[CV]  min_samples_leaf=10, min_samples_split=9, n_estimators=50, score=0.654397 -   2.2s\n",
      "[CV] min_samples_leaf=10, min_samples_split=9, n_estimators=60 .......\n",
      "[CV]  min_samples_leaf=10, min_samples_split=9, n_estimators=60, score=0.632653 -   2.6s\n",
      "[CV] min_samples_leaf=10, min_samples_split=9, n_estimators=60 .......\n",
      "[CV]  min_samples_leaf=10, min_samples_split=9, n_estimators=60, score=0.626789 -   2.7s\n",
      "[CV] min_samples_leaf=10, min_samples_split=9, n_estimators=60 .......\n",
      "[CV]  min_samples_leaf=10, min_samples_split=9, n_estimators=60, score=0.646217 -   2.6s\n",
      "[CV] min_samples_leaf=10, min_samples_split=9, n_estimators=80 .......\n",
      "[CV]  min_samples_leaf=10, min_samples_split=9, n_estimators=80, score=0.633673 -   2.8s\n",
      "[CV] min_samples_leaf=10, min_samples_split=9, n_estimators=80 .......\n",
      "[CV]  min_samples_leaf=10, min_samples_split=9, n_estimators=80, score=0.638037 -   2.7s\n",
      "[CV] min_samples_leaf=10, min_samples_split=9, n_estimators=80 .......\n",
      "[CV]  min_samples_leaf=10, min_samples_split=9, n_estimators=80, score=0.687117 -   2.7s\n"
     ]
    },
    {
     "name": "stderr",
     "output_type": "stream",
     "text": [
      "[Parallel(n_jobs=1)]: Done 144 out of 144 | elapsed:  6.9min finished\n"
     ]
    },
    {
     "name": "stdout",
     "output_type": "stream",
     "text": [
      "0.641104294479\n"
     ]
    }
   ],
   "source": [
    "clf_ei_c = GridSearchCV(RandomForestClassifier(), grid, verbose=5)\n",
    "clf_ei_c.fit(*create_vectors_labels(v_ei[0], v_ei[2]))\n",
    "print(clf_ei_c.score(*create_vectors_labels(v_ei[1], v_ei[3])))\n",
    "params = clf_ei_c.best_estimator_.get_params()"
   ]
  },
  {
   "cell_type": "code",
   "execution_count": 101,
   "metadata": {},
   "outputs": [
    {
     "name": "stdout",
     "output_type": "stream",
     "text": [
      "{'bootstrap': True, 'class_weight': None, 'criterion': 'gini', 'max_depth': None, 'max_features': 'auto', 'max_leaf_nodes': None, 'min_impurity_decrease': 0.0, 'min_impurity_split': None, 'min_samples_leaf': 7, 'min_samples_split': 5, 'min_weight_fraction_leaf': 0.0, 'n_estimators': 80, 'n_jobs': 1, 'oob_score': False, 'random_state': None, 'verbose': 0, 'warm_start': False}\n"
     ]
    }
   ],
   "source": [
    "print(params)"
   ]
  },
  {
   "cell_type": "code",
   "execution_count": 91,
   "metadata": {},
   "outputs": [
    {
     "name": "stdout",
     "output_type": "stream",
     "text": [
      "0.670138888889\n",
      "0.729423868313\n",
      "0.617717003567\n"
     ]
    }
   ],
   "source": [
    "clf_ns_c = RandomForestClassifier(**params)\n",
    "clf_ns_c.fit(*create_vectors_labels(v_ns[0], v_ns[2]))\n",
    "print(clf_ns_c.score(*create_vectors_labels(v_ns[1], v_ns[3])))\n",
    "      \n",
    "clf_tf_c = RandomForestClassifier(**params)\n",
    "clf_tf_c.fit(*create_vectors_labels(v_tf[0], v_tf[2]))\n",
    "print(clf_tf_c.score(*create_vectors_labels(v_tf[1], v_tf[3])))\n",
    "      \n",
    "clf_jp_c = RandomForestClassifier(**params)\n",
    "clf_jp_c.fit(*create_vectors_labels(v_jp[0], v_jp[2]))\n",
    "print(clf_jp_c.score(*create_vectors_labels(v_jp[1], v_jp[3])))"
   ]
  },
  {
   "cell_type": "code",
   "execution_count": 92,
   "metadata": {
    "collapsed": true
   },
   "outputs": [],
   "source": [
    "def print_most_characteristic(v, p1, p2, clf):\n",
    "    '''\n",
    "    prints the most characteristic posts for the two values of a personality dimension,\n",
    "    based on the probability of our final classifier's results.\n",
    "    '''\n",
    "    argmax = np.argmax(clf.predict_proba(v[1]), axis=0)\n",
    "    print(p1[argmax[0]])\n",
    "    print(\"----------------------------------------------------\")\n",
    "    argmax = np.argmax(clf.predict_proba(v[3]), axis=0)\n",
    "    print(p2[argmax[1]])    "
   ]
  },
  {
   "cell_type": "markdown",
   "metadata": {},
   "source": [
    "Most characteristic extrovert vs. most characteristic introvert"
   ]
  },
  {
   "cell_type": "code",
   "execution_count": 93,
   "metadata": {},
   "outputs": [
    {
     "name": "stdout",
     "output_type": "stream",
     "text": [
      "'so im an istp male - though my profile says estp.. Whatever... anyway, ive been in a relationship with an infp girl (CONFIRMED!!!! lol).  so its been a year and a hallf, my second longest...|||59734597355973659737:wink:|||I always have a blast, and constantly 'stir' the party. like, um . keeping it upbeat, Cause i get so talkative and it seems like everybody else is in slow motion :(    And then I wake up trying to...|||work smarter and not harder. take the N's job C:  Thus $60 every 10 min.|||still, the vague question is vague.|||like i was tryin to say|||You dont know what nig rig means? Or what, does that offend you? Like redneck-tech.,.. no ?  Lets just say its when you ducktape shit.|||Good C:|||you intuitives are CrAzY!|||Oh yea! Intersting point - i don't think least feminine means most masculine :/ eh?|||my vote is in esfj's And even more so on xsfp's|||like Miersho says, whats mbti got to do with it? But, for your sake; females wear that type well, as they do as sfp's, which i seem to be magnetized to for some reason. So if your a female, an xsfp,...|||Yea, I didn't understand either. I want male power, but i want female love LOL  Whats the question?|||I know i know, im no istp But i think im istp enuff. So. i dnt like em. Seem like everytime I get a gf she always says what would you think if I got tatoo?  depends i guess, im not gettin one so,...|||http://gifs.gifbin.com/g600g641767.gif|||http://gifs.gifbin.com/16099g6561.gifISTP - while smiling http://gifs.gifbin.com/163563561.gifESFP + Jager-Bomb + Halloween Candy http://gifs.gifbin.com/169717951.gifENTJ - Trying to get to the...|||wow. How are these people getting banned?? And why don't estp's have amnesty?!?|||Masters of Reality eh?  I like that!!|||Deff find new friends! Dsn't mean you have to kill the old ones. just expand your circle. My closest homies are CONSTANTLY gettin high and playin with magic cards, Always!  As they play, they sit...|||viva la piratebay.wtfe,-. ..rock n roll till your 80|||https://www.youtube.com/watch?v=eWMCR8Wadtw get it while it lasts|||not tryin to be a dick, aight.  Im just sayin man|||Or, maybe your taste in music sucks and is limited.  Perhaps|||when you and your entj brother are continually drunk in the Fl keys, fully convinced that you own the whole island|||dude  your all over the place on this.. Why dont you try not manipulating the results  (answer truthfully)?  intj and estp's are COMPLETELY different. - i mean, even if you do know what the questions...|||Well, I think that xsxp's are more commonly than not asxp's. why. i don't cnow.  and, if i were a feeler, would it be more appropriate to have said Well, I feel that xsxp's are more commonly than...|||passive aggression|||Well, for some reason I don't think intuitives like me :(   i mean, in person. i think I put off the wrong vibe somehow.  The thing is, Ill make a random, sort of crude,...|||but really, im usually good at getting things done last min. BUT as college progresses this last min. stuff, here lately,  has lead to more stress that I've ever felt,.. aside from the stress induced...|||planning.. i suck at it. Also, i think it's a little wierd that I can't communicate with personality-cafe.com home slizzles without having posted 15 posts. So  -Chicken noodle soup for the teenage...|||i feel like that last post was retarded  lol|||I deff have had some of these sorts of issues.  Partially because all i want to do is be recognized, I really think i can be the best at everything sometimes. something about the sp nature is so...|||they're just thoughtful estp's   :cool: - a guaranteed formula for awesome|||Drop the needle to the groove I get smooth, and Im forced to fck it up, my style carries like a pick up truck. Idk why|||Is something on your mind dear?|||This threaeaeadd is ha-hlarious!|||for me, it's a trust problem. I just don't wanna get hurt. I've never cheated on a girl and I avoid ALL thoughts of such things. I figure if im loyal to her, she'd be loyal to me. Not the case...|||Deffanitly takes time. Learning from new experiences, im sure,. and not a swap sustainable for an extremely long period of time, Isuppose (just for sake of agreeing with the Debbie downers here).....|||thats just how shit works mu fcka's   ..     (applause)|||The type changes are absolutely possible! Not even theoretic..  While your initial categorical type is hard wired, the preferences can change (which is to say,  they are just that.. Preferences)!...|||Like the shit! In a im soo happy to be awesome because god's blessed me tremendously sort of way :) To whom it may concern, my best freind is an infj and he's the bomb. He's the one that got me on...|||well im just gonna say that when in a given moment, I am able to have FUN while everyone else talks about having fun (when really they just think talking is fun).. idk  somethin like that. Then...|||Wing 5 must know something I don't'\n",
      "----------------------------------------------------\n",
      "'It's more annoying than anything else. There are so many other problems that are more harmful to society than piracy. It's just one more example of the government devoting time and resources to the...|||Funny that this is the first thing I see upon coming back after a few months. Procrastination and lack of motivation have basically defined my latest semester at college. It's not just me either. It...|||I'm a good leader and easily fall into that role if no one else steps up. Some of that skill is probably innate, but I also attended leadership camps during my high school years which reinforced...|||Good music, funny webcomics, and blue sky :)|||Well that's certainly a darker turn than I was expecting. I may be disillusioned with those in charge, but it's not something I see as an unsolvable problem, especially when I'm among others my age....|||I'm with Rosslyn for the most part. I don't really see any need to change people beyond making them accepting and tolerant of each other. After all, each person plays a unique and important role in...|||I'd like to think that this sense of an obligation to humanity isn't INFJ-specific, but I do think we all have an obligation to humanity, whether that be as a scientist, teacher, or farmer.   I'm...|||Getting angry at people who cause harm to others is definitely an idealist thing in my opinion, as you're standing up for the ideal of justice, but that doesn't mean it's not related to upbringing as...|||It depends how stressed I am. If it's just mild stress I'll either play video games or read, basically lose myself in another world for awhile. When I get really stressed then I tend to be more like...|||Blue grey: it's my favorite color and I've always seen it as mirroring my calm, introspective nature.|||I tried it one summer a couple years ago. If it is possible, I lack the mental discipline for it. Even though I didn't succeed, I still won't discount he possibility of it, especially given some of...|||I've sometimes wondered if the INFJ slogan should be INFJ's defenders of idealists and lost causes everywhere!  In all seriousness though, I don't see myself as overprotective. There are certain...|||Poof! You can now teleport to anywhere in the world. Unfortunately that limits you to anything underneath the earth's crust which tends to be somewhat cramped.  I wish I could go back in time to...|||Meeting up with people I've met online has always fed my paranoia way too much for me to have ever considered doing it.|||-MBTI -human interaction -sci-fi/fantasy esp. Star Wars,the Ender Saga, A Song of Ice and Fire, and Lord of the Rings -world peace -micro obsessions with video games that usually only last 1-2...|||I can do passably well speed thinking, but I prefer having time to think things through. If I get caught off guard by a question, I can usually make a pretty reasonable answer but it tends to come...|||Loyal to the end, but we'll stop at nothing to utterly destroy you if you get on our bad side.|||I think I'm fairly good at lying, although I do run into problems if I start smiling because that usually leads to uncontrollable laughter and things tend to go downhill from there. I'm much better...|||Poof! All the world's problems are solved. Unfortunately, everyone is now bored out of their skulls.  I wish I had a tiny grain of sand.|||Poof! You magically discover a wish that is incorruptible. However, it takes all of your brainpower to hold onto the idea of such a complex wish and you are forced into a vegetative state in order to...|||I do change my mannerisms to match different groups of people, but I don't see it as trying to get them to like me, I see it more as melding into the flow of conversation. If a certain person talks,...|||Personality. The final frontier. These are the voyages of the starship PerC. It's continuing mission, to explore strange new theories, to seek out new people and new connections, to boldly go where...|||I'm not terribly good at any art style except perhaps for writing. My favorite art style, however, is music, especially music that incorporates bowed string instruments and piano. The violin and the...|||Ironically I misspelled it too. My browser corrected it for me. I also have this weird tendency to insert really random letters into words when I'm writing by hand. I'll be writing a sentence and the...|||Poof, you now have a job rolling a stone up a hill for all eternity and you're only paid a cent a year for it.  I wish I was incorruptible.|||I haven't astral projected before, at least not that I can remember, but I have had two very vivid dreams where I've visited a close friend of mine in her house in North Dakota, even though I've...|||Daveman, compared to my handwriting, your's is a work of art. I guess I'll have to find a way to upload a sample as proof of my illegible scrawl.|||The Shadow Queen  One day you may find yourself passing through the shroud of Erebus On the other side, your feet will guide you to a citadel. Entering the citadel's black marble halls,  You'll...|||I'm a liberal-leaning independent, but I hate American party politics too much to identify with any particular party. I tend to focus much more on international much more than domestic politics and...|||Lol, you have no idea just how apt a description that is for me.|||Honestly, I see their wounds as a sign of how far they're willing to go for each other. It's not off-putting or disturbing in the least.|||I really need to stop leaving for extended periods of time. I keep missing out on the fun things you guys do!|||Geeze, you people have good handwriting! My handwriting is absolutely terrible. That was one thing I never did pay as much attention to in elementary school :crazy:|||I tend to fall for IxFx's more often than not. N/S and J/P don't really seem to matter much to me, although I think I do lean slightly towards N and P. All the girls I've fallen hard for so far (a...|||My longterm memory is excellent. Short term, not so much. It either has to be numerical, scheduled, topographical, or somehow striking for me to remember it. The only things I'm really good at...|||In the same vein, Ender's Shadow and Ender in Exile are both wonderful books with amazingly well developed characters. As are most of Card's books for that matter.|||Be prepared for a lot of screeching when you start. It takes awhile to get used to using a bow.|||I definitely switch to T when I'm working or in class, but that's the only place I've really noticed it. It comes quite naturally to me when it does happen though.|||Love, certainty, and a life plan. The trip to Japan sounds nice too. :P|||I'm definitely in the same boat when it comes to reading anything even remotely related to romantic relationships. Body language and verbal cues in that area always fly way over my head.|||Mythbusters=best tv show ever. It's the only thing that makes me regret not having television. :(|||In my opinion the bowed string instruments are among the most difficult to learn. It's a lot easier if you've learned an instrument like piano before so you're familiar with reading, playing, and...|||I've noticed myself doing similar things. I'm always sitting at the back of the restaurant or cafeteria at an angle to watch the most people possible. I also tend to read people better when I'm not...|||I also have to agree with this. I will forgive just about anybody for just about anything. I'm just not the kind of person who can bear a grudge. That being said, if somebody does something to lose...|||I have a multitude of reasons for being reserved. One as you guessed is fear, most specifically the fear of betrayal. I had a close friend betray me and I've been much more wary since then. In...|||I prefer 60 degrees fahrenheit with no wind.  As far as extremes go, however, I much prefer cold. I can handle very cold temperatures as long as there's no wind, but heat just annoys me.|||Math was one of my favorite subjects in public school, but I get bored with it very quickly if I'm not learning something new. I haven't continued with it in college precisely because of that. I'd...|||In my experience, it's very difficult for others to tell the difference between such things even with body language. We're very good at hiding any of those things deep within ourselves and only open...|||I used to play the violin, but I haven't had time to keep up with it since I started college. :(|||It's pretty hard for me to get inspired most of the time, but music definitely helps. Reading also helps. There are some books that do a really good job of motivating me to action when I really need...'\n"
     ]
    }
   ],
   "source": [
    "print_most_characteristic(v_ei, e_test, i_test, clf_ei_c)"
   ]
  },
  {
   "cell_type": "markdown",
   "metadata": {},
   "source": [
    "Most characteristic intuitive vs. most characteristic sensing"
   ]
  },
  {
   "cell_type": "code",
   "execution_count": 94,
   "metadata": {},
   "outputs": [
    {
     "name": "stdout",
     "output_type": "stream",
     "text": [
      "'taking both replies since... ..thanx for not being obnoxious TupidiPie, I'd say it is certain you do partake of the constructive and deconstructive act often as an intp. people don't understand...|||'right is right' right and so ufck fancy or grammatically correct|||..suggest this. work on throat charkra. in kundalini charkra system the throat has two granthis [/knots], so when in energy-visual-reminder exercises gets yin & yang energy to flow through the...|||This discussion could actually be continued within the Socionic Quadra framework. ...Lets say that outwardly media visible and party culture bias are dominated by Sensors and that culture-molding...|||most wouldn't believe this, 'manuals' are normally central reads, I believe Kant expanded on how to create models better from our thought ramages.|||at most knowing one's physiological - psychological - preference display type in the MTBI or Socionic Indicators is a rite of passage. Any internet fiend should pass through it, and it brings ah-ha...|||where would you find an ostriches head, ...most likely in the sand.  as visual thinkers...things in social form, words are not easy to maneuver around with,  unless the sixth sense of the intp...|||Lets get down to some bits one has one civilization BELIEVING in reincarnation ...and much fantasy along with it, like you might deserve to be a fly or indeed a cow next time for a peaceful...|||like mole hunting with a hammer, if we think we see a head popping out, ..the joy of swinging the hammer in that quick time over-rules reasonability [i.e. the guy was actually speaking on this...|||the Two figures you speak of can share this characteristic:  We know Socrates by the writings of Plato, who wrote of his    after his death by poison -cause the establishment thought he infused...|||people have little use of Se literally scares me. How can you live life if you're not always paying attention?  ..do pay attention, there are though many spectrums to consciousness or within...|||if you get diagnosed with bipolar, they'll put you on lithium, that's no way to live. don't amputate a limb, move or deal better. You obviously feel asif you are dealing with something greater,...|||with suckish Se, we improvise by memorizing an objects place, much as we do with other analysis... except the mind rebels, 'an object, no such low thing enters my mind'.  anyway, I also experience...|||it can serve as a way to neutralize energy, and get one less all over the place. (I hike in nature, run in gym, ..spinning is good to develop upper leg and stomach muscles to improve speed and...|||So many 'single points' to discuss,  why would I say that Qabbala is a scientific religion, saying that it is a religion is the first misnomer, in its own eyes, Judiasm is the Administrative...|||Now I know how to fly fish in the INTP forum.  Gee, there are always INTPs concerned about the tearing to bits events that happen on a thread. Don't be concerned, I am INTP too, if my personality...|||multiple personalities.... like that you have given the opportunity to discuss this, i thought of some examples and solutions and elucidations, ...but then best thought it to keep it to myself,,,,...|||fashion whatever weapon against the enemy, and cut off his route of escape or retreat. Actually, simply as a person, apologies to Hitler for using him in said scuffle. Actually, googling some real...|||Okay, now I speak....  this is just to show an alternate view of science exists,... no we not pseudo-scientists,  if we espouse a view similar or slightly different to that in the Matrix Movie....|||Death doesn't exist, a scientist said  LIKE THIS ARTICLEhttp://www.digitaljournal.com/images/chevron-w.gif77 http://www.digitaljournal.com/images/avatars/large-775892.jpg  By Eko ArmunantoMar...|||oh, my low attention span, & rush to finish once my brain has clenched it somewhere.  I'll hypothesize Hitler as an INFJ now, not infp.  Lets see sparky.... you male..... you also have...|||actually, irony of ironies, this ball bounces right into the INFP court. ....yeah defend urselfs!  for here we have the artsy guy, with great architectural knowledge (your typical BA type guy)...|||here is a supernova type event,  ..so on random blog x one has two opinionated groups with their champions going at each other ..for too long obviously.  your intp enters, fries both teams cause...|||..this thread still lives .. cause the orig poster still hopes to say something to the effect,,, ..that personality type A has a propensity to wards becoming a serial killer,  but this is a...|||it should be said that only the 'fittest' or most ignorant make it as psychologists. its not uncommon that more than a few of those studying psychology succumb to some 'sort of standstill', as they...|||...concerning the Forer effect. ..Forer combined characteristics from various astrological profiles 'to make a single homogeneous one', and found that 'all' participants typed themselves as that...|||my estimate and contribution to *killing this thread* (its no happy ending that this scruffy mongrel now lands on another personality types door ..intj's in this case,,,, any case, some intps should...|||I agree, but to the point where I've got really into it, then I said to myself,... it would be tremendous[&*] if we know how they reached some of the characterizations they do... if you could see...|||greetings, thanks for .... ....supposed kudos for endurance. .when its not endurance, merely logging off and doing other things. Yesterday had some accelerated thinking and felt my way around gaps,...|||anarchitektur oh I see you now, as I'm reading this, then I must say that the genes and early socionic environment then seem to weigh in more ... as concluded from ur observations,  ...i say...|||okay, more aforethought   it would do well to spread the arguement out a bit, 4slashes may have been compacted   there are two probablities|||ultimately there are two solutions to the theory,  one that the mmix of astrological features (one can call it tides of planets {akashically fixed to ur date of birth}), plus genes, plus nature: ...|||Here's my basic theory: one has a physiological/psychological or physionomic type ... the INTPs, ESFJs etc. and then one has an astrological type.  my question to INTPs here, & here we have to...|||I've returned to the eagles nest, and what i've brought I regurgitate for you (Machine Translation of Quadras and their Socio-Psychological Features) The model is a descriptor, and for what it...|||the better memory, & not studying, is due to the 'process-typic' type thing. so long as one follows something cognitively, bits and pieces (called memory of this and that) become like so-many...|||i've always consider these issues by an Eastern Axiom...or whatever axiom  while balancing (male and female in this case) walk the centre line...  that line for me as a male is to 'follow the...|||so i couth that u want to mimic into society....hence the talk  writing is simply a good instrument to polish anytime and in anyway....like a good sword as sarcassism against systems should be...|||one never knows in the murky world of intps wheather what is being said is blatant suggestion, (a proclamation or propoganda of the scope of what the INTP is) OR simple observation.  as an example...|||imagine the personalities are like a range of Land, us INTPs occupying this one. I don't believe we Schitsos' but one thing you would then have to ask about schitsos is this: 'what forces a person...|||simple (to end it....haha): you repeat this prayer.......death to america, death to america...that heap of tinsel which feuls it   seems like the only NT-thing that i pick-up about mainstream...|||came here cause of your name. from your signature, i guess i can access your assimilation process of nietzsche....  go bucks,...go bucks....fuck the bucks, mother fuck .... go the bucks ------a...|||perhaps you'd like a Round-About in ......... socionics.us go to the forum.... tap into those articles, and there will be a side-bar taking you to descriptions of your type.  but first just get...|||disney is boring, marvel is boring,... in many ways it is the cross-sectional analysis of the western hero,.. archaic and overbearing. long live ANIME, glorious, and free of that infection   ...|||EMPTY as a feeling to be dreaded & to recuperate from immediately is something I am aware of.(credit to Thracius for reawakening that cognition)  when it comes to feelings,... i am only aware of...|||if the Guiness book of records had a section for comedy, i think the stunt pulled on the 2nd man of this vid would rate as the most stress experienced by someone [who has had a joke played on...|||fuck CS Lewis,....... that father of contemporanious like shit then.  amongst guys... and a guy I read constantly, ...cause i like the philo flavoured edge,... is the great christian British guy...|||my meat recipe,......i don't know what squirel man said, but, .... for out-door stuff,  wood fire,........ no salt, no spice,....... beef is the only thing u can eat rare, but as for matone...|||Imagine we lived in an alien world.  imagine mathematically you have constituents = X (barring absolute mathematics, as this is perhaps a universal language, but lets use some arthmetic to...|||i drink this year, to intersperse another activity into the after work tedium i feel, in addition to exercise, which to me ranks as just as exciting as drinking.   i'd say S-types exerience a...|||Nihilism is not synonomys with Nietszche.  also, initially when i read the thread, i came to the thought,......  that Nihilsim and both anti-Nihilisism cannot and should not have fanatic...'\n",
      "----------------------------------------------------\n",
      "'Please don't leave me a bunch of pity. More than anything I just felt the need to write my thoughts. Now that I think about it this should have just been a blog but whatever.|||Why can't women just be direct about not being interested?   Warning: Long and filled with me being a whiny bitch!  As some of you might recall I ended up asking a coworker out to which she...|||This evening I find myself wondering what the hell is wrong with me. Anyway on Saturday I ended up asking a coworker out for Thursday. She ended up turning me down because she has school that day,...|||Yes I've considered it but I don't want to decide that sense I'm only 22. Part of me likes the idea of total freedom. Then again having a family also sounds nice.  I will say I'm tired of the games...|||I would definitely say I had social anxiety when I was younger but I've mostly overcome this. I still over think social situations but i generally don't let it keep me from doing things. If anything...|||Skiing and snowboarding. Trail riding (dirt bike). Video games. Surfing. Hunting. Reading about stuff related to my hobbies. Learning how to fix things I use.|||Kind of sounds like me.|||My opinion is most of what you learn in college (and school in general) isn't very useful for most people. As for the stuff that might be useful they don't show you how to use it practically. This...|||I don't see myself as boring. Other people probably view me as boring though because I don't say much, I'm to the point, and I don't go to parties much.|||When I'm in group settings I find people try to prod me into talking, but with little success. In the end I tend to just sit there listening untill a topic I care about comes up or I feel something...|||My bad I missed the ten word rule.|||A penguin caught a fish in antarctica and then it was eaten by a polar bear. Satisfied from his delicious meal, the bear went to sleep. And bingo was his name-o. He had been given this posh name by...|||I didn't have much of a religious upbringing though I know my parents are christian. For a number of years I had a questioning belief. The more I thought about it there more problems I had with...|||Most stuff on History, Discovery, Military, or similar channels. No Reservations and the Layover. The Big Bang Theory. Top Gear. Two and a half men (not the same without Charlie though).|||F vs T has nothing to do with being nice. I've known people who I suspect are dominant feelers yet could be down right nasty over nothing. It all goes to show F vs T dosn't mean much in that regard....|||1. Hell no. There's 6-7 billion people on this planet of which about half of them are female. Even after narrowing it down to my age bracket and what I consider attractive there's still millions....|||I can't give the lady's what they want that easily. I have to see some in return. XD|||I have a text message stalker.|||It all comes down to being on social autopilot. If I don't care to deal with the person I try to deal with the person as quickly and efficiently as possible. I actually need as reason to give more...|||It drives me nuts.|||Im only able to pull this kind of thing off when I put myself in the mindset to do so before hand. The problem is it's just not natural for me to remain in it. More often then not i come up with a...|||I'll save the tweeting for the birds.   Actually this is the only site I post anything on. Never had myspace. No Facebook. No google+ or whatever it's called.|||To win the lottery.  Oh you said career. Im still trying to figure that out maybe a linemen (as in electrical). With the relationship part I'll have to get back to you on that.|||I enjoy going out to dinner with my family. Otherwise I see them as just another day.|||I wasn't big on sports until after high school. I wasn't a natural at it and was to lazy to practice, then I learned to ski. Anyway it dosn't need to be a sport. The point is for him to find an...|||I vote for leave it for the reasons others have given.|||Does he have any outlets such as sports, hobbies, ect. Basically anything he enjoys doing regularly that doesn't include such things as hours of playing video games, watching tv, or surfing the net....|||I second the let him make his own mistakes. Trying to help him avoid mistakes can often backfire anyway. If it isn't likely to ruin his life it's probably better to let him make the mistake and...|||I second the ISFJ though it's hard to type a person based on a description like this. Either way I say she dosn't sound ISTP.|||I hate eye contact. For me I find it a distraction from the conversation. When using it I have to think about keeping eye contact but not staring the person down.  In the end I say it's just one of...|||I don't recall the scores from the mbti tests I've taken. If I had to compare myself to the people around me though I would have to place myself at about 85% introvert. Most days I just don't feel...|||How about the teacher that expects you to write a poem. Those kind of assignments always pissed me off.|||Never been a fan of poems.|||This.  (10 char)|||My problem is I kill most conversations fairly quickly because I don't give people much to work with. Then theres the problem of not caring for a lot of people I meet.|||People who drive under the speed limit for no good reason. I can't tell you how often this happens to me.|||I don't do new years resolutions. January first is just another day to me.|||I think you and I know thats not the kind of movie I'm talking about.  There may be some exceptions besides these three that I can't think of but generally there total garbage. I actually can't...|||The only things I don't like about the holiday is the music, having to decorate, and the movies. Every year my mom watches all kinds of the terrible Christmas movies. You know the ones were some...|||Your campus too. Can't walk anywhere on my campus without steping in it. By the way BBQ geese kabobs with bacon tastes great.  Bacon yum.|||I feel it should be illegal. If a women decides to have sex she accepts that she could get pregnant. Sure you can use protection but no protection is 100%, so even with it you still should accept the...|||It's why I sometimes question whether my dad is an ISTP. He can get extremely anal about where you leave things. Some days he will just start moving your stuff and you come back and can't find it. He...|||You seem to be thinking yourself in circles. If I were you I would go out with her on a trial basis and stop comparing her to the ENFJ's. If it just feels right after a few dates then go with it, if...|||Thats a tough choice. I deffinitely spend alot of time thinking about and researching my interest's. At the same time after several hours to a few days of this I really need to get up and do a...|||Outside of my family the only people I regulary interact with is co workers. I've got some co-workers that I get along well enough to were I snowboard with them. Infact they invited me on a trip to...|||I agree with you that with the right person the conversation should feel natural. Having said that my question is how did you meet these women in the first place and what led to the conversations?...|||1. I don't know if I would say I'm attracted to people that fall under that category. In general though I prefer people who are laid back (while still being somewhat dependable).  2. I highly...|||I find myself in this same catch-22. The basic solution is obvious, but it's still a pain in the ass.  Then there's the added struggle (at least for me) of trying to find things to talk about when...|||The only current system I have is 360. My computers are not really up to gaming specs.   Having said that I play alot of the MW3. Also just got BF3 but haven't had a chance to play it.|||Basically what the rest of you said.   Buy a decent size house (2000-3500 sq. ft.) on several acres.  Then I would take off on a several year trip around the world starting in Europe and just go...'\n"
     ]
    }
   ],
   "source": [
    "print_most_characteristic(v_ns, n_test, s_test, clf_ns_c)"
   ]
  },
  {
   "cell_type": "markdown",
   "metadata": {},
   "source": [
    "Most characteristic thinking vs. most characteristic feeling"
   ]
  },
  {
   "cell_type": "code",
   "execution_count": 95,
   "metadata": {},
   "outputs": [
    {
     "name": "stdout",
     "output_type": "stream",
     "text": [
      "Interesting, might be unrelated but I just happened to be watching a documentary BBC iPlayer - Horizon: 2011-2012: Do You See What I See? last night about colour. While I had read about it before it...|||You could always take a playboy (or equivalent) in with you and do a handstand. Of course you only have small time window with which to accomplish your task.|||Here's a simple conversation that will help you socialise.  You: I was reading about this tricky problem and I'm stuck with it. Him: What problem is that. You: (Describe some difficult problem...|||What evidence do you have to support that statement?|||But isn't your concept of God based on what is outlined in a book written by man (who can lie).|||Two that come to mind are Valhalla Rising, Crazy Eights.|||In work I do some computer modelling of various systems so having extra variety in the languages you know can allow you to speed up certain applications. Also if the uni I went to is anything to go...|||Hi, welcome to the crazy train. Given that you mentioned that you are now dating an INTP, I was curious and wanted to ask you how you met. Did you do the standard kick his front door down and follow...|||Currently trying to improve my c++ programming so I can interface the multi threaded nature of Labview programs with parallel processing of CUDA. Reason: Wanna see if I can, plus improving my c++ is...|||Does changing them from being indifferent to you to being rather pissed off with you count?|||Yea I do it quite a bit as well but for me it's only an external facsimile of what I do with my own ideas i.e. I come up with and idea and then spend the next few moments trying to destroy it, if it...|||Because we were given a serial port and everyone else got USB.|||Don't know if anyone's mentioned it but Sherlock|||Tbh I don't know if it's a great compliment. Even tortoises get complimented about their speed by a snail.|||I did this a bit when younger but now I just mostly take it apart in my head. I only resort to actually doing it when I can't mentally figure out how it does something. I find it's cheaper this way...|||Jennifer_P I think I'm in love, I didn't know girls like you existed.   As for me, it's cheap and comfortable. Jeans with T-shirt and hoodie style jacket (with or without the actual hood) or...|||The american version (with a bloody z) is in urbandictionary so that's good enough for me. You do however sound like an old english teacher of mine who one day would praise Shakespeare for making the...|||Efficientise  However  E.g. I've efficientised your toothbrush, however it may explode.  Ohh and 'explode', there's another one.|||Tis what I thought when I read about your friend. Have you tried being sarcastic to him, I mean start of with subtle sarcasm then ramp it up to something like  ...|||Either playing a harp or getting anally probed. Depends on who beams me up.|||I would have thought extreme T would be more schizoid like than psychopath.|||Isn't slide 3 wrong as part of the orange portal that has entered the blue one will have emerged through the orange one. This T shaped cross section will then pass through the portal and then come...|||But isn't giving sex ed as opposed to abstinence only, going against this point. Granted I'm not too knowledgeable about how it's implemented in the US but I would have thought that it would be to...|||But isn't that the case with everything, though you can narrow down  which one it is by trying to eliminate the other variables in the  problem. That was why I suggested looking at other countries...|||Wouldn't mind getting a link to that article, there is a difference between causation, correlation and coincidence, given that a lot of factors have changed since then. In particular the internet,...|||These 2 are important. Also the constant drive to prove either myself or others wrong (or at least only right in certain circumstances) general leads to a gedanken. If you want any business ideas...|||Might be replying to an old topic but Ellen always seems to start discussions as to what she is. While most people seem to agree that she's IN*P, they seem to argue over the T/F bit. So if you ever...|||I am wuvable, I just can't help it.|||Don't resort to crayons, they only end up eating them.|||Don't mind him he's just being a dick.|||In a discussion, decide that attacking the other person is the same as attacking his argument.  Start having a 'discussion' with him and then as soon as you have made your point go back to checking...|||Conceptual: 18 Adventure: 15  Practical: 15 Social: 5|||The next question is what are your cost and reliability requirements. For example, if you want the system to stay below a certain level you could buy a heat plate with a low thermal inertia linked to...|||Ahh now these are important details as having a liquid in it means that the action in question can't be too quick as you get splashing. If it's on an oven/heated surface it can't be easily lifted...|||I might have missed this in reading through the post but is the cylinder made out of wood or plastic as the density seems quite low.|||Any further info available about the problem. Sorry but INTPs like to have all the knowledge. That and I'm nosey.|||Occasionally I can be too lazy to point out why I'm right. Mostly when I just agree that they're right, it is when people point out I'm wrong for some 'obvious' reason and I realise that on closer...|||Tried the testcafe one and got:  Right - 51% Left - 49%  So I guess I've got the most balanced brain so far:happy:. It a pity though that both sides are nuts:unsure:.|||What subjects are you having trouble with?   In general when I learn something I start with the big picture and initially ignore the details. In other words I produce an image of the process that's...\n",
      "----------------------------------------------------\n",
      "'It's all so confusing! Good to know I'm not the only one going through this. All I know is, I'm not interested in guys romantically, I don't want a life with a man. I wish it was clearer and easier,...|||Thank you! I talked about it openly with my best friends today, it was weird how natural and not-a-big-deal it was. Although I knew they were gonna be understanding and nice about it, we've known...|||You guys, I've come to the realization that I'm probably not hetero. Oh my. It's weird. But lovely. For the longest time I've felt bad and guilty for not being interested in relationships, but also...|||I feel like Finland probably has less art schools than some other countries, these options sound wonderful, but I'm not sure we have all those here separately :( In the art school that I mentioned...|||I'm glad my elfhood (lol) is accepted and even embraced here. Some might discriminate against elves, but not you guys.   (Not to turn the conversation to Finland again, but fun fact, there are...|||I feel pretty similarly, I love drawing things that have stories and like combining words with pictures. I'm much worse with aesthetics and drawing pretty stuff. Plus I'm so bad at completing stuff,...|||:witch: <-pinaattitonttu flying to take part whenever someone mentions Finland  Oh no, I think I'm late, you already ended your conversation. And I was flying so fast too!    (I still feel...|||I made a life resolution yesterday. Not a new year's resolution, I've never been a fan of those so I never make any (I mean one time I promised myself I would try more ice cream flavours, that one...|||Actually, I think he's just a regular crossbred cat, I adopted him for free from a family who couldn't look after him. His colouring is really similar though! Maybe he's related to one :)|||Thanks. Well, who knows. If it ever comes off you can try it on.    He's called Toivo, it's Finnish for hope.    *smiling innocently, trying to contain the evil laughter bubbling inside*...|||627570 The face that's currently attached to my head.   627578 627586 627594  The cat that's currently attached to my lap. (Seriously, why does he always sleep in the weirdest positions? These...|||People (not just my friends, also strangers) have treated me so kindly lately, it makes me wonder what I've done to deserve it. If karma is real, maybe they're finally paying me for saving all those...|||Haha, I can honestly say it has never caused any confusion in my life, it had never even occured to me that it would be somehow important to establish the person's gender in the sentence before I...|||Yeah it would make sense, but I don't really mind what you call me! :laughing: And no, it doesn't change, we don't really have that in the Finnish language, we don't have gendered pronouns either,...|||Well, pinaatti makes the most sense, as it's the whole word. If you wanted to break pinaatti into syllables, it would be pi-naat-ti. Not pina-atti. So it's kind of hilarious to me that everyone's...|||Thank you for your incredibly kind words! Sorry it took me so long to reply. It really did feel like losing a dear family member, because that's how I see my pets. I don't understand how some people...|||Hello old friend!! Nice to see you again. :proud:  And sorry for my difficult name. Actually, I'm not sorry, I love watching you all struggle, mwhahaha. I also find it funny how everyone shortens...|||I'm doing a little better today, meaning, I have managed not to cry every minute of the day. I still cry, but mostly I feel sort of numb and empty. I feel this deep sadness inside me, in my chest and...|||Thank you. I truly hope so, I can't stop thinking if I did something wrong or if I could've done something better. But I hope that he had a happy life and that even during his last days he could feel...|||My bunny died last night. I miss him so much, I lost my best friend.  I don't even know what to do with myself. I've been crying for 24 hours now, I can't eat because I feel so nauseos and when I...|||A lot of things make me happy right now:  -I love my new job! I love all the people (even my bosses), I love learning new skills, I love the atmosphere and I love the fact that it's busier and more...|||Hahaha I love it! It's funny how both you and sittapygmaea have dreamed of trying to help me. I'm also fine with going to a bread shop instead of the doctor's, I love me a good bread. I remember...|||Haha that's so funny! I've actually been struggling with a mild cold for weeks now... really annoying! The drawings I made today were actually about a weird dream I had the other night about my hair...|||Meltedsorber nichya awwws you guys are the sweetest <3 I've been too tired and too busy with my new job to draw or feel creative lately (it's not a bad thing though, I'm having a lot of fun at...|||I'm excited. I'm travelling to another country on my own next summer to see my favourite band in the world live. I can't wait!!!  It feels so good not to be shy anymore, my child-self would be so...|||I've been wondering if I might have ADD lately. One of my best friends was diagnosed with it and she too said that she can see a lot of the traits in me as well. But I don't know. With her it's very...|||Thank you so much for the tips! I appreciate it.   Cruises to Estonia or Sweden are quite popular here, they're not that expensive and usually they're for one of two nights. I'm guessing this one...|||Oh no. My new boss called me earlier today asking if I had any wishes for the shifts when I start there in two weeks. I was in a noisy train and had trouble hearing what she was saying, so when she...|||I got a new exciting job, but now I need to do the hard bit and tell my boss and coworkers I'm leaving. I'm so bad at stuff like this, but I really need to do it by tomorrow morning. It just makes me...|||* slowly raises hand* :anyone:|||I've had a couple of dreams about trying to fight animal torturers this week. Last weekend there was a girl who had tied a kitten's foot to a rope and was hanging the cat out of a window of a high...|||I always start imagining creepy stuff at work when I'm bored, like today, while cleaning I just automatically started imagining a situation where one of the customers I had would start talking to me...|||He walked past me with (I'm guessing) his girlfriend as I was on my way to work. The woman he was with was so beautiful, she had long dark hair, red lips and was super tall like a model, that's...|||I'm pretty sure I just saw Ville Valo from HIM!!!! o_o     nichya I need to tag you here so that you can celebrate with me|||http://www.youtube.com/watch?v=tUj0qK3CowA|||I bought a notebook so that I could store my thoughts and ideas in a more organized form and possibly develop them easier than if it all was just floating around in my head. Well, the problem that...|||I love Arcade Fire! The others were okay too, but I think I need a bit more moodiness to feed my angsty imagination XD But thank you!|||Let's just settle this and agree that they're both incredibly cute ;)   And wow what a cool snake!! We've had them (although only the nontoxic ones) inside my parent's house once or twice too when...|||Does anyone know any good Radiohead-esque music to recommend to me? I need new music to inspire me. The things I like about Radiohead are their surreal and dark lyrics, slightly ominous ambience, the...|||*wakes up from hibernation* Did someone summon me? I heard the word cat-pictures. Okay then, here you go:  583673583681583689583697583705|||My parents have these new neighbours they call secretly the Flanders from Simpsons, apparently they have striking similarities and the way my parents can't stand their properness makes me laugh.|||I'm quite happy about how I've started to come better at expressing myself through drawings and art. I used to find it frustrating, feeling the need to express my feelings on the paper, but not...|||The random guy I met on Thursday went back to his own country today. I think I'm actually gonna miss him, I didn't think it would face me as we were just friends, but I woke up feeling sad today. We...|||I've been updating my blog these past couple of days, the link is in the signature!|||AWWWWW how cute are those?! :lovekitty: The guy did say yesterday that I would love Japan...|||I had the most random night, I was really bored and none of my friends were around, so I then disappointedly just decided to go to the grocery store and cook something, but on my way there this...|||Aww I've missed this!|||I tried to meow to my cat, but in the process ended up somehow hurting my throat. I think I accidentally pulled a muscle there or something (if that's even possible), it felt so weird, I could even...|||Don't worry, I was even worse last year, in April 2015 I listened to 3,049 songs, 101 songs per day on average. But there's nothing wrong with that, music is important and makes the world feel more...|||I've fallen in love with this one particular orange-chocolate-coffee they sell at a coffee shop near me. I had it the first time 2 days ago and kept dreaming about it the whole night! They were all...'\n"
     ]
    }
   ],
   "source": [
    "print_most_characteristic(v_tf, t_test, f_test, clf_tf_c)"
   ]
  },
  {
   "cell_type": "markdown",
   "metadata": {},
   "source": [
    "Most characteristic judging vs. most characteristic perceiving"
   ]
  },
  {
   "cell_type": "code",
   "execution_count": 96,
   "metadata": {},
   "outputs": [
    {
     "name": "stdout",
     "output_type": "stream",
     "text": [
      "'I believe romantic attraction often causes INTJ's to get stuck in this loop, because Te verification can lead to rejection. In situations where things are ambiguous with the object of your affection,...|||I enjoy delivering lectures to large audiences, assuming I have had my requisite preparation time (a lot). That is because I know that I am giving a masterful delivery and using my abilities to make...|||This sounds like a new idea, and I'm curious how you see this. I hope you'll elaborate.|||Not a question (or a sentence).     An INTJ might be able to guess your feelings based on actions, but being told where you stand provides more certainty. When it comes to something as messy as...|||The notion that you have to love yourself at all times to be loved is obviously flawed. Say your partner came home, down on themselves for making a mistake. Would you stop loving them? Or would you...|||It seems the only thing we can say for sure is that your biggest problem was communication, in spite of your explicitly problem-solving-oriented verbal infrastructure. If you have to tip-toe around...|||Sure. I work in an academic environment. I spot them regularly.  I believe we understand one another more than most others. But we also keep a respectful distance.  Ships passing in the night.|||I can run things through Te and believe I made no wrong decisions, based on what I knew or how I was going into a circumstance, but it often doesn't matter what Te thinks. Mistakes that I make,...|||Okay, so I'm not the ENFP in the relationship. ;-)  That seems like the kind of silly thing an ENFP would do for me and I would love it. So long as it was drawn poorly.|||Or she keeps her phone off when she doesn't want to be interrupted. One way or another, she is using her Te-screen to the noise of the world at bay while she concentrates on what matters to her....|||Dear SailorStar, thank you for the thorough and thoughtful reply. Your perspective on connecting with other people is beautiful. I doubt that even most ENFP's could be so giving.     Your...|||Thanks for your insight.  I tend to digest the information for a week or two, and then stop thinking about it entirely. Beyond this, there's no further information to be gained. That's true unless...|||The Producer , it seems we are each fielding our own ENFP-INTJ issues.  I've backed off from ENFP romance in the past because the intensity was uncomfortably high. I need to feel in control of a...|||Dear ENFP's,  How long do you reflect on something impactful that someone said?  Do you reflect on it that day and move onto other thoughts in your busy lives, or return to the memory and reflect...|||chickydoda, while many INTJ's and INFJ's adore your type, fighting for you is not our game and there would be no point. As introverts, if we can't attract you to *us*, we're unlikely to hold your...|||That's kind of you. Thanks for the welcome and encouragement.     It's curious how you are sensitive to these subtle signals, but characterize yourself as oblivious. You don't sound oblivious to...|||Nice to see you again too, The Producer. I'm here so infrequently that I'm surprised anyone would remember me. I come to the site when there is something specific I feel I need to learn. For this...|||Dear ENFP's: it is often noted of your type that you are driven to form deep connections with other people, that you are experts at this, and that this can go awry by unintentionally signaling...|||An observed response is more trustworthy than a hypothetical one, which makes the current events and this thread a great chance for case study. I'm hoping we'll hear from ENFP's who were distressed...|||This is not a well-worn perspective, and yet it is how I would also describe my own views. Cheers.  But I don't intend to ask a politically-laden question. I hope to learn how an ENFP would react...|||This is quite a thread. I too came here to learn about ENFP reactions to the election. But I now also need to learn about the ENTP's here.  I understand that to ENTP's, seeing others suffer,...|||Interesting, I hadn't heard of that. My fan looks like this: 603098  At 20, it's on the large side for placing within a cylinder. My latest idea was to tie shredded grocery bags to it, although I...|||As I understand it, a desirable path is to traverse the Enneagram in life, ideally absorbing the virtues of every type along the way. However, I seem to see Enneagram discussion oriented in the way...|||There has been much written about making your fan work more quietly. I'm looking for a way to use a big fan to make a ton of white noise (without damaging the fan -- it has to run 24/7) while also...|||I enjoyed your thumbs up/down weightings  PeevesOfCourse, thanks for that. I fully agree about pragmatics: even a happy match will become negative if it is sabotaged by material stressors and...|||Thanks for your perspective. To agree with all you said: career performance is not the only or main determinant of partner quality or compatibility, contributions at home and sacrifices for the...|||Certainly, kindness and humility are important to me as well. I don't think those things should prevent anyone from having a successful career, so let us put them into a separate, water-tight...|||Thanks for your responses. I'm not surprised that people hold differing attitudes, although I'm surprised by negative reactions to the idea that people might be judged by their accomplishments, when...|||Perhaps it is a matter of degree - would you be bothered if your long-term partner were unemployed for a long period, and you perceived them as failing to make an effort?  I agree that happiness...|||Dear INTJ's with long-term mates: is your loved one floundering in their career? Do you perceive this as a failure to coordinate their energy and actions? Do you accept this as their style, or as a...|||Thanks for your further responses. I think, based on these descriptions, that Fi is not new to me, but that I may have reached a point where I am able to better see it in action, and want more of a...|||You both explained that with great colour, and great theory of mind. Thank you for taking the trouble to do so.  There seems to be a cloud of concepts that are associated with Fi that have a murky...|||Dear ENFP's,  I'm seeking insight into my tertiary function. Inquiring about Fi among other INTJ's is difficult, as we rarely discuss Fi and I think many of us may be Fi-hostile. So I am here to...|||Thanks for your further responses. You're right,  Subtle Murder - I learned that she was enduring a slow and rough breakup. That was finished a few months ago, but we are both still busy and haven't...|||Not much I can say to that, other than, thank you again for sharing what it is like for you. Your descriptions are complete and forthright and I appreciate that.  I enjoy unstructured work as well....|||If it sucks as an INTJ to share Fi and then have the recipient disappear from your life, I'm sure it would be far more difficult for a Fi dom. I'm sorry to hear about your lost friend, and hope you...|||It's great to hear you had such early and positive formative experiences. They really need to make coding literacy a standard part of the curriculum, as early as elementary school - rather than...|||Care to elaborate?|||Thank you all for taking the time to reflect on, and help me understand your Ne. I cherish the relationships I have with the ENFP's and ENTP's in my life and like to invest energy in understanding...|||This is exactly the insight I needed. Thank you. I hadn't considered that all of the possibilities generated by Ne could take work to sort out. I thought it simply meant all these possibilities were...|||We have spoken about this issue and she understands that my one reservation about our relationship concerns our emotional connection. She considers this a detail. It is unclear to me whether she's...|||I should add that your post prompted me to at last investigate Enneagrams. She is a defender-of-the-little-guy type ENFP - very committed to a thankless cause - and also very excited by novelty. I...|||Thanks for your response, that's helpful. Though it brings me down to lose a good friend, I'm not deeply concerned with how the situation resolves: as you say, it will do so one way or the other....|||A while ago I posted thoughts on my ENTP relationship over here in a thread I felt was analogous on the F side (post #4). I'm curious if this relates to your own experiences.  At just over 2 years...|||I understand the idea of Ne, and the ensuing spontaneity and issues with time management. But for the same reason, I would have imagined that eventually, a text would have triggered a spontaneous...|||I have an ENFP friend who has all but vanished. I can't figure it out. I'm not looking to resolve this so much as attempt to better understand how your type works. I would welcome your ENFP insights....|||As the great Bill Nye used to say: coincidence? Or connection?|||Charming. A potato who defends his insults by asserting further character flaws.  Your various type prescriptions in this thread are sorely at odds with typology theory, countless observations by...|||This is flattering. However, I am actually a scientist, so please don't draw conclusions just based on my comments.     Thanks for stepping up. On all counts, you captured my own thoughts and...|||There are no types as obsessed with building a coherent, structured theoretical model of the world as Ni-doms. INFJ's build it with social observations, and INTJ build it with empirical ones. That...'\n",
      "----------------------------------------------------\n"
     ]
    },
    {
     "name": "stdout",
     "output_type": "stream",
     "text": [
      "'I cannot even begin to describe how screwed up everything in my life seems to be.  It would seem unseemly (lol) when on the outside, my life seems to be back on track after a rocky road to nowhere...|||Hey guys  I guess the last confessional thread was lost in the switch to this terrible stupid ugly ass layout?  Oh well the moderators never did know how to make a website look you know, normal or...|||I got J on the last test I took, and I'm INFP.  … Weird|||That show on MTV before 1g5g … it's like a redneck attempt at America's Funniest Home Videos, and just like that show, sucks ass. That new one with Zooey Deschannel in it … what's it called? ...|||hufflepuff.|||omg.  I can't believe I was on the internet for 3 hours ... without music.   http://i229.photobucket.com/albums/ee106/mandycide/tumblr_lunkwx4wDW1qziy6mo1_500.jpg|||what a scary picture in my mind.  ._. no, i mean its dysfunctional :P|||sometimes, my life feels like it resembles this video.    http://www.youtube.com/watch?v=4WX58CZwyiU|||scott is a 2 i think, enneagram. yay!|||http://www.youtube.com/watch?v=1tuowzxkKbQ&feature=related  this isn't nearly as good as the fly scene, but it'll have to do.  I <3 Breaking Bad.|||I enjoy watching sad movies and reading sad books, and hearing life stories, good or sad or bad or whatever.  I don't think this constitutes enjoying pain, i just like to indulge my emotions.  To...|||And it's hard not to let your ego come over you, your defenses build inpenetrable walls surrounding you.  its understanding where another comes from that you feel free letting go.  i love feeling...|||In the past few weeks, i've had really bad headaches, and i fucking hate it.  because the only thing that helps me is talking to others about it, but i can't.  I want to talk to my mother, but she's...|||sooo i'm going to go into uncharted territory and type the characters based on enneagram theory:  Jesse - 7 w/ balanced wings.  Walt - 5w6 Skyler - 9w1 Hank - 9w8 Gus - 3w4 Marie - 1w2 Gale -...|||its a potential disaster.|||The Aquarian personality can be chaotic and unpredictable, stubborn and rebellious, cranky and perverse. It is a sign which can be totally dedicated to being unconventional, whilst remaining stuck in...|||it was after school, hiding behind the neighbours tree while our other two friends waited.  i was 8.    it wasn't slobbery or gross, like the guy i kissed in 15, so in that respect it was way way...|||I am a prolific reader.  I luuuuuuuuuuuuuuv it.   I'd rather paint than write.  I express myself better through art medium than words.  I'm going to write a book at one point.  It seems like a...|||thepgo  glad I could help.|||Dear INFJ  Even though you don't act like an INFJ, you rarely tell your feelings (although the functions all work accordingly).  I know this family doesn't tell eachother much.  I know I blamed you...|||Well, I know exactly what you mean - it can get so bad i can't talk on forums without over-analyzing the placement and intention of every word.  Maybe if you are with your gf more you'll feel more...|||Congratz!! I love reading your posts, they're always silly but insightful ^^|||Hi It looks a lot bigger than it is, by the way. Most of it is just delete a word questions, there's barely any writing.  Have fun!  I plan on it.   1) Describe your parents in one word each....|||From Calvin and Hobbes  Calvin - INFP E5w4  and if anyone's interest holds: Hobbes - ISTP E(?) Mom - ISFJ E9w1 Dad - INTP E6w5|||congratz!  I swear you were boasting about being at 1000 last time I checked, or maybe not.   Either way. ^^|||I love my job!!! the people are nice, hopefully it continues on the next time it's my shift, the person who taught me is super nice and gay (i think) and swears a lot and has a good sense of humor,...|||i dunt wanna go to work.  Even if it is a new job, i wanted to be a server and not a BUSSER.  Fuck bussers, they get no tips. But I called Perkins and the ass doesn't want me *tear* and I have no...|||yehh.  The dramatics in my presentation exquisite.  I was loud, obnoxious, and completely off the wall insane.  & I was humorous until it hurt your sides.  You either hated me or loved me. but I...|||this thread is da bomb ^ snail, your recipes are unique and amazing!! i can't wait to try out the basil one.  mimisea i hate making pie but looking at your pictures made me love it!  Thankyou...|||yes, yes, rather convincing in it's appeal to the senses. lol.|||rejectedreality he is a 4w5 and i posted that so long ago, it's not relevant.|||dumb dumb dumb dumb dumb dumb dumb. bud dub dub dub step.|||it means your a really friendly and helpful intp, yet well read and disciplined. there you go.|||I only read the first page but i would change a guess as 7 for her e-type.|||I think you're overthinking things.  It's not related to mbti or enneagram.  its being human.  Love.|||i used to believe that if I wasn't experienced, i was boring.  so i did lots of things i regret, so that's one.  now i guess it could be that i'm stupid.|||i was dating this guy (though i never wanted to be) and today, i needed to tell him in order to live with myself and order to improve myself and not to lead him on and leave him with an...|||i've noticed this. you base all your resources on what this person's mbti is, and apply it to their personality in a paste.  and it obscures what's really there, because through it all you can't see...|||welcome to the forum and good day to you ^^|||you are quiet. you're weird.   you're WIERD.  and i will offer a thought, which ive heard echping out of the shallow chasms of mens heads everywhere:  can i get in her pants?  and more...|||everything is terrible.   i was taking a picture, crouched down on the bank, when i feel my phone shift in my pocket.  i turn, and i see my phone plop into the lake with a little plip.  goddamn...|||i should stop wasting my friggin life.|||myself - INFP Mother - INFJ Father - ESTP Brother - INTP/ISTP combo|||Brother: 6w7-9w8-? My dear brother who calls me up at 3am to walk over to his house and kill the spider on his wall. -.-  The13thGuest   LOL.|||my mom-  6w5  9w1. (may be 1w9) 3w2  - she is incredibly doubtful but very helpful to her family without asking anything in return.   my dad- 9w8 6w5 3w2 -he is stubborn. very high morals of what...|||well, I just saw Thor this weekend, so here are my thoughts  hopefully you'll excuse the fact that I've never read the actual comic. ;D  Thor: estp 8w7 (sw9w8) -selfishly focused on attaining...|||yes. I do what you do, u do what u do, we all win. how can one expect to get through life as an infp inevitably would, like turtles.|||movies. a lot, but- my girl.|||cead mile failte!  one hundred thousand welcomes. to. you!|||right now, in Saskatchewan Canada it is dreary. the skies are clouded over and this morning it snowed, for five minutes, imagine that! its the karma mother, I say.'\n"
     ]
    }
   ],
   "source": [
    "print_most_characteristic(v_jp, j_test, p_test, clf_jp_c)"
   ]
  },
  {
   "cell_type": "code",
   "execution_count": 97,
   "metadata": {
    "collapsed": true
   },
   "outputs": [],
   "source": [
    "def get_all_classifications(vectors):\n",
    "    i = sum(clf_ei_c.predict(vectors)) / len(vectors)\n",
    "    f = sum(clf_tf_c.predict(vectors)) / len(vectors)\n",
    "    s = sum(clf_ns_c.predict(vectors)) / len(vectors)\n",
    "    p = sum(clf_jp_c.predict(vectors)) / len(vectors)\n",
    "    return i, 1 - i, f, 1 - f, s, 1 - s, p, 1 - p"
   ]
  },
  {
   "cell_type": "code",
   "execution_count": 98,
   "metadata": {},
   "outputs": [
    {
     "name": "stdout",
     "output_type": "stream",
     "text": [
      "0.627811860941\n"
     ]
    }
   ],
   "source": [
    "i, e, f, t, s, n, p, j = get_all_classifications(v_ei[1])\n",
    "print(e)"
   ]
  },
  {
   "cell_type": "code",
   "execution_count": 99,
   "metadata": {
    "collapsed": true
   },
   "outputs": [],
   "source": [
    "tpe = ['i', 'e', 'f', 't', 's', 'n', 'p', 'j'] * 8\n",
    "true = []\n",
    "for t in tpe[:8]:\n",
    "    true += [t] * 8\n",
    "    \n",
    "value  = get_all_classifications(v_ei[3])\n",
    "value += get_all_classifications(v_ei[1])\n",
    "value += get_all_classifications(v_tf[3])\n",
    "value += get_all_classifications(v_tf[1])\n",
    "value += get_all_classifications(v_ns[3])\n",
    "value += get_all_classifications(v_ns[1])\n",
    "value += get_all_classifications(v_jp[3])\n",
    "value += get_all_classifications(v_jp[1])"
   ]
  },
  {
   "cell_type": "code",
   "execution_count": 100,
   "metadata": {},
   "outputs": [
    {
     "data": {
      "image/png": "[encoded data removed]",
      "text/plain": [
       "<matplotlib.figure.Figure at 0x182dab358>"
      ]
     },
     "metadata": {},
     "output_type": "display_data"
    }
   ],
   "source": [
    "df = pd.DataFrame({'True Labels': true, 'Predicted Labels': tpe,  'value': value})\n",
    "\n",
    "\n",
    "\n",
    "plt.figure(figsize=(15, 10))\n",
    "result = df.pivot(index='Predicted Labels', columns='True Labels', values='value')\n",
    "result = result.reindex(tpe[:8], axis=0)\n",
    "result = result.reindex(tpe[:8], axis=1)\n",
    "\n",
    "\n",
    "sns.heatmap(result, annot=True, cmap='viridis')\n",
    "plt.show()"
   ]
  },
  {
   "cell_type": "code",
   "execution_count": null,
   "metadata": {
    "collapsed": true
   },
   "outputs": [],
   "source": []
  }
 ],
 "metadata": {
  "kernelspec": {
   "display_name": "Python 3",
   "language": "python",
   "name": "python3"
  },
  "language_info": {
   "codemirror_mode": {
    "name": "ipython",
    "version": 3
   },
   "file_extension": ".py",
   "mimetype": "text/x-python",
   "name": "python",
   "nbconvert_exporter": "python",
   "pygments_lexer": "ipython3",
   "version": "3.6.2"
  }
 },
 "nbformat": 4,
 "nbformat_minor": 2
}
